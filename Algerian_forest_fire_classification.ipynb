{
  "nbformat": 4,
  "nbformat_minor": 0,
  "metadata": {
    "colab": {
      "name": "Algerian_forest_fire_classification.ipynb",
      "provenance": [],
      "collapsed_sections": []
    },
    "kernelspec": {
      "name": "python3",
      "display_name": "Python 3"
    },
    "language_info": {
      "name": "python"
    }
  },
  "cells": [
    {
      "cell_type": "markdown",
      "source": [
        "# Abstract"
      ],
      "metadata": {
        "id": "DKVXs-8oitJ9"
      }
    },
    {
      "cell_type": "markdown",
      "source": [
        "Forest fires are a major concern all over the world; each year, millions of hectares are lost. Algeria is one of the countries afflicted by this phenomena, which occurs primarily during the summer time. Forest fire detection and forecasting become critical issues for reducing the disaster's damage. Exploration of new fire detection and forecast systems as alternatives to existing ones becomes a necessity. The goal is to predict whether or not the fire will break out based on weather data."
      ],
      "metadata": {
        "id": "uM0A7FC8itAz"
      }
    },
    {
      "cell_type": "markdown",
      "source": [
        "#Information"
      ],
      "metadata": {
        "id": "s0ZOAUbLis-N"
      }
    },
    {
      "cell_type": "markdown",
      "source": [
        "## Data Set Information:"
      ],
      "metadata": {
        "id": "v5smnruTpvtb"
      }
    },
    {
      "cell_type": "markdown",
      "source": [
        "\n",
        "\n",
        "The dataset includes 244 instances that regroup a data of two regions of Algeria,namely the Bejaia region located in the northeast of Algeria and the Sidi Bel-abbes region located in the northwest of Algeria.\n",
        "\n",
        "122 instances for each region.\n",
        "\n",
        "The period from June 2012 to September 2012.\n",
        "The dataset includes 11 attribues and 1 output attribue (class)\n",
        "The 244 instances have been classified into fired (138 classes) and not fired (106 classes) classes."
      ],
      "metadata": {
        "id": "-Zz25xkFmP9Z"
      }
    },
    {
      "cell_type": "markdown",
      "source": [
        "## Attribute information"
      ],
      "metadata": {
        "id": "lXjNDHQjp3Qi"
      }
    },
    {
      "cell_type": "markdown",
      "source": [
        "1. Date : (DD/MM/YYYY) Day, month ('june' to 'september'), year (2012)\n",
        "Weather data observations\n",
        "2. Temp : temperature noon (temperature max) in Celsius degrees: 22 to 42\n",
        "3. RH : Relative Humidity in %: 21 to 90\n",
        "4. Ws :Wind speed in km/h: 6 to 29\n",
        "5. Rain: total day in mm: 0 to 16.8\n",
        "FWI Components\n",
        "6. Fine Fuel Moisture Code (FFMC) index from the FWI system: 28.6 to 92.5\n",
        "7. Duff Moisture Code (DMC) index from the FWI system: 1.1 to 65.9\n",
        "8. Drought Code (DC) index from the FWI system: 7 to 220.4\n",
        "9. Initial Spread Index (ISI) index from the FWI system: 0 to 18.5\n",
        "10. Buildup Index (BUI) index from the FWI system: 1.1 to 68\n",
        "11. Fire Weather Index (FWI) Index: 0 to 31.1\n",
        "12. Classes: two classes, namely â€œFireâ€ and â€œnot Fireâ€\n",
        "\n"
      ],
      "metadata": {
        "id": "l_OQTqDIp8NT"
      }
    },
    {
      "cell_type": "markdown",
      "source": [
        "# Importing the required libraries"
      ],
      "metadata": {
        "id": "-Am7xfbgzxHr"
      }
    },
    {
      "cell_type": "code",
      "execution_count": 87,
      "metadata": {
        "id": "-5v-PvNfirNx"
      },
      "outputs": [],
      "source": [
        "import pandas as pd\n",
        "import numpy as np\n",
        "import matplotlib.pyplot as plt\n",
        "import seaborn as sns\n",
        "from sklearn.preprocessing import StandardScaler\n",
        "from sklearn.model_selection import train_test_split, GridSearchCV, StratifiedKFold\n",
        "from sklearn.preprocessing import OneHotEncoder\n",
        "from sklearn.feature_selection import SelectKBest, chi2, f_classif\n",
        "import plotly.express as px\n",
        "import plotly.graph_objects as go\n",
        "from sklearn.linear_model import LogisticRegression\n",
        "from sklearn.metrics import accuracy_score, precision_score, recall_score, f1_score, roc_curve, auc, confusion_matrix\n",
        "from sklearn.metrics import classification_report, balanced_accuracy_score, explained_variance_score, precision_recall_curve\n",
        "from sklearn.metrics import zero_one_loss, cohen_kappa_score, roc_auc_score\n",
        "from sklearn.tree import DecisionTreeClassifier\n",
        "from sklearn.ensemble import RandomForestClassifier, AdaBoostClassifier\n",
        "from sklearn.neighbors import KNeighborsClassifier\n",
        "from sklearn.naive_bayes import GaussianNB\n",
        "from sklearn.svm import SVC\n",
        "import pickle\n",
        "%matplotlib inline"
      ]
    },
    {
      "cell_type": "markdown",
      "source": [
        "# Reading the dataset"
      ],
      "metadata": {
        "id": "i07ccFy004GB"
      }
    },
    {
      "cell_type": "code",
      "source": [
        "df = pd.read_csv('/content/Algerian_forest_fires_dataset_UPDATE.csv',header=1)\n",
        "#display all the columns of the dataframe\n",
        "pd.set_option('display.max_columns',None)"
      ],
      "metadata": {
        "id": "EnOMc2Xf0jIe"
      },
      "execution_count": 2,
      "outputs": []
    },
    {
      "cell_type": "code",
      "source": [
        "df.head()"
      ],
      "metadata": {
        "colab": {
          "base_uri": "https://localhost:8080/",
          "height": 206
        },
        "id": "B-ZRmF_I0y0W",
        "outputId": "bbc98c33-72e3-4e09-9508-f763dc970520"
      },
      "execution_count": 3,
      "outputs": [
        {
          "output_type": "execute_result",
          "data": {
            "text/plain": [
              "  day month  year Temperature  RH  Ws Rain   FFMC  DMC    DC  ISI  BUI  FWI  \\\n",
              "0  01    06  2012          29  57  18     0  65.7  3.4   7.6  1.3  3.4  0.5   \n",
              "1  02    06  2012          29  61  13   1.3  64.4  4.1   7.6    1  3.9  0.4   \n",
              "2  03    06  2012          26  82  22  13.1  47.1  2.5   7.1  0.3  2.7  0.1   \n",
              "3  04    06  2012          25  89  13   2.5  28.6  1.3   6.9    0  1.7    0   \n",
              "4  05    06  2012          27  77  16     0  64.8    3  14.2  1.2  3.9  0.5   \n",
              "\n",
              "     Classes    \n",
              "0  not fire     \n",
              "1  not fire     \n",
              "2  not fire     \n",
              "3  not fire     \n",
              "4  not fire     "
            ],
            "text/html": [
              "\n",
              "  <div id=\"df-dd15eee2-ab02-4c62-b98c-e0ed9dae40b9\">\n",
              "    <div class=\"colab-df-container\">\n",
              "      <div>\n",
              "<style scoped>\n",
              "    .dataframe tbody tr th:only-of-type {\n",
              "        vertical-align: middle;\n",
              "    }\n",
              "\n",
              "    .dataframe tbody tr th {\n",
              "        vertical-align: top;\n",
              "    }\n",
              "\n",
              "    .dataframe thead th {\n",
              "        text-align: right;\n",
              "    }\n",
              "</style>\n",
              "<table border=\"1\" class=\"dataframe\">\n",
              "  <thead>\n",
              "    <tr style=\"text-align: right;\">\n",
              "      <th></th>\n",
              "      <th>day</th>\n",
              "      <th>month</th>\n",
              "      <th>year</th>\n",
              "      <th>Temperature</th>\n",
              "      <th>RH</th>\n",
              "      <th>Ws</th>\n",
              "      <th>Rain</th>\n",
              "      <th>FFMC</th>\n",
              "      <th>DMC</th>\n",
              "      <th>DC</th>\n",
              "      <th>ISI</th>\n",
              "      <th>BUI</th>\n",
              "      <th>FWI</th>\n",
              "      <th>Classes</th>\n",
              "    </tr>\n",
              "  </thead>\n",
              "  <tbody>\n",
              "    <tr>\n",
              "      <th>0</th>\n",
              "      <td>01</td>\n",
              "      <td>06</td>\n",
              "      <td>2012</td>\n",
              "      <td>29</td>\n",
              "      <td>57</td>\n",
              "      <td>18</td>\n",
              "      <td>0</td>\n",
              "      <td>65.7</td>\n",
              "      <td>3.4</td>\n",
              "      <td>7.6</td>\n",
              "      <td>1.3</td>\n",
              "      <td>3.4</td>\n",
              "      <td>0.5</td>\n",
              "      <td>not fire</td>\n",
              "    </tr>\n",
              "    <tr>\n",
              "      <th>1</th>\n",
              "      <td>02</td>\n",
              "      <td>06</td>\n",
              "      <td>2012</td>\n",
              "      <td>29</td>\n",
              "      <td>61</td>\n",
              "      <td>13</td>\n",
              "      <td>1.3</td>\n",
              "      <td>64.4</td>\n",
              "      <td>4.1</td>\n",
              "      <td>7.6</td>\n",
              "      <td>1</td>\n",
              "      <td>3.9</td>\n",
              "      <td>0.4</td>\n",
              "      <td>not fire</td>\n",
              "    </tr>\n",
              "    <tr>\n",
              "      <th>2</th>\n",
              "      <td>03</td>\n",
              "      <td>06</td>\n",
              "      <td>2012</td>\n",
              "      <td>26</td>\n",
              "      <td>82</td>\n",
              "      <td>22</td>\n",
              "      <td>13.1</td>\n",
              "      <td>47.1</td>\n",
              "      <td>2.5</td>\n",
              "      <td>7.1</td>\n",
              "      <td>0.3</td>\n",
              "      <td>2.7</td>\n",
              "      <td>0.1</td>\n",
              "      <td>not fire</td>\n",
              "    </tr>\n",
              "    <tr>\n",
              "      <th>3</th>\n",
              "      <td>04</td>\n",
              "      <td>06</td>\n",
              "      <td>2012</td>\n",
              "      <td>25</td>\n",
              "      <td>89</td>\n",
              "      <td>13</td>\n",
              "      <td>2.5</td>\n",
              "      <td>28.6</td>\n",
              "      <td>1.3</td>\n",
              "      <td>6.9</td>\n",
              "      <td>0</td>\n",
              "      <td>1.7</td>\n",
              "      <td>0</td>\n",
              "      <td>not fire</td>\n",
              "    </tr>\n",
              "    <tr>\n",
              "      <th>4</th>\n",
              "      <td>05</td>\n",
              "      <td>06</td>\n",
              "      <td>2012</td>\n",
              "      <td>27</td>\n",
              "      <td>77</td>\n",
              "      <td>16</td>\n",
              "      <td>0</td>\n",
              "      <td>64.8</td>\n",
              "      <td>3</td>\n",
              "      <td>14.2</td>\n",
              "      <td>1.2</td>\n",
              "      <td>3.9</td>\n",
              "      <td>0.5</td>\n",
              "      <td>not fire</td>\n",
              "    </tr>\n",
              "  </tbody>\n",
              "</table>\n",
              "</div>\n",
              "      <button class=\"colab-df-convert\" onclick=\"convertToInteractive('df-dd15eee2-ab02-4c62-b98c-e0ed9dae40b9')\"\n",
              "              title=\"Convert this dataframe to an interactive table.\"\n",
              "              style=\"display:none;\">\n",
              "        \n",
              "  <svg xmlns=\"http://www.w3.org/2000/svg\" height=\"24px\"viewBox=\"0 0 24 24\"\n",
              "       width=\"24px\">\n",
              "    <path d=\"M0 0h24v24H0V0z\" fill=\"none\"/>\n",
              "    <path d=\"M18.56 5.44l.94 2.06.94-2.06 2.06-.94-2.06-.94-.94-2.06-.94 2.06-2.06.94zm-11 1L8.5 8.5l.94-2.06 2.06-.94-2.06-.94L8.5 2.5l-.94 2.06-2.06.94zm10 10l.94 2.06.94-2.06 2.06-.94-2.06-.94-.94-2.06-.94 2.06-2.06.94z\"/><path d=\"M17.41 7.96l-1.37-1.37c-.4-.4-.92-.59-1.43-.59-.52 0-1.04.2-1.43.59L10.3 9.45l-7.72 7.72c-.78.78-.78 2.05 0 2.83L4 21.41c.39.39.9.59 1.41.59.51 0 1.02-.2 1.41-.59l7.78-7.78 2.81-2.81c.8-.78.8-2.07 0-2.86zM5.41 20L4 18.59l7.72-7.72 1.47 1.35L5.41 20z\"/>\n",
              "  </svg>\n",
              "      </button>\n",
              "      \n",
              "  <style>\n",
              "    .colab-df-container {\n",
              "      display:flex;\n",
              "      flex-wrap:wrap;\n",
              "      gap: 12px;\n",
              "    }\n",
              "\n",
              "    .colab-df-convert {\n",
              "      background-color: #E8F0FE;\n",
              "      border: none;\n",
              "      border-radius: 50%;\n",
              "      cursor: pointer;\n",
              "      display: none;\n",
              "      fill: #1967D2;\n",
              "      height: 32px;\n",
              "      padding: 0 0 0 0;\n",
              "      width: 32px;\n",
              "    }\n",
              "\n",
              "    .colab-df-convert:hover {\n",
              "      background-color: #E2EBFA;\n",
              "      box-shadow: 0px 1px 2px rgba(60, 64, 67, 0.3), 0px 1px 3px 1px rgba(60, 64, 67, 0.15);\n",
              "      fill: #174EA6;\n",
              "    }\n",
              "\n",
              "    [theme=dark] .colab-df-convert {\n",
              "      background-color: #3B4455;\n",
              "      fill: #D2E3FC;\n",
              "    }\n",
              "\n",
              "    [theme=dark] .colab-df-convert:hover {\n",
              "      background-color: #434B5C;\n",
              "      box-shadow: 0px 1px 3px 1px rgba(0, 0, 0, 0.15);\n",
              "      filter: drop-shadow(0px 1px 2px rgba(0, 0, 0, 0.3));\n",
              "      fill: #FFFFFF;\n",
              "    }\n",
              "  </style>\n",
              "\n",
              "      <script>\n",
              "        const buttonEl =\n",
              "          document.querySelector('#df-dd15eee2-ab02-4c62-b98c-e0ed9dae40b9 button.colab-df-convert');\n",
              "        buttonEl.style.display =\n",
              "          google.colab.kernel.accessAllowed ? 'block' : 'none';\n",
              "\n",
              "        async function convertToInteractive(key) {\n",
              "          const element = document.querySelector('#df-dd15eee2-ab02-4c62-b98c-e0ed9dae40b9');\n",
              "          const dataTable =\n",
              "            await google.colab.kernel.invokeFunction('convertToInteractive',\n",
              "                                                     [key], {});\n",
              "          if (!dataTable) return;\n",
              "\n",
              "          const docLinkHtml = 'Like what you see? Visit the ' +\n",
              "            '<a target=\"_blank\" href=https://colab.research.google.com/notebooks/data_table.ipynb>data table notebook</a>'\n",
              "            + ' to learn more about interactive tables.';\n",
              "          element.innerHTML = '';\n",
              "          dataTable['output_type'] = 'display_data';\n",
              "          await google.colab.output.renderOutput(dataTable, element);\n",
              "          const docLink = document.createElement('div');\n",
              "          docLink.innerHTML = docLinkHtml;\n",
              "          element.appendChild(docLink);\n",
              "        }\n",
              "      </script>\n",
              "    </div>\n",
              "  </div>\n",
              "  "
            ]
          },
          "metadata": {},
          "execution_count": 3
        }
      ]
    },
    {
      "cell_type": "code",
      "source": [
        "#Print shape of Dataset with rows and columns\n",
        "print(df.shape)"
      ],
      "metadata": {
        "colab": {
          "base_uri": "https://localhost:8080/"
        },
        "id": "QVg9SfqT0zgu",
        "outputId": "499419f4-f456-4072-8948-4b79636bec04"
      },
      "execution_count": 4,
      "outputs": [
        {
          "output_type": "stream",
          "name": "stdout",
          "text": [
            "(246, 14)\n"
          ]
        }
      ]
    },
    {
      "cell_type": "markdown",
      "source": [
        "# Data Analysis\n",
        "\n",
        "In Data analysis we will analyse to find the below stuff\n",
        "\n",
        "1. Dataset info\n",
        "2. Dataset description\n",
        "3. Missing values\n",
        "4. All the Numerical variables\n",
        "5. Distribution of Numerical variables\n",
        "6. Categorical variables\n",
        "7. Outliers\n",
        "8. Relationship between independent and dependent features"
      ],
      "metadata": {
        "id": "XqsYIkFpIh5Z"
      }
    },
    {
      "cell_type": "markdown",
      "source": [
        "## Dataset Info"
      ],
      "metadata": {
        "id": "ryOGYRm1I_8Y"
      }
    },
    {
      "cell_type": "code",
      "source": [
        "df.info()"
      ],
      "metadata": {
        "colab": {
          "base_uri": "https://localhost:8080/"
        },
        "id": "hX9jjGaJIYzt",
        "outputId": "5c90fe58-a105-4797-dedc-07c559de10ce"
      },
      "execution_count": 5,
      "outputs": [
        {
          "output_type": "stream",
          "name": "stdout",
          "text": [
            "<class 'pandas.core.frame.DataFrame'>\n",
            "RangeIndex: 246 entries, 0 to 245\n",
            "Data columns (total 14 columns):\n",
            " #   Column       Non-Null Count  Dtype \n",
            "---  ------       --------------  ----- \n",
            " 0   day          246 non-null    object\n",
            " 1   month        245 non-null    object\n",
            " 2   year         245 non-null    object\n",
            " 3   Temperature  245 non-null    object\n",
            " 4    RH          245 non-null    object\n",
            " 5    Ws          245 non-null    object\n",
            " 6   Rain         245 non-null    object\n",
            " 7   FFMC         245 non-null    object\n",
            " 8   DMC          245 non-null    object\n",
            " 9   DC           245 non-null    object\n",
            " 10  ISI          245 non-null    object\n",
            " 11  BUI          245 non-null    object\n",
            " 12  FWI          245 non-null    object\n",
            " 13  Classes      244 non-null    object\n",
            "dtypes: object(14)\n",
            "memory usage: 27.0+ KB\n"
          ]
        }
      ]
    },
    {
      "cell_type": "code",
      "source": [
        "df['day'].unique()"
      ],
      "metadata": {
        "colab": {
          "base_uri": "https://localhost:8080/"
        },
        "id": "1Y_RYMe-JEHF",
        "outputId": "f9fac500-876b-4588-c37f-f2f822dad525"
      },
      "execution_count": 6,
      "outputs": [
        {
          "output_type": "execute_result",
          "data": {
            "text/plain": [
              "array(['01', '02', '03', '04', '05', '06', '07', '08', '09', '10', '11',\n",
              "       '12', '13', '14', '15', '16', '17', '18', '19', '20', '21', '22',\n",
              "       '23', '24', '25', '26', '27', '28', '29', '30', '31',\n",
              "       'Sidi-Bel Abbes Region Dataset', 'day'], dtype=object)"
            ]
          },
          "metadata": {},
          "execution_count": 6
        }
      ]
    },
    {
      "cell_type": "markdown",
      "source": [
        "looks like the header is getting repeated for other region, so we need to remove those rows"
      ],
      "metadata": {
        "id": "4sCM0d4oJ6WB"
      }
    },
    {
      "cell_type": "code",
      "source": [
        "data = df.copy()\n",
        "print(data.shape)\n",
        "data = data.dropna(how = 'all')\n",
        "print(data.shape)"
      ],
      "metadata": {
        "colab": {
          "base_uri": "https://localhost:8080/"
        },
        "id": "dV7PFmfZJhej",
        "outputId": "f84d1e5a-7c57-414f-964b-640190f3a719"
      },
      "execution_count": 7,
      "outputs": [
        {
          "output_type": "stream",
          "name": "stdout",
          "text": [
            "(246, 14)\n",
            "(246, 14)\n"
          ]
        }
      ]
    },
    {
      "cell_type": "code",
      "source": [
        "data.drop(data[data['day'] == 'Sidi-Bel Abbes Region Dataset'].index, inplace = True)"
      ],
      "metadata": {
        "id": "QntfL-UWLNBv"
      },
      "execution_count": 8,
      "outputs": []
    },
    {
      "cell_type": "code",
      "source": [
        "data.drop(data[data['day'] == 'day'].index, inplace = True)"
      ],
      "metadata": {
        "id": "XGIdreagLrZ5"
      },
      "execution_count": 9,
      "outputs": []
    },
    {
      "cell_type": "code",
      "source": [
        "data.isnull().sum()"
      ],
      "metadata": {
        "colab": {
          "base_uri": "https://localhost:8080/"
        },
        "id": "222QDnHwLu_P",
        "outputId": "387eecaf-8e71-44f4-8574-01e4fcefb124"
      },
      "execution_count": 10,
      "outputs": [
        {
          "output_type": "execute_result",
          "data": {
            "text/plain": [
              "day            0\n",
              "month          0\n",
              "year           0\n",
              "Temperature    0\n",
              " RH            0\n",
              " Ws            0\n",
              "Rain           0\n",
              "FFMC           0\n",
              "DMC            0\n",
              "DC             0\n",
              "ISI            0\n",
              "BUI            0\n",
              "FWI            0\n",
              "Classes        1\n",
              "dtype: int64"
            ]
          },
          "metadata": {},
          "execution_count": 10
        }
      ]
    },
    {
      "cell_type": "code",
      "source": [
        "data.info()"
      ],
      "metadata": {
        "colab": {
          "base_uri": "https://localhost:8080/"
        },
        "id": "q_zkoQH7LxJW",
        "outputId": "6a42b441-b702-4390-b436-658649add09a"
      },
      "execution_count": 11,
      "outputs": [
        {
          "output_type": "stream",
          "name": "stdout",
          "text": [
            "<class 'pandas.core.frame.DataFrame'>\n",
            "Int64Index: 244 entries, 0 to 245\n",
            "Data columns (total 14 columns):\n",
            " #   Column       Non-Null Count  Dtype \n",
            "---  ------       --------------  ----- \n",
            " 0   day          244 non-null    object\n",
            " 1   month        244 non-null    object\n",
            " 2   year         244 non-null    object\n",
            " 3   Temperature  244 non-null    object\n",
            " 4    RH          244 non-null    object\n",
            " 5    Ws          244 non-null    object\n",
            " 6   Rain         244 non-null    object\n",
            " 7   FFMC         244 non-null    object\n",
            " 8   DMC          244 non-null    object\n",
            " 9   DC           244 non-null    object\n",
            " 10  ISI          244 non-null    object\n",
            " 11  BUI          244 non-null    object\n",
            " 12  FWI          244 non-null    object\n",
            " 13  Classes      243 non-null    object\n",
            "dtypes: object(14)\n",
            "memory usage: 28.6+ KB\n"
          ]
        }
      ]
    },
    {
      "cell_type": "code",
      "source": [
        "#unique values in FWI column\n",
        "data['FWI'].unique()"
      ],
      "metadata": {
        "colab": {
          "base_uri": "https://localhost:8080/"
        },
        "id": "j_xYzX0fQFLH",
        "outputId": "922de9f2-d852-41bd-d430-704cf082bfef"
      },
      "execution_count": 12,
      "outputs": [
        {
          "output_type": "execute_result",
          "data": {
            "text/plain": [
              "array(['0.5', '0.4', '0.1', '0', '2.5', '7.2', '7.1', '0.3', '0.9', '5.6',\n",
              "       '7.1 ', '0.2', '1.4', '2.2', '2.3', '3.8', '7.5', '8.4', '10.6',\n",
              "       '15', '13.9', '3.9', '12.9', '1.7', '4.9', '6.8', '3.2', '8',\n",
              "       '0.6', '3.4', '0.8', '3.6', '6', '10.9', '4', '8.8', '2.8', '2.1',\n",
              "       '1.3', '7.3', '15.3', '11.3', '11.9', '10.7', '15.7', '6.1', '2.6',\n",
              "       '9.9', '11.6', '12.1', '4.2', '10.2', '6.3', '14.6', '16.1',\n",
              "       '17.2', '16.8', '18.4', '20.4', '22.3', '20.9', '20.3', '13.7',\n",
              "       '13.2', '19.9', '30.2', '5.9', '7.7', '9.7', '8.3', '0.7', '4.1',\n",
              "       '1', '3.1', '1.9', '10', '16.7', '1.2', '5.3', '6.7', '9.5', '12',\n",
              "       '6.4', '5.2', '3', '9.6', '4.7', 'fire   ', '14.1', '9.1', '13',\n",
              "       '17.3', '30', '25.4', '16.3', '9', '14.5', '13.5', '19.5', '12.6',\n",
              "       '12.7', '21.6', '18.8', '10.5', '5.5', '14.8', '24', '26.3',\n",
              "       '12.2', '18.1', '24.5', '26.9', '31.1', '30.3', '26.1', '16',\n",
              "       '19.4', '2.7', '3.7', '10.3', '5.7', '9.8', '19.3', '17.5', '15.4',\n",
              "       '15.2', '6.5'], dtype=object)"
            ]
          },
          "metadata": {},
          "execution_count": 12
        }
      ]
    },
    {
      "cell_type": "markdown",
      "source": [
        "We could see that one of the class value 'fire' moved into this FWI column. Looks like some values are not arranged properly.\n",
        "\n",
        "Before that, the column names contains leading and trial spaces and also the target column values contains spaces. We need to trim those"
      ],
      "metadata": {
        "id": "NX6IsFLvSK_p"
      }
    },
    {
      "cell_type": "markdown",
      "source": [
        "## Correcting coloumn names and values"
      ],
      "metadata": {
        "id": "DZ8mef7M807Q"
      }
    },
    {
      "cell_type": "code",
      "source": [
        "data.columns = data.columns.str.rstrip()\n",
        "data.columns = data.columns.str.lstrip()"
      ],
      "metadata": {
        "id": "TaH6GMKfRKgc"
      },
      "execution_count": 13,
      "outputs": []
    },
    {
      "cell_type": "code",
      "source": [
        "data.columns"
      ],
      "metadata": {
        "colab": {
          "base_uri": "https://localhost:8080/"
        },
        "id": "LY93z2C_Rgnf",
        "outputId": "193b8170-6aef-4be0-e730-58ae8c15b8db"
      },
      "execution_count": 14,
      "outputs": [
        {
          "output_type": "execute_result",
          "data": {
            "text/plain": [
              "Index(['day', 'month', 'year', 'Temperature', 'RH', 'Ws', 'Rain', 'FFMC',\n",
              "       'DMC', 'DC', 'ISI', 'BUI', 'FWI', 'Classes'],\n",
              "      dtype='object')"
            ]
          },
          "metadata": {},
          "execution_count": 14
        }
      ]
    },
    {
      "cell_type": "code",
      "source": [
        "data['Classes'].unique()"
      ],
      "metadata": {
        "colab": {
          "base_uri": "https://localhost:8080/"
        },
        "id": "ttnwuthGRnkU",
        "outputId": "bf30f200-ef46-43ff-ca74-d12e3f04ce4f"
      },
      "execution_count": 15,
      "outputs": [
        {
          "output_type": "execute_result",
          "data": {
            "text/plain": [
              "array(['not fire   ', 'fire   ', 'fire', 'fire ', 'not fire', 'not fire ',\n",
              "       'not fire     ', nan, 'not fire    '], dtype=object)"
            ]
          },
          "metadata": {},
          "execution_count": 15
        }
      ]
    },
    {
      "cell_type": "code",
      "source": [
        "data['Classes'] = data['Classes'].str.rstrip()\n",
        "data['Classes'].unique()"
      ],
      "metadata": {
        "colab": {
          "base_uri": "https://localhost:8080/"
        },
        "id": "he2XAbCqRvVv",
        "outputId": "cfc6fcbd-ac4e-4a1b-f425-458dca214dd7"
      },
      "execution_count": 16,
      "outputs": [
        {
          "output_type": "execute_result",
          "data": {
            "text/plain": [
              "array(['not fire', 'fire', nan], dtype=object)"
            ]
          },
          "metadata": {},
          "execution_count": 16
        }
      ]
    },
    {
      "cell_type": "markdown",
      "source": [
        "Correcting the particular entry in the dataset which was not alligned properly earlier"
      ],
      "metadata": {
        "id": "_y2b1HUuVlJX"
      }
    },
    {
      "cell_type": "code",
      "source": [
        "data['ISI'] = np.where(data['DC'] == '14.6 9','9',data['ISI'])\n",
        "data['BUI'] = np.where(data['DC'] == '14.6 9','12.5',data['BUI'])\n",
        "data['FWI'] = np.where(data['DC'] == '14.6 9','10.4',data['FWI'])\n",
        "data['Classes'] = np.where(data['DC'] == '14.6 9','fire',data['Classes'])\n",
        "data['DC'] = np.where(data['DC'] == '14.6 9','14.6',data['DC'])"
      ],
      "metadata": {
        "id": "fmgUMZh6QVv6"
      },
      "execution_count": 17,
      "outputs": []
    },
    {
      "cell_type": "code",
      "source": [
        "data['FWI'].unique()"
      ],
      "metadata": {
        "colab": {
          "base_uri": "https://localhost:8080/"
        },
        "id": "PrZG5YauQw6P",
        "outputId": "abda5a6b-4b0a-4bc9-802b-80f50a45f705"
      },
      "execution_count": 18,
      "outputs": [
        {
          "output_type": "execute_result",
          "data": {
            "text/plain": [
              "array(['0.5', '0.4', '0.1', '0', '2.5', '7.2', '7.1', '0.3', '0.9', '5.6',\n",
              "       '7.1 ', '0.2', '1.4', '2.2', '2.3', '3.8', '7.5', '8.4', '10.6',\n",
              "       '15', '13.9', '3.9', '12.9', '1.7', '4.9', '6.8', '3.2', '8',\n",
              "       '0.6', '3.4', '0.8', '3.6', '6', '10.9', '4', '8.8', '2.8', '2.1',\n",
              "       '1.3', '7.3', '15.3', '11.3', '11.9', '10.7', '15.7', '6.1', '2.6',\n",
              "       '9.9', '11.6', '12.1', '4.2', '10.2', '6.3', '14.6', '16.1',\n",
              "       '17.2', '16.8', '18.4', '20.4', '22.3', '20.9', '20.3', '13.7',\n",
              "       '13.2', '19.9', '30.2', '5.9', '7.7', '9.7', '8.3', '0.7', '4.1',\n",
              "       '1', '3.1', '1.9', '10', '16.7', '1.2', '5.3', '6.7', '9.5', '12',\n",
              "       '6.4', '5.2', '3', '9.6', '4.7', '10.4', '14.1', '9.1', '13',\n",
              "       '17.3', '30', '25.4', '16.3', '9', '14.5', '13.5', '19.5', '12.6',\n",
              "       '12.7', '21.6', '18.8', '10.5', '5.5', '14.8', '24', '26.3',\n",
              "       '12.2', '18.1', '24.5', '26.9', '31.1', '30.3', '26.1', '16',\n",
              "       '19.4', '2.7', '3.7', '10.3', '5.7', '9.8', '19.3', '17.5', '15.4',\n",
              "       '15.2', '6.5'], dtype=object)"
            ]
          },
          "metadata": {},
          "execution_count": 18
        }
      ]
    },
    {
      "cell_type": "markdown",
      "source": [
        "## Type casting column values to corresponding datatype"
      ],
      "metadata": {
        "id": "lAtcTOKG8qXr"
      }
    },
    {
      "cell_type": "code",
      "source": [
        "data.info()"
      ],
      "metadata": {
        "colab": {
          "base_uri": "https://localhost:8080/"
        },
        "id": "h6mNusTvUoS4",
        "outputId": "e6f17b3a-0e64-4164-b70b-9b02438a366c"
      },
      "execution_count": 19,
      "outputs": [
        {
          "output_type": "stream",
          "name": "stdout",
          "text": [
            "<class 'pandas.core.frame.DataFrame'>\n",
            "Int64Index: 244 entries, 0 to 245\n",
            "Data columns (total 14 columns):\n",
            " #   Column       Non-Null Count  Dtype \n",
            "---  ------       --------------  ----- \n",
            " 0   day          244 non-null    object\n",
            " 1   month        244 non-null    object\n",
            " 2   year         244 non-null    object\n",
            " 3   Temperature  244 non-null    object\n",
            " 4   RH           244 non-null    object\n",
            " 5   Ws           244 non-null    object\n",
            " 6   Rain         244 non-null    object\n",
            " 7   FFMC         244 non-null    object\n",
            " 8   DMC          244 non-null    object\n",
            " 9   DC           244 non-null    object\n",
            " 10  ISI          244 non-null    object\n",
            " 11  BUI          244 non-null    object\n",
            " 12  FWI          244 non-null    object\n",
            " 13  Classes      244 non-null    object\n",
            "dtypes: object(14)\n",
            "memory usage: 28.6+ KB\n"
          ]
        }
      ]
    },
    {
      "cell_type": "code",
      "source": [
        "#Identifying integer and float columns\n",
        "int_columns = data.columns[0:6]\n",
        "int_columns"
      ],
      "metadata": {
        "colab": {
          "base_uri": "https://localhost:8080/"
        },
        "id": "Mh6UWsjK9ISA",
        "outputId": "46ba383c-6bb9-4eb3-8568-3376b4794157"
      },
      "execution_count": 20,
      "outputs": [
        {
          "output_type": "execute_result",
          "data": {
            "text/plain": [
              "Index(['day', 'month', 'year', 'Temperature', 'RH', 'Ws'], dtype='object')"
            ]
          },
          "metadata": {},
          "execution_count": 20
        }
      ]
    },
    {
      "cell_type": "code",
      "source": [
        "float_columns = data.columns[6:-1]\n",
        "float_columns"
      ],
      "metadata": {
        "colab": {
          "base_uri": "https://localhost:8080/"
        },
        "id": "Lwn9OSz09f00",
        "outputId": "dfd3d0d5-3db6-4473-a2d4-d6289109a582"
      },
      "execution_count": 21,
      "outputs": [
        {
          "output_type": "execute_result",
          "data": {
            "text/plain": [
              "Index(['Rain', 'FFMC', 'DMC', 'DC', 'ISI', 'BUI', 'FWI'], dtype='object')"
            ]
          },
          "metadata": {},
          "execution_count": 21
        }
      ]
    },
    {
      "cell_type": "code",
      "source": [
        "data[int_columns] = data[int_columns].astype('int')\n",
        "data[float_columns] = data[float_columns].astype('float')"
      ],
      "metadata": {
        "id": "TqCzAetI94YS"
      },
      "execution_count": 22,
      "outputs": []
    },
    {
      "cell_type": "code",
      "source": [
        "data.info()"
      ],
      "metadata": {
        "colab": {
          "base_uri": "https://localhost:8080/"
        },
        "id": "KhtpYe4N-sk0",
        "outputId": "56d5293c-4f3d-4c5e-9710-4339d2ca4c78"
      },
      "execution_count": 23,
      "outputs": [
        {
          "output_type": "stream",
          "name": "stdout",
          "text": [
            "<class 'pandas.core.frame.DataFrame'>\n",
            "Int64Index: 244 entries, 0 to 245\n",
            "Data columns (total 14 columns):\n",
            " #   Column       Non-Null Count  Dtype  \n",
            "---  ------       --------------  -----  \n",
            " 0   day          244 non-null    int64  \n",
            " 1   month        244 non-null    int64  \n",
            " 2   year         244 non-null    int64  \n",
            " 3   Temperature  244 non-null    int64  \n",
            " 4   RH           244 non-null    int64  \n",
            " 5   Ws           244 non-null    int64  \n",
            " 6   Rain         244 non-null    float64\n",
            " 7   FFMC         244 non-null    float64\n",
            " 8   DMC          244 non-null    float64\n",
            " 9   DC           244 non-null    float64\n",
            " 10  ISI          244 non-null    float64\n",
            " 11  BUI          244 non-null    float64\n",
            " 12  FWI          244 non-null    float64\n",
            " 13  Classes      244 non-null    object \n",
            "dtypes: float64(7), int64(6), object(1)\n",
            "memory usage: 28.6+ KB\n"
          ]
        }
      ]
    },
    {
      "cell_type": "markdown",
      "source": [
        "## Data description"
      ],
      "metadata": {
        "id": "xCSjEIla-71J"
      }
    },
    {
      "cell_type": "code",
      "source": [
        "data.describe()"
      ],
      "metadata": {
        "colab": {
          "base_uri": "https://localhost:8080/",
          "height": 364
        },
        "id": "JS3NJbuI-vkn",
        "outputId": "d0876e30-1691-482f-fa6b-19d465427b75"
      },
      "execution_count": 24,
      "outputs": [
        {
          "output_type": "execute_result",
          "data": {
            "text/plain": [
              "              day       month    year  Temperature          RH          Ws  \\\n",
              "count  244.000000  244.000000   244.0   244.000000  244.000000  244.000000   \n",
              "mean    15.754098    7.500000  2012.0    32.172131   61.938525   15.504098   \n",
              "std      8.825059    1.112961     0.0     3.633843   14.884200    2.810178   \n",
              "min      1.000000    6.000000  2012.0    22.000000   21.000000    6.000000   \n",
              "25%      8.000000    7.000000  2012.0    30.000000   52.000000   14.000000   \n",
              "50%     16.000000    7.500000  2012.0    32.000000   63.000000   15.000000   \n",
              "75%     23.000000    8.000000  2012.0    35.000000   73.250000   17.000000   \n",
              "max     31.000000    9.000000  2012.0    42.000000   90.000000   29.000000   \n",
              "\n",
              "             Rain        FFMC         DMC          DC         ISI         BUI  \\\n",
              "count  244.000000  244.000000  244.000000  244.000000  244.000000  244.000000   \n",
              "mean     0.760656   77.887705   14.673361   49.288115    4.759836   16.673361   \n",
              "std      1.999406   14.337571   12.368039   47.619662    4.154628   14.201648   \n",
              "min      0.000000   28.600000    0.700000    6.900000    0.000000    1.100000   \n",
              "25%      0.000000   72.075000    5.800000   13.275000    1.400000    6.000000   \n",
              "50%      0.000000   83.500000   11.300000   33.100000    3.500000   12.450000   \n",
              "75%      0.500000   88.300000   20.750000   68.150000    7.300000   22.525000   \n",
              "max     16.800000   96.000000   65.900000  220.400000   19.000000   68.000000   \n",
              "\n",
              "              FWI  \n",
              "count  244.000000  \n",
              "mean     7.049180  \n",
              "std      7.428366  \n",
              "min      0.000000  \n",
              "25%      0.700000  \n",
              "50%      4.450000  \n",
              "75%     11.375000  \n",
              "max     31.100000  "
            ],
            "text/html": [
              "\n",
              "  <div id=\"df-2f10c5a7-5887-41cc-bbda-c645fb518702\">\n",
              "    <div class=\"colab-df-container\">\n",
              "      <div>\n",
              "<style scoped>\n",
              "    .dataframe tbody tr th:only-of-type {\n",
              "        vertical-align: middle;\n",
              "    }\n",
              "\n",
              "    .dataframe tbody tr th {\n",
              "        vertical-align: top;\n",
              "    }\n",
              "\n",
              "    .dataframe thead th {\n",
              "        text-align: right;\n",
              "    }\n",
              "</style>\n",
              "<table border=\"1\" class=\"dataframe\">\n",
              "  <thead>\n",
              "    <tr style=\"text-align: right;\">\n",
              "      <th></th>\n",
              "      <th>day</th>\n",
              "      <th>month</th>\n",
              "      <th>year</th>\n",
              "      <th>Temperature</th>\n",
              "      <th>RH</th>\n",
              "      <th>Ws</th>\n",
              "      <th>Rain</th>\n",
              "      <th>FFMC</th>\n",
              "      <th>DMC</th>\n",
              "      <th>DC</th>\n",
              "      <th>ISI</th>\n",
              "      <th>BUI</th>\n",
              "      <th>FWI</th>\n",
              "    </tr>\n",
              "  </thead>\n",
              "  <tbody>\n",
              "    <tr>\n",
              "      <th>count</th>\n",
              "      <td>244.000000</td>\n",
              "      <td>244.000000</td>\n",
              "      <td>244.0</td>\n",
              "      <td>244.000000</td>\n",
              "      <td>244.000000</td>\n",
              "      <td>244.000000</td>\n",
              "      <td>244.000000</td>\n",
              "      <td>244.000000</td>\n",
              "      <td>244.000000</td>\n",
              "      <td>244.000000</td>\n",
              "      <td>244.000000</td>\n",
              "      <td>244.000000</td>\n",
              "      <td>244.000000</td>\n",
              "    </tr>\n",
              "    <tr>\n",
              "      <th>mean</th>\n",
              "      <td>15.754098</td>\n",
              "      <td>7.500000</td>\n",
              "      <td>2012.0</td>\n",
              "      <td>32.172131</td>\n",
              "      <td>61.938525</td>\n",
              "      <td>15.504098</td>\n",
              "      <td>0.760656</td>\n",
              "      <td>77.887705</td>\n",
              "      <td>14.673361</td>\n",
              "      <td>49.288115</td>\n",
              "      <td>4.759836</td>\n",
              "      <td>16.673361</td>\n",
              "      <td>7.049180</td>\n",
              "    </tr>\n",
              "    <tr>\n",
              "      <th>std</th>\n",
              "      <td>8.825059</td>\n",
              "      <td>1.112961</td>\n",
              "      <td>0.0</td>\n",
              "      <td>3.633843</td>\n",
              "      <td>14.884200</td>\n",
              "      <td>2.810178</td>\n",
              "      <td>1.999406</td>\n",
              "      <td>14.337571</td>\n",
              "      <td>12.368039</td>\n",
              "      <td>47.619662</td>\n",
              "      <td>4.154628</td>\n",
              "      <td>14.201648</td>\n",
              "      <td>7.428366</td>\n",
              "    </tr>\n",
              "    <tr>\n",
              "      <th>min</th>\n",
              "      <td>1.000000</td>\n",
              "      <td>6.000000</td>\n",
              "      <td>2012.0</td>\n",
              "      <td>22.000000</td>\n",
              "      <td>21.000000</td>\n",
              "      <td>6.000000</td>\n",
              "      <td>0.000000</td>\n",
              "      <td>28.600000</td>\n",
              "      <td>0.700000</td>\n",
              "      <td>6.900000</td>\n",
              "      <td>0.000000</td>\n",
              "      <td>1.100000</td>\n",
              "      <td>0.000000</td>\n",
              "    </tr>\n",
              "    <tr>\n",
              "      <th>25%</th>\n",
              "      <td>8.000000</td>\n",
              "      <td>7.000000</td>\n",
              "      <td>2012.0</td>\n",
              "      <td>30.000000</td>\n",
              "      <td>52.000000</td>\n",
              "      <td>14.000000</td>\n",
              "      <td>0.000000</td>\n",
              "      <td>72.075000</td>\n",
              "      <td>5.800000</td>\n",
              "      <td>13.275000</td>\n",
              "      <td>1.400000</td>\n",
              "      <td>6.000000</td>\n",
              "      <td>0.700000</td>\n",
              "    </tr>\n",
              "    <tr>\n",
              "      <th>50%</th>\n",
              "      <td>16.000000</td>\n",
              "      <td>7.500000</td>\n",
              "      <td>2012.0</td>\n",
              "      <td>32.000000</td>\n",
              "      <td>63.000000</td>\n",
              "      <td>15.000000</td>\n",
              "      <td>0.000000</td>\n",
              "      <td>83.500000</td>\n",
              "      <td>11.300000</td>\n",
              "      <td>33.100000</td>\n",
              "      <td>3.500000</td>\n",
              "      <td>12.450000</td>\n",
              "      <td>4.450000</td>\n",
              "    </tr>\n",
              "    <tr>\n",
              "      <th>75%</th>\n",
              "      <td>23.000000</td>\n",
              "      <td>8.000000</td>\n",
              "      <td>2012.0</td>\n",
              "      <td>35.000000</td>\n",
              "      <td>73.250000</td>\n",
              "      <td>17.000000</td>\n",
              "      <td>0.500000</td>\n",
              "      <td>88.300000</td>\n",
              "      <td>20.750000</td>\n",
              "      <td>68.150000</td>\n",
              "      <td>7.300000</td>\n",
              "      <td>22.525000</td>\n",
              "      <td>11.375000</td>\n",
              "    </tr>\n",
              "    <tr>\n",
              "      <th>max</th>\n",
              "      <td>31.000000</td>\n",
              "      <td>9.000000</td>\n",
              "      <td>2012.0</td>\n",
              "      <td>42.000000</td>\n",
              "      <td>90.000000</td>\n",
              "      <td>29.000000</td>\n",
              "      <td>16.800000</td>\n",
              "      <td>96.000000</td>\n",
              "      <td>65.900000</td>\n",
              "      <td>220.400000</td>\n",
              "      <td>19.000000</td>\n",
              "      <td>68.000000</td>\n",
              "      <td>31.100000</td>\n",
              "    </tr>\n",
              "  </tbody>\n",
              "</table>\n",
              "</div>\n",
              "      <button class=\"colab-df-convert\" onclick=\"convertToInteractive('df-2f10c5a7-5887-41cc-bbda-c645fb518702')\"\n",
              "              title=\"Convert this dataframe to an interactive table.\"\n",
              "              style=\"display:none;\">\n",
              "        \n",
              "  <svg xmlns=\"http://www.w3.org/2000/svg\" height=\"24px\"viewBox=\"0 0 24 24\"\n",
              "       width=\"24px\">\n",
              "    <path d=\"M0 0h24v24H0V0z\" fill=\"none\"/>\n",
              "    <path d=\"M18.56 5.44l.94 2.06.94-2.06 2.06-.94-2.06-.94-.94-2.06-.94 2.06-2.06.94zm-11 1L8.5 8.5l.94-2.06 2.06-.94-2.06-.94L8.5 2.5l-.94 2.06-2.06.94zm10 10l.94 2.06.94-2.06 2.06-.94-2.06-.94-.94-2.06-.94 2.06-2.06.94z\"/><path d=\"M17.41 7.96l-1.37-1.37c-.4-.4-.92-.59-1.43-.59-.52 0-1.04.2-1.43.59L10.3 9.45l-7.72 7.72c-.78.78-.78 2.05 0 2.83L4 21.41c.39.39.9.59 1.41.59.51 0 1.02-.2 1.41-.59l7.78-7.78 2.81-2.81c.8-.78.8-2.07 0-2.86zM5.41 20L4 18.59l7.72-7.72 1.47 1.35L5.41 20z\"/>\n",
              "  </svg>\n",
              "      </button>\n",
              "      \n",
              "  <style>\n",
              "    .colab-df-container {\n",
              "      display:flex;\n",
              "      flex-wrap:wrap;\n",
              "      gap: 12px;\n",
              "    }\n",
              "\n",
              "    .colab-df-convert {\n",
              "      background-color: #E8F0FE;\n",
              "      border: none;\n",
              "      border-radius: 50%;\n",
              "      cursor: pointer;\n",
              "      display: none;\n",
              "      fill: #1967D2;\n",
              "      height: 32px;\n",
              "      padding: 0 0 0 0;\n",
              "      width: 32px;\n",
              "    }\n",
              "\n",
              "    .colab-df-convert:hover {\n",
              "      background-color: #E2EBFA;\n",
              "      box-shadow: 0px 1px 2px rgba(60, 64, 67, 0.3), 0px 1px 3px 1px rgba(60, 64, 67, 0.15);\n",
              "      fill: #174EA6;\n",
              "    }\n",
              "\n",
              "    [theme=dark] .colab-df-convert {\n",
              "      background-color: #3B4455;\n",
              "      fill: #D2E3FC;\n",
              "    }\n",
              "\n",
              "    [theme=dark] .colab-df-convert:hover {\n",
              "      background-color: #434B5C;\n",
              "      box-shadow: 0px 1px 3px 1px rgba(0, 0, 0, 0.15);\n",
              "      filter: drop-shadow(0px 1px 2px rgba(0, 0, 0, 0.3));\n",
              "      fill: #FFFFFF;\n",
              "    }\n",
              "  </style>\n",
              "\n",
              "      <script>\n",
              "        const buttonEl =\n",
              "          document.querySelector('#df-2f10c5a7-5887-41cc-bbda-c645fb518702 button.colab-df-convert');\n",
              "        buttonEl.style.display =\n",
              "          google.colab.kernel.accessAllowed ? 'block' : 'none';\n",
              "\n",
              "        async function convertToInteractive(key) {\n",
              "          const element = document.querySelector('#df-2f10c5a7-5887-41cc-bbda-c645fb518702');\n",
              "          const dataTable =\n",
              "            await google.colab.kernel.invokeFunction('convertToInteractive',\n",
              "                                                     [key], {});\n",
              "          if (!dataTable) return;\n",
              "\n",
              "          const docLinkHtml = 'Like what you see? Visit the ' +\n",
              "            '<a target=\"_blank\" href=https://colab.research.google.com/notebooks/data_table.ipynb>data table notebook</a>'\n",
              "            + ' to learn more about interactive tables.';\n",
              "          element.innerHTML = '';\n",
              "          dataTable['output_type'] = 'display_data';\n",
              "          await google.colab.output.renderOutput(dataTable, element);\n",
              "          const docLink = document.createElement('div');\n",
              "          docLink.innerHTML = docLinkHtml;\n",
              "          element.appendChild(docLink);\n",
              "        }\n",
              "      </script>\n",
              "    </div>\n",
              "  </div>\n",
              "  "
            ]
          },
          "metadata": {},
          "execution_count": 24
        }
      ]
    },
    {
      "cell_type": "code",
      "source": [
        "num_col = data._get_numeric_data().columns\n",
        "num_col"
      ],
      "metadata": {
        "colab": {
          "base_uri": "https://localhost:8080/"
        },
        "id": "k05r5yxnCFaa",
        "outputId": "ad61796d-024a-4434-cd84-b08491bd68a7"
      },
      "execution_count": 25,
      "outputs": [
        {
          "output_type": "execute_result",
          "data": {
            "text/plain": [
              "Index(['day', 'month', 'year', 'Temperature', 'RH', 'Ws', 'Rain', 'FFMC',\n",
              "       'DMC', 'DC', 'ISI', 'BUI', 'FWI'],\n",
              "      dtype='object')"
            ]
          },
          "metadata": {},
          "execution_count": 25
        }
      ]
    },
    {
      "cell_type": "code",
      "source": [
        "describe_num_df = data.describe(include=['int64','float64'])\n",
        "describe_num_df.reset_index(inplace=True)\n",
        "describe_num_df = describe_num_df[describe_num_df['index'] != 'count']\n",
        "for i in num_col:\n",
        "  if i in ['index']:\n",
        "    continue\n",
        "  sns.factorplot(x=\"index\", y=i, data=describe_num_df)\n",
        "  plt.show()"
      ],
      "metadata": {
        "colab": {
          "base_uri": "https://localhost:8080/",
          "height": 1000
        },
        "id": "3x0Aj_r1BhBx",
        "outputId": "c33c53fe-6fd5-47b8-98ad-2fc910413f8e"
      },
      "execution_count": 26,
      "outputs": [
        {
          "output_type": "stream",
          "name": "stderr",
          "text": [
            "/usr/local/lib/python3.7/dist-packages/seaborn/categorical.py:3717: UserWarning: The `factorplot` function has been renamed to `catplot`. The original name will be removed in a future release. Please update your code. Note that the default `kind` in `factorplot` (`'point'`) has changed `'strip'` in `catplot`.\n",
            "  warnings.warn(msg)\n"
          ]
        },
        {
          "output_type": "display_data",
          "data": {
            "text/plain": [
              "<Figure size 360x360 with 1 Axes>"
            ],
            "image/png": "[encoded data removed]"
          },
          "metadata": {
            "needs_background": "light"
          }
        },
        {
          "output_type": "stream",
          "name": "stderr",
          "text": [
            "/usr/local/lib/python3.7/dist-packages/seaborn/categorical.py:3717: UserWarning: The `factorplot` function has been renamed to `catplot`. The original name will be removed in a future release. Please update your code. Note that the default `kind` in `factorplot` (`'point'`) has changed `'strip'` in `catplot`.\n",
            "  warnings.warn(msg)\n"
          ]
        },
        {
          "output_type": "display_data",
          "data": {
            "text/plain": [
              "<Figure size 360x360 with 1 Axes>"
            ],
            "image/png": "[encoded data removed]"
          },
          "metadata": {
            "needs_background": "light"
          }
        },
        {
          "output_type": "stream",
          "name": "stderr",
          "text": [
            "/usr/local/lib/python3.7/dist-packages/seaborn/categorical.py:3717: UserWarning: The `factorplot` function has been renamed to `catplot`. The original name will be removed in a future release. Please update your code. Note that the default `kind` in `factorplot` (`'point'`) has changed `'strip'` in `catplot`.\n",
            "  warnings.warn(msg)\n"
          ]
        },
        {
          "output_type": "display_data",
          "data": {
            "text/plain": [
              "<Figure size 360x360 with 1 Axes>"
            ],
            "image/png": "[encoded data removed]"
          },
          "metadata": {
            "needs_background": "light"
          }
        },
        {
          "output_type": "stream",
          "name": "stderr",
          "text": [
            "/usr/local/lib/python3.7/dist-packages/seaborn/categorical.py:3717: UserWarning: The `factorplot` function has been renamed to `catplot`. The original name will be removed in a future release. Please update your code. Note that the default `kind` in `factorplot` (`'point'`) has changed `'strip'` in `catplot`.\n",
            "  warnings.warn(msg)\n"
          ]
        },
        {
          "output_type": "display_data",
          "data": {
            "text/plain": [
              "<Figure size 360x360 with 1 Axes>"
            ],
            "image/png": "[encoded data removed]"
          },
          "metadata": {
            "needs_background": "light"
          }
        },
        {
          "output_type": "stream",
          "name": "stderr",
          "text": [
            "/usr/local/lib/python3.7/dist-packages/seaborn/categorical.py:3717: UserWarning: The `factorplot` function has been renamed to `catplot`. The original name will be removed in a future release. Please update your code. Note that the default `kind` in `factorplot` (`'point'`) has changed `'strip'` in `catplot`.\n",
            "  warnings.warn(msg)\n"
          ]
        },
        {
          "output_type": "display_data",
          "data": {
            "text/plain": [
              "<Figure size 360x360 with 1 Axes>"
            ],
            "image/png": "[encoded data removed]"
          },
          "metadata": {
            "needs_background": "light"
          }
        },
        {
          "output_type": "stream",
          "name": "stderr",
          "text": [
            "/usr/local/lib/python3.7/dist-packages/seaborn/categorical.py:3717: UserWarning: The `factorplot` function has been renamed to `catplot`. The original name will be removed in a future release. Please update your code. Note that the default `kind` in `factorplot` (`'point'`) has changed `'strip'` in `catplot`.\n",
            "  warnings.warn(msg)\n"
          ]
        },
        {
          "output_type": "display_data",
          "data": {
            "text/plain": [
              "<Figure size 360x360 with 1 Axes>"
            ],
            "image/png": "[encoded data removed]"
          },
          "metadata": {
            "needs_background": "light"
          }
        },
        {
          "output_type": "stream",
          "name": "stderr",
          "text": [
            "/usr/local/lib/python3.7/dist-packages/seaborn/categorical.py:3717: UserWarning: The `factorplot` function has been renamed to `catplot`. The original name will be removed in a future release. Please update your code. Note that the default `kind` in `factorplot` (`'point'`) has changed `'strip'` in `catplot`.\n",
            "  warnings.warn(msg)\n"
          ]
        },
        {
          "output_type": "display_data",
          "data": {
            "text/plain": [
              "<Figure size 360x360 with 1 Axes>"
            ],
            "image/png": "[encoded data removed]"
          },
          "metadata": {
            "needs_background": "light"
          }
        },
        {
          "output_type": "stream",
          "name": "stderr",
          "text": [
            "/usr/local/lib/python3.7/dist-packages/seaborn/categorical.py:3717: UserWarning: The `factorplot` function has been renamed to `catplot`. The original name will be removed in a future release. Please update your code. Note that the default `kind` in `factorplot` (`'point'`) has changed `'strip'` in `catplot`.\n",
            "  warnings.warn(msg)\n"
          ]
        },
        {
          "output_type": "display_data",
          "data": {
            "text/plain": [
              "<Figure size 360x360 with 1 Axes>"
            ],
            "image/png": "[encoded data removed]"
          },
          "metadata": {
            "needs_background": "light"
          }
        },
        {
          "output_type": "stream",
          "name": "stderr",
          "text": [
            "/usr/local/lib/python3.7/dist-packages/seaborn/categorical.py:3717: UserWarning: The `factorplot` function has been renamed to `catplot`. The original name will be removed in a future release. Please update your code. Note that the default `kind` in `factorplot` (`'point'`) has changed `'strip'` in `catplot`.\n",
            "  warnings.warn(msg)\n"
          ]
        },
        {
          "output_type": "display_data",
          "data": {
            "text/plain": [
              "<Figure size 360x360 with 1 Axes>"
            ],
            "image/png": "[encoded data removed]"
          },
          "metadata": {
            "needs_background": "light"
          }
        },
        {
          "output_type": "stream",
          "name": "stderr",
          "text": [
            "/usr/local/lib/python3.7/dist-packages/seaborn/categorical.py:3717: UserWarning: The `factorplot` function has been renamed to `catplot`. The original name will be removed in a future release. Please update your code. Note that the default `kind` in `factorplot` (`'point'`) has changed `'strip'` in `catplot`.\n",
            "  warnings.warn(msg)\n"
          ]
        },
        {
          "output_type": "display_data",
          "data": {
            "text/plain": [
              "<Figure size 360x360 with 1 Axes>"
            ],
            "image/png": "[encoded data removed]"
          },
          "metadata": {
            "needs_background": "light"
          }
        },
        {
          "output_type": "stream",
          "name": "stderr",
          "text": [
            "/usr/local/lib/python3.7/dist-packages/seaborn/categorical.py:3717: UserWarning: The `factorplot` function has been renamed to `catplot`. The original name will be removed in a future release. Please update your code. Note that the default `kind` in `factorplot` (`'point'`) has changed `'strip'` in `catplot`.\n",
            "  warnings.warn(msg)\n"
          ]
        },
        {
          "output_type": "display_data",
          "data": {
            "text/plain": [
              "<Figure size 360x360 with 1 Axes>"
            ],
            "image/png": "[encoded data removed]"
          },
          "metadata": {
            "needs_background": "light"
          }
        },
        {
          "output_type": "stream",
          "name": "stderr",
          "text": [
            "/usr/local/lib/python3.7/dist-packages/seaborn/categorical.py:3717: UserWarning: The `factorplot` function has been renamed to `catplot`. The original name will be removed in a future release. Please update your code. Note that the default `kind` in `factorplot` (`'point'`) has changed `'strip'` in `catplot`.\n",
            "  warnings.warn(msg)\n"
          ]
        },
        {
          "output_type": "display_data",
          "data": {
            "text/plain": [
              "<Figure size 360x360 with 1 Axes>"
            ],
            "image/png": "[encoded data removed]"
          },
          "metadata": {
            "needs_background": "light"
          }
        },
        {
          "output_type": "stream",
          "name": "stderr",
          "text": [
            "/usr/local/lib/python3.7/dist-packages/seaborn/categorical.py:3717: UserWarning: The `factorplot` function has been renamed to `catplot`. The original name will be removed in a future release. Please update your code. Note that the default `kind` in `factorplot` (`'point'`) has changed `'strip'` in `catplot`.\n",
            "  warnings.warn(msg)\n"
          ]
        },
        {
          "output_type": "display_data",
          "data": {
            "text/plain": [
              "<Figure size 360x360 with 1 Axes>"
            ],
            "image/png": "[encoded data removed]"
          },
          "metadata": {
            "needs_background": "light"
          }
        }
      ]
    },
    {
      "cell_type": "markdown",
      "source": [
        "Based on the above summary, we could see that the data collected are from the year 2012 from june to September as described in the explanation also. \n",
        "\n",
        "The average temperature was 32.17 celcius.\n",
        "\n",
        "Looks like there might be some outlier in DC. Proceeding with further analysis"
      ],
      "metadata": {
        "id": "T-XpDi3K_GUB"
      }
    },
    {
      "cell_type": "markdown",
      "source": [
        "## Missing Values"
      ],
      "metadata": {
        "id": "eoZVXuoZSL6W"
      }
    },
    {
      "cell_type": "code",
      "source": [
        "data.isnull().sum()"
      ],
      "metadata": {
        "colab": {
          "base_uri": "https://localhost:8080/"
        },
        "id": "lQ7kY7QG_Ax0",
        "outputId": "521c1488-af3c-4c41-e5f5-9c004afe1309"
      },
      "execution_count": 27,
      "outputs": [
        {
          "output_type": "execute_result",
          "data": {
            "text/plain": [
              "day            0\n",
              "month          0\n",
              "year           0\n",
              "Temperature    0\n",
              "RH             0\n",
              "Ws             0\n",
              "Rain           0\n",
              "FFMC           0\n",
              "DMC            0\n",
              "DC             0\n",
              "ISI            0\n",
              "BUI            0\n",
              "FWI            0\n",
              "Classes        0\n",
              "dtype: int64"
            ]
          },
          "metadata": {},
          "execution_count": 27
        }
      ]
    },
    {
      "cell_type": "markdown",
      "source": [
        "There is no NULL or Missing values in the dataset"
      ],
      "metadata": {
        "id": "RCB3CvoCS9eh"
      }
    },
    {
      "cell_type": "markdown",
      "source": [
        "## Numerical Variable analysis"
      ],
      "metadata": {
        "id": "O7frI5rwTHm_"
      }
    },
    {
      "cell_type": "code",
      "source": [
        "numerical_features = [feature for feature in data.columns if data[feature].dtypes!='O']"
      ],
      "metadata": {
        "id": "zflG_UfBScVz"
      },
      "execution_count": 28,
      "outputs": []
    },
    {
      "cell_type": "code",
      "source": [
        "print(len(numerical_features))"
      ],
      "metadata": {
        "colab": {
          "base_uri": "https://localhost:8080/"
        },
        "id": "IrNe6IHoTkbd",
        "outputId": "a180e9ab-29c1-40f5-fad3-492e2cff3f0c"
      },
      "execution_count": 29,
      "outputs": [
        {
          "output_type": "stream",
          "name": "stdout",
          "text": [
            "13\n"
          ]
        }
      ]
    },
    {
      "cell_type": "code",
      "source": [
        "numerical_features"
      ],
      "metadata": {
        "colab": {
          "base_uri": "https://localhost:8080/"
        },
        "id": "rMj07fuwTnTu",
        "outputId": "038e8c24-701f-451b-a9ae-746e80207d77"
      },
      "execution_count": 30,
      "outputs": [
        {
          "output_type": "execute_result",
          "data": {
            "text/plain": [
              "['day',\n",
              " 'month',\n",
              " 'year',\n",
              " 'Temperature',\n",
              " 'RH',\n",
              " 'Ws',\n",
              " 'Rain',\n",
              " 'FFMC',\n",
              " 'DMC',\n",
              " 'DC',\n",
              " 'ISI',\n",
              " 'BUI',\n",
              " 'FWI']"
            ]
          },
          "metadata": {},
          "execution_count": 30
        }
      ]
    },
    {
      "cell_type": "code",
      "source": [
        "data[numerical_features].head()"
      ],
      "metadata": {
        "colab": {
          "base_uri": "https://localhost:8080/",
          "height": 206
        },
        "id": "7a9Gld6cTvhy",
        "outputId": "e7ccbb00-0e7c-47a0-b8c5-3012beb83180"
      },
      "execution_count": 31,
      "outputs": [
        {
          "output_type": "execute_result",
          "data": {
            "text/plain": [
              "   day  month  year  Temperature  RH  Ws  Rain  FFMC  DMC    DC  ISI  BUI  FWI\n",
              "0    1      6  2012           29  57  18   0.0  65.7  3.4   7.6  1.3  3.4  0.5\n",
              "1    2      6  2012           29  61  13   1.3  64.4  4.1   7.6  1.0  3.9  0.4\n",
              "2    3      6  2012           26  82  22  13.1  47.1  2.5   7.1  0.3  2.7  0.1\n",
              "3    4      6  2012           25  89  13   2.5  28.6  1.3   6.9  0.0  1.7  0.0\n",
              "4    5      6  2012           27  77  16   0.0  64.8  3.0  14.2  1.2  3.9  0.5"
            ],
            "text/html": [
              "\n",
              "  <div id=\"df-d2709cbb-3ae5-4b1e-bd1a-e3d62e4ffeb2\">\n",
              "    <div class=\"colab-df-container\">\n",
              "      <div>\n",
              "<style scoped>\n",
              "    .dataframe tbody tr th:only-of-type {\n",
              "        vertical-align: middle;\n",
              "    }\n",
              "\n",
              "    .dataframe tbody tr th {\n",
              "        vertical-align: top;\n",
              "    }\n",
              "\n",
              "    .dataframe thead th {\n",
              "        text-align: right;\n",
              "    }\n",
              "</style>\n",
              "<table border=\"1\" class=\"dataframe\">\n",
              "  <thead>\n",
              "    <tr style=\"text-align: right;\">\n",
              "      <th></th>\n",
              "      <th>day</th>\n",
              "      <th>month</th>\n",
              "      <th>year</th>\n",
              "      <th>Temperature</th>\n",
              "      <th>RH</th>\n",
              "      <th>Ws</th>\n",
              "      <th>Rain</th>\n",
              "      <th>FFMC</th>\n",
              "      <th>DMC</th>\n",
              "      <th>DC</th>\n",
              "      <th>ISI</th>\n",
              "      <th>BUI</th>\n",
              "      <th>FWI</th>\n",
              "    </tr>\n",
              "  </thead>\n",
              "  <tbody>\n",
              "    <tr>\n",
              "      <th>0</th>\n",
              "      <td>1</td>\n",
              "      <td>6</td>\n",
              "      <td>2012</td>\n",
              "      <td>29</td>\n",
              "      <td>57</td>\n",
              "      <td>18</td>\n",
              "      <td>0.0</td>\n",
              "      <td>65.7</td>\n",
              "      <td>3.4</td>\n",
              "      <td>7.6</td>\n",
              "      <td>1.3</td>\n",
              "      <td>3.4</td>\n",
              "      <td>0.5</td>\n",
              "    </tr>\n",
              "    <tr>\n",
              "      <th>1</th>\n",
              "      <td>2</td>\n",
              "      <td>6</td>\n",
              "      <td>2012</td>\n",
              "      <td>29</td>\n",
              "      <td>61</td>\n",
              "      <td>13</td>\n",
              "      <td>1.3</td>\n",
              "      <td>64.4</td>\n",
              "      <td>4.1</td>\n",
              "      <td>7.6</td>\n",
              "      <td>1.0</td>\n",
              "      <td>3.9</td>\n",
              "      <td>0.4</td>\n",
              "    </tr>\n",
              "    <tr>\n",
              "      <th>2</th>\n",
              "      <td>3</td>\n",
              "      <td>6</td>\n",
              "      <td>2012</td>\n",
              "      <td>26</td>\n",
              "      <td>82</td>\n",
              "      <td>22</td>\n",
              "      <td>13.1</td>\n",
              "      <td>47.1</td>\n",
              "      <td>2.5</td>\n",
              "      <td>7.1</td>\n",
              "      <td>0.3</td>\n",
              "      <td>2.7</td>\n",
              "      <td>0.1</td>\n",
              "    </tr>\n",
              "    <tr>\n",
              "      <th>3</th>\n",
              "      <td>4</td>\n",
              "      <td>6</td>\n",
              "      <td>2012</td>\n",
              "      <td>25</td>\n",
              "      <td>89</td>\n",
              "      <td>13</td>\n",
              "      <td>2.5</td>\n",
              "      <td>28.6</td>\n",
              "      <td>1.3</td>\n",
              "      <td>6.9</td>\n",
              "      <td>0.0</td>\n",
              "      <td>1.7</td>\n",
              "      <td>0.0</td>\n",
              "    </tr>\n",
              "    <tr>\n",
              "      <th>4</th>\n",
              "      <td>5</td>\n",
              "      <td>6</td>\n",
              "      <td>2012</td>\n",
              "      <td>27</td>\n",
              "      <td>77</td>\n",
              "      <td>16</td>\n",
              "      <td>0.0</td>\n",
              "      <td>64.8</td>\n",
              "      <td>3.0</td>\n",
              "      <td>14.2</td>\n",
              "      <td>1.2</td>\n",
              "      <td>3.9</td>\n",
              "      <td>0.5</td>\n",
              "    </tr>\n",
              "  </tbody>\n",
              "</table>\n",
              "</div>\n",
              "      <button class=\"colab-df-convert\" onclick=\"convertToInteractive('df-d2709cbb-3ae5-4b1e-bd1a-e3d62e4ffeb2')\"\n",
              "              title=\"Convert this dataframe to an interactive table.\"\n",
              "              style=\"display:none;\">\n",
              "        \n",
              "  <svg xmlns=\"http://www.w3.org/2000/svg\" height=\"24px\"viewBox=\"0 0 24 24\"\n",
              "       width=\"24px\">\n",
              "    <path d=\"M0 0h24v24H0V0z\" fill=\"none\"/>\n",
              "    <path d=\"M18.56 5.44l.94 2.06.94-2.06 2.06-.94-2.06-.94-.94-2.06-.94 2.06-2.06.94zm-11 1L8.5 8.5l.94-2.06 2.06-.94-2.06-.94L8.5 2.5l-.94 2.06-2.06.94zm10 10l.94 2.06.94-2.06 2.06-.94-2.06-.94-.94-2.06-.94 2.06-2.06.94z\"/><path d=\"M17.41 7.96l-1.37-1.37c-.4-.4-.92-.59-1.43-.59-.52 0-1.04.2-1.43.59L10.3 9.45l-7.72 7.72c-.78.78-.78 2.05 0 2.83L4 21.41c.39.39.9.59 1.41.59.51 0 1.02-.2 1.41-.59l7.78-7.78 2.81-2.81c.8-.78.8-2.07 0-2.86zM5.41 20L4 18.59l7.72-7.72 1.47 1.35L5.41 20z\"/>\n",
              "  </svg>\n",
              "      </button>\n",
              "      \n",
              "  <style>\n",
              "    .colab-df-container {\n",
              "      display:flex;\n",
              "      flex-wrap:wrap;\n",
              "      gap: 12px;\n",
              "    }\n",
              "\n",
              "    .colab-df-convert {\n",
              "      background-color: #E8F0FE;\n",
              "      border: none;\n",
              "      border-radius: 50%;\n",
              "      cursor: pointer;\n",
              "      display: none;\n",
              "      fill: #1967D2;\n",
              "      height: 32px;\n",
              "      padding: 0 0 0 0;\n",
              "      width: 32px;\n",
              "    }\n",
              "\n",
              "    .colab-df-convert:hover {\n",
              "      background-color: #E2EBFA;\n",
              "      box-shadow: 0px 1px 2px rgba(60, 64, 67, 0.3), 0px 1px 3px 1px rgba(60, 64, 67, 0.15);\n",
              "      fill: #174EA6;\n",
              "    }\n",
              "\n",
              "    [theme=dark] .colab-df-convert {\n",
              "      background-color: #3B4455;\n",
              "      fill: #D2E3FC;\n",
              "    }\n",
              "\n",
              "    [theme=dark] .colab-df-convert:hover {\n",
              "      background-color: #434B5C;\n",
              "      box-shadow: 0px 1px 3px 1px rgba(0, 0, 0, 0.15);\n",
              "      filter: drop-shadow(0px 1px 2px rgba(0, 0, 0, 0.3));\n",
              "      fill: #FFFFFF;\n",
              "    }\n",
              "  </style>\n",
              "\n",
              "      <script>\n",
              "        const buttonEl =\n",
              "          document.querySelector('#df-d2709cbb-3ae5-4b1e-bd1a-e3d62e4ffeb2 button.colab-df-convert');\n",
              "        buttonEl.style.display =\n",
              "          google.colab.kernel.accessAllowed ? 'block' : 'none';\n",
              "\n",
              "        async function convertToInteractive(key) {\n",
              "          const element = document.querySelector('#df-d2709cbb-3ae5-4b1e-bd1a-e3d62e4ffeb2');\n",
              "          const dataTable =\n",
              "            await google.colab.kernel.invokeFunction('convertToInteractive',\n",
              "                                                     [key], {});\n",
              "          if (!dataTable) return;\n",
              "\n",
              "          const docLinkHtml = 'Like what you see? Visit the ' +\n",
              "            '<a target=\"_blank\" href=https://colab.research.google.com/notebooks/data_table.ipynb>data table notebook</a>'\n",
              "            + ' to learn more about interactive tables.';\n",
              "          element.innerHTML = '';\n",
              "          dataTable['output_type'] = 'display_data';\n",
              "          await google.colab.output.renderOutput(dataTable, element);\n",
              "          const docLink = document.createElement('div');\n",
              "          docLink.innerHTML = docLinkHtml;\n",
              "          element.appendChild(docLink);\n",
              "        }\n",
              "      </script>\n",
              "    </div>\n",
              "  </div>\n",
              "  "
            ]
          },
          "metadata": {},
          "execution_count": 31
        }
      ]
    },
    {
      "cell_type": "code",
      "source": [
        "#Temporal Variables (Datetime variables)\n",
        "date_feature = [feature for feature in numerical_features if 'day' in feature or 'year' in feature or 'month' in feature]"
      ],
      "metadata": {
        "id": "jXclJEd0T72x"
      },
      "execution_count": 32,
      "outputs": []
    },
    {
      "cell_type": "code",
      "source": [
        "date_feature"
      ],
      "metadata": {
        "colab": {
          "base_uri": "https://localhost:8080/"
        },
        "id": "RRzNegCLUdkb",
        "outputId": "1f612131-fe10-4031-e4f2-8d7d728cfed9"
      },
      "execution_count": 33,
      "outputs": [
        {
          "output_type": "execute_result",
          "data": {
            "text/plain": [
              "['day', 'month', 'year']"
            ]
          },
          "metadata": {},
          "execution_count": 33
        }
      ]
    },
    {
      "cell_type": "markdown",
      "source": [
        "Three features are related to date time day, month, year"
      ],
      "metadata": {
        "id": "mkp46TofVIOI"
      }
    },
    {
      "cell_type": "code",
      "source": [
        "for feature in date_feature:\n",
        "    print(feature, data[feature].unique())"
      ],
      "metadata": {
        "colab": {
          "base_uri": "https://localhost:8080/"
        },
        "id": "i_KqD0IFUfIF",
        "outputId": "6cab5055-cbff-4410-e3b1-92eb9d06fad8"
      },
      "execution_count": 34,
      "outputs": [
        {
          "output_type": "stream",
          "name": "stdout",
          "text": [
            "day [ 1  2  3  4  5  6  7  8  9 10 11 12 13 14 15 16 17 18 19 20 21 22 23 24\n",
            " 25 26 27 28 29 30 31]\n",
            "month [6 7 8 9]\n",
            "year [2012]\n"
          ]
        }
      ]
    },
    {
      "cell_type": "markdown",
      "source": [
        "### Which month/day most fire breakout would have happened in the year 2012 from June to September"
      ],
      "metadata": {
        "id": "H2WySsIdVqKA"
      }
    },
    {
      "cell_type": "code",
      "source": [
        "px.histogram(data, x='month', color=\"Classes\", barmode='group')"
      ],
      "metadata": {
        "colab": {
          "base_uri": "https://localhost:8080/",
          "height": 542
        },
        "id": "pLXsEgkfsAdm",
        "outputId": "4875a731-4399-4dca-bd36-e9aee4ab4428"
      },
      "execution_count": 35,
      "outputs": [
        {
          "output_type": "display_data",
          "data": {
            "text/html": [
              "<html>\n",
              "<head><meta charset=\"utf-8\" /></head>\n",
              "<body>\n",
              "    <div>            <script src=\"https://cdnjs.cloudflare.com/ajax/libs/mathjax/2.7.5/MathJax.js?config=TeX-AMS-MML_SVG\"></script><script type=\"text/javascript\">if (window.MathJax) {MathJax.Hub.Config({SVG: {font: \"STIX-Web\"}});}</script>                <script type=\"text/javascript\">window.PlotlyConfig = {MathJaxConfig: 'local'};</script>\n",
              "        <script src=\"https://cdn.plot.ly/plotly-2.8.3.min.js\"></script>                <div id=\"83dbebf8-59ca-40d1-ad0a-fac982aa40b8\" class=\"plotly-graph-div\" style=\"height:525px; width:100%;\"></div>            <script type=\"text/javascript\">                                    window.PLOTLYENV=window.PLOTLYENV || {};                                    if (document.getElementById(\"83dbebf8-59ca-40d1-ad0a-fac982aa40b8\")) {                    Plotly.newPlot(                        \"83dbebf8-59ca-40d1-ad0a-fac982aa40b8\",                        [{\"alignmentgroup\":\"True\",\"bingroup\":\"x\",\"hovertemplate\":\"Classes=not fire<br>month=%{x}<br>count=%{y}<extra></extra>\",\"legendgroup\":\"not fire\",\"marker\":{\"color\":\"#636efa\",\"pattern\":{\"shape\":\"\"}},\"name\":\"not fire\",\"offsetgroup\":\"not fire\",\"orientation\":\"v\",\"showlegend\":true,\"x\":[6,6,6,6,6,6,6,6,6,6,6,6,6,6,6,6,6,7,7,7,7,7,7,7,7,7,7,7,7,7,7,7,7,8,8,8,8,8,8,8,9,9,9,9,9,9,9,9,9,9,9,9,9,9,9,9,9,9,9,9,9,9,9,6,6,6,6,6,6,6,6,6,6,6,6,6,6,6,6,6,6,7,7,7,7,7,7,7,8,8,8,8,9,9,9,9,9,9,9,9,9,9,9,9,9,9],\"xaxis\":\"x\",\"yaxis\":\"y\",\"type\":\"histogram\"},{\"alignmentgroup\":\"True\",\"bingroup\":\"x\",\"hovertemplate\":\"Classes=fire<br>month=%{x}<br>count=%{y}<extra></extra>\",\"legendgroup\":\"fire\",\"marker\":{\"color\":\"#EF553B\",\"pattern\":{\"shape\":\"\"}},\"name\":\"fire\",\"offsetgroup\":\"fire\",\"orientation\":\"v\",\"showlegend\":true,\"x\":[6,6,6,6,6,6,6,6,6,6,6,6,6,7,7,7,7,7,7,7,7,7,7,7,7,7,7,7,8,8,8,8,8,8,8,8,8,8,8,8,8,8,8,8,8,8,8,8,8,8,8,8,9,9,9,9,9,9,9,6,6,6,6,6,6,6,6,6,6,6,6,7,7,7,7,7,7,7,7,7,7,7,7,7,7,7,7,7,7,7,7,7,7,7,7,8,8,8,8,8,8,8,8,8,8,8,8,8,8,8,8,8,8,8,8,8,8,8,8,8,8,8,9,9,9,9,9,9,9,9,9,9,9,9,9,9,9,9],\"xaxis\":\"x\",\"yaxis\":\"y\",\"type\":\"histogram\"}],                        {\"template\":{\"data\":{\"bar\":[{\"error_x\":{\"color\":\"#2a3f5f\"},\"error_y\":{\"color\":\"#2a3f5f\"},\"marker\":{\"line\":{\"color\":\"#E5ECF6\",\"width\":0.5},\"pattern\":{\"fillmode\":\"overlay\",\"size\":10,\"solidity\":0.2}},\"type\":\"bar\"}],\"barpolar\":[{\"marker\":{\"line\":{\"color\":\"#E5ECF6\",\"width\":0.5},\"pattern\":{\"fillmode\":\"overlay\",\"size\":10,\"solidity\":0.2}},\"type\":\"barpolar\"}],\"carpet\":[{\"aaxis\":{\"endlinecolor\":\"#2a3f5f\",\"gridcolor\":\"white\",\"linecolor\":\"white\",\"minorgridcolor\":\"white\",\"startlinecolor\":\"#2a3f5f\"},\"baxis\":{\"endlinecolor\":\"#2a3f5f\",\"gridcolor\":\"white\",\"linecolor\":\"white\",\"minorgridcolor\":\"white\",\"startlinecolor\":\"#2a3f5f\"},\"type\":\"carpet\"}],\"choropleth\":[{\"colorbar\":{\"outlinewidth\":0,\"ticks\":\"\"},\"type\":\"choropleth\"}],\"contour\":[{\"colorbar\":{\"outlinewidth\":0,\"ticks\":\"\"},\"colorscale\":[[0.0,\"#0d0887\"],[0.1111111111111111,\"#46039f\"],[0.2222222222222222,\"#7201a8\"],[0.3333333333333333,\"#9c179e\"],[0.4444444444444444,\"#bd3786\"],[0.5555555555555556,\"#d8576b\"],[0.6666666666666666,\"#ed7953\"],[0.7777777777777778,\"#fb9f3a\"],[0.8888888888888888,\"#fdca26\"],[1.0,\"#f0f921\"]],\"type\":\"contour\"}],\"contourcarpet\":[{\"colorbar\":{\"outlinewidth\":0,\"ticks\":\"\"},\"type\":\"contourcarpet\"}],\"heatmap\":[{\"colorbar\":{\"outlinewidth\":0,\"ticks\":\"\"},\"colorscale\":[[0.0,\"#0d0887\"],[0.1111111111111111,\"#46039f\"],[0.2222222222222222,\"#7201a8\"],[0.3333333333333333,\"#9c179e\"],[0.4444444444444444,\"#bd3786\"],[0.5555555555555556,\"#d8576b\"],[0.6666666666666666,\"#ed7953\"],[0.7777777777777778,\"#fb9f3a\"],[0.8888888888888888,\"#fdca26\"],[1.0,\"#f0f921\"]],\"type\":\"heatmap\"}],\"heatmapgl\":[{\"colorbar\":{\"outlinewidth\":0,\"ticks\":\"\"},\"colorscale\":[[0.0,\"#0d0887\"],[0.1111111111111111,\"#46039f\"],[0.2222222222222222,\"#7201a8\"],[0.3333333333333333,\"#9c179e\"],[0.4444444444444444,\"#bd3786\"],[0.5555555555555556,\"#d8576b\"],[0.6666666666666666,\"#ed7953\"],[0.7777777777777778,\"#fb9f3a\"],[0.8888888888888888,\"#fdca26\"],[1.0,\"#f0f921\"]],\"type\":\"heatmapgl\"}],\"histogram\":[{\"marker\":{\"pattern\":{\"fillmode\":\"overlay\",\"size\":10,\"solidity\":0.2}},\"type\":\"histogram\"}],\"histogram2d\":[{\"colorbar\":{\"outlinewidth\":0,\"ticks\":\"\"},\"colorscale\":[[0.0,\"#0d0887\"],[0.1111111111111111,\"#46039f\"],[0.2222222222222222,\"#7201a8\"],[0.3333333333333333,\"#9c179e\"],[0.4444444444444444,\"#bd3786\"],[0.5555555555555556,\"#d8576b\"],[0.6666666666666666,\"#ed7953\"],[0.7777777777777778,\"#fb9f3a\"],[0.8888888888888888,\"#fdca26\"],[1.0,\"#f0f921\"]],\"type\":\"histogram2d\"}],\"histogram2dcontour\":[{\"colorbar\":{\"outlinewidth\":0,\"ticks\":\"\"},\"colorscale\":[[0.0,\"#0d0887\"],[0.1111111111111111,\"#46039f\"],[0.2222222222222222,\"#7201a8\"],[0.3333333333333333,\"#9c179e\"],[0.4444444444444444,\"#bd3786\"],[0.5555555555555556,\"#d8576b\"],[0.6666666666666666,\"#ed7953\"],[0.7777777777777778,\"#fb9f3a\"],[0.8888888888888888,\"#fdca26\"],[1.0,\"#f0f921\"]],\"type\":\"histogram2dcontour\"}],\"mesh3d\":[{\"colorbar\":{\"outlinewidth\":0,\"ticks\":\"\"},\"type\":\"mesh3d\"}],\"parcoords\":[{\"line\":{\"colorbar\":{\"outlinewidth\":0,\"ticks\":\"\"}},\"type\":\"parcoords\"}],\"pie\":[{\"automargin\":true,\"type\":\"pie\"}],\"scatter\":[{\"marker\":{\"colorbar\":{\"outlinewidth\":0,\"ticks\":\"\"}},\"type\":\"scatter\"}],\"scatter3d\":[{\"line\":{\"colorbar\":{\"outlinewidth\":0,\"ticks\":\"\"}},\"marker\":{\"colorbar\":{\"outlinewidth\":0,\"ticks\":\"\"}},\"type\":\"scatter3d\"}],\"scattercarpet\":[{\"marker\":{\"colorbar\":{\"outlinewidth\":0,\"ticks\":\"\"}},\"type\":\"scattercarpet\"}],\"scattergeo\":[{\"marker\":{\"colorbar\":{\"outlinewidth\":0,\"ticks\":\"\"}},\"type\":\"scattergeo\"}],\"scattergl\":[{\"marker\":{\"colorbar\":{\"outlinewidth\":0,\"ticks\":\"\"}},\"type\":\"scattergl\"}],\"scattermapbox\":[{\"marker\":{\"colorbar\":{\"outlinewidth\":0,\"ticks\":\"\"}},\"type\":\"scattermapbox\"}],\"scatterpolar\":[{\"marker\":{\"colorbar\":{\"outlinewidth\":0,\"ticks\":\"\"}},\"type\":\"scatterpolar\"}],\"scatterpolargl\":[{\"marker\":{\"colorbar\":{\"outlinewidth\":0,\"ticks\":\"\"}},\"type\":\"scatterpolargl\"}],\"scatterternary\":[{\"marker\":{\"colorbar\":{\"outlinewidth\":0,\"ticks\":\"\"}},\"type\":\"scatterternary\"}],\"surface\":[{\"colorbar\":{\"outlinewidth\":0,\"ticks\":\"\"},\"colorscale\":[[0.0,\"#0d0887\"],[0.1111111111111111,\"#46039f\"],[0.2222222222222222,\"#7201a8\"],[0.3333333333333333,\"#9c179e\"],[0.4444444444444444,\"#bd3786\"],[0.5555555555555556,\"#d8576b\"],[0.6666666666666666,\"#ed7953\"],[0.7777777777777778,\"#fb9f3a\"],[0.8888888888888888,\"#fdca26\"],[1.0,\"#f0f921\"]],\"type\":\"surface\"}],\"table\":[{\"cells\":{\"fill\":{\"color\":\"#EBF0F8\"},\"line\":{\"color\":\"white\"}},\"header\":{\"fill\":{\"color\":\"#C8D4E3\"},\"line\":{\"color\":\"white\"}},\"type\":\"table\"}]},\"layout\":{\"annotationdefaults\":{\"arrowcolor\":\"#2a3f5f\",\"arrowhead\":0,\"arrowwidth\":1},\"autotypenumbers\":\"strict\",\"coloraxis\":{\"colorbar\":{\"outlinewidth\":0,\"ticks\":\"\"}},\"colorscale\":{\"diverging\":[[0,\"#8e0152\"],[0.1,\"#c51b7d\"],[0.2,\"#de77ae\"],[0.3,\"#f1b6da\"],[0.4,\"#fde0ef\"],[0.5,\"#f7f7f7\"],[0.6,\"#e6f5d0\"],[0.7,\"#b8e186\"],[0.8,\"#7fbc41\"],[0.9,\"#4d9221\"],[1,\"#276419\"]],\"sequential\":[[0.0,\"#0d0887\"],[0.1111111111111111,\"#46039f\"],[0.2222222222222222,\"#7201a8\"],[0.3333333333333333,\"#9c179e\"],[0.4444444444444444,\"#bd3786\"],[0.5555555555555556,\"#d8576b\"],[0.6666666666666666,\"#ed7953\"],[0.7777777777777778,\"#fb9f3a\"],[0.8888888888888888,\"#fdca26\"],[1.0,\"#f0f921\"]],\"sequentialminus\":[[0.0,\"#0d0887\"],[0.1111111111111111,\"#46039f\"],[0.2222222222222222,\"#7201a8\"],[0.3333333333333333,\"#9c179e\"],[0.4444444444444444,\"#bd3786\"],[0.5555555555555556,\"#d8576b\"],[0.6666666666666666,\"#ed7953\"],[0.7777777777777778,\"#fb9f3a\"],[0.8888888888888888,\"#fdca26\"],[1.0,\"#f0f921\"]]},\"colorway\":[\"#636efa\",\"#EF553B\",\"#00cc96\",\"#ab63fa\",\"#FFA15A\",\"#19d3f3\",\"#FF6692\",\"#B6E880\",\"#FF97FF\",\"#FECB52\"],\"font\":{\"color\":\"#2a3f5f\"},\"geo\":{\"bgcolor\":\"white\",\"lakecolor\":\"white\",\"landcolor\":\"#E5ECF6\",\"showlakes\":true,\"showland\":true,\"subunitcolor\":\"white\"},\"hoverlabel\":{\"align\":\"left\"},\"hovermode\":\"closest\",\"mapbox\":{\"style\":\"light\"},\"paper_bgcolor\":\"white\",\"plot_bgcolor\":\"#E5ECF6\",\"polar\":{\"angularaxis\":{\"gridcolor\":\"white\",\"linecolor\":\"white\",\"ticks\":\"\"},\"bgcolor\":\"#E5ECF6\",\"radialaxis\":{\"gridcolor\":\"white\",\"linecolor\":\"white\",\"ticks\":\"\"}},\"scene\":{\"xaxis\":{\"backgroundcolor\":\"#E5ECF6\",\"gridcolor\":\"white\",\"gridwidth\":2,\"linecolor\":\"white\",\"showbackground\":true,\"ticks\":\"\",\"zerolinecolor\":\"white\"},\"yaxis\":{\"backgroundcolor\":\"#E5ECF6\",\"gridcolor\":\"white\",\"gridwidth\":2,\"linecolor\":\"white\",\"showbackground\":true,\"ticks\":\"\",\"zerolinecolor\":\"white\"},\"zaxis\":{\"backgroundcolor\":\"#E5ECF6\",\"gridcolor\":\"white\",\"gridwidth\":2,\"linecolor\":\"white\",\"showbackground\":true,\"ticks\":\"\",\"zerolinecolor\":\"white\"}},\"shapedefaults\":{\"line\":{\"color\":\"#2a3f5f\"}},\"ternary\":{\"aaxis\":{\"gridcolor\":\"white\",\"linecolor\":\"white\",\"ticks\":\"\"},\"baxis\":{\"gridcolor\":\"white\",\"linecolor\":\"white\",\"ticks\":\"\"},\"bgcolor\":\"#E5ECF6\",\"caxis\":{\"gridcolor\":\"white\",\"linecolor\":\"white\",\"ticks\":\"\"}},\"title\":{\"x\":0.05},\"xaxis\":{\"automargin\":true,\"gridcolor\":\"white\",\"linecolor\":\"white\",\"ticks\":\"\",\"title\":{\"standoff\":15},\"zerolinecolor\":\"white\",\"zerolinewidth\":2},\"yaxis\":{\"automargin\":true,\"gridcolor\":\"white\",\"linecolor\":\"white\",\"ticks\":\"\",\"title\":{\"standoff\":15},\"zerolinecolor\":\"white\",\"zerolinewidth\":2}}},\"xaxis\":{\"anchor\":\"y\",\"domain\":[0.0,1.0],\"title\":{\"text\":\"month\"}},\"yaxis\":{\"anchor\":\"x\",\"domain\":[0.0,1.0],\"title\":{\"text\":\"count\"}},\"legend\":{\"title\":{\"text\":\"Classes\"},\"tracegroupgap\":0},\"margin\":{\"t\":60},\"barmode\":\"group\"},                        {\"responsive\": true}                    ).then(function(){\n",
              "                            \n",
              "var gd = document.getElementById('83dbebf8-59ca-40d1-ad0a-fac982aa40b8');\n",
              "var x = new MutationObserver(function (mutations, observer) {{\n",
              "        var display = window.getComputedStyle(gd).display;\n",
              "        if (!display || display === 'none') {{\n",
              "            console.log([gd, 'removed!']);\n",
              "            Plotly.purge(gd);\n",
              "            observer.disconnect();\n",
              "        }}\n",
              "}});\n",
              "\n",
              "// Listen for the removal of the full notebook cells\n",
              "var notebookContainer = gd.closest('#notebook-container');\n",
              "if (notebookContainer) {{\n",
              "    x.observe(notebookContainer, {childList: true});\n",
              "}}\n",
              "\n",
              "// Listen for the clearing of the current output cell\n",
              "var outputEl = gd.closest('.output');\n",
              "if (outputEl) {{\n",
              "    x.observe(outputEl, {childList: true});\n",
              "}}\n",
              "\n",
              "                        })                };                            </script>        </div>\n",
              "</body>\n",
              "</html>"
            ]
          },
          "metadata": {}
        }
      ]
    },
    {
      "cell_type": "markdown",
      "source": [
        "We could see from the above graph that most of the forest fires happens during August and it holds true by comparing other year's data externally"
      ],
      "metadata": {
        "id": "XQSvuKUUWwgV"
      }
    },
    {
      "cell_type": "code",
      "source": [
        "px.histogram(data, x='day', color=\"Classes\", barmode='group')"
      ],
      "metadata": {
        "colab": {
          "base_uri": "https://localhost:8080/",
          "height": 542
        },
        "id": "NjWVP02DVey5",
        "outputId": "dbf9437a-b755-4e0a-cff5-22326e192632"
      },
      "execution_count": 36,
      "outputs": [
        {
          "output_type": "display_data",
          "data": {
            "text/html": [
              "<html>\n",
              "<head><meta charset=\"utf-8\" /></head>\n",
              "<body>\n",
              "    <div>            <script src=\"https://cdnjs.cloudflare.com/ajax/libs/mathjax/2.7.5/MathJax.js?config=TeX-AMS-MML_SVG\"></script><script type=\"text/javascript\">if (window.MathJax) {MathJax.Hub.Config({SVG: {font: \"STIX-Web\"}});}</script>                <script type=\"text/javascript\">window.PlotlyConfig = {MathJaxConfig: 'local'};</script>\n",
              "        <script src=\"https://cdn.plot.ly/plotly-2.8.3.min.js\"></script>                <div id=\"a56481d0-db9e-431a-a130-1abc598b411f\" class=\"plotly-graph-div\" style=\"height:525px; width:100%;\"></div>            <script type=\"text/javascript\">                                    window.PLOTLYENV=window.PLOTLYENV || {};                                    if (document.getElementById(\"a56481d0-db9e-431a-a130-1abc598b411f\")) {                    Plotly.newPlot(                        \"a56481d0-db9e-431a-a130-1abc598b411f\",                        [{\"alignmentgroup\":\"True\",\"bingroup\":\"x\",\"hovertemplate\":\"Classes=not fire<br>day=%{x}<br>count=%{y}<extra></extra>\",\"legendgroup\":\"not fire\",\"marker\":{\"color\":\"#636efa\",\"pattern\":{\"shape\":\"\"}},\"name\":\"not fire\",\"offsetgroup\":\"not fire\",\"orientation\":\"v\",\"showlegend\":true,\"x\":[1,2,3,4,5,9,10,13,14,15,16,17,18,19,20,22,29,1,2,3,4,7,9,10,11,12,13,14,15,16,22,23,24,1,2,3,8,12,30,31,1,2,3,4,6,7,8,9,10,11,12,13,14,15,16,22,23,24,25,26,28,29,30,1,2,3,4,5,8,9,13,14,15,16,17,18,19,20,22,23,30,1,10,11,24,25,26,27,1,6,7,28,1,2,4,5,6,10,11,20,24,25,27,28,29,30],\"xaxis\":\"x\",\"yaxis\":\"y\",\"type\":\"histogram\"},{\"alignmentgroup\":\"True\",\"bingroup\":\"x\",\"hovertemplate\":\"Classes=fire<br>day=%{x}<br>count=%{y}<extra></extra>\",\"legendgroup\":\"fire\",\"marker\":{\"color\":\"#EF553B\",\"pattern\":{\"shape\":\"\"}},\"name\":\"fire\",\"offsetgroup\":\"fire\",\"orientation\":\"v\",\"showlegend\":true,\"x\":[6,7,8,11,12,21,23,24,25,26,27,28,30,5,6,8,17,18,19,20,21,25,26,27,28,29,30,31,4,5,6,7,9,10,11,13,14,15,16,17,18,19,20,21,22,23,24,25,26,27,28,29,5,17,18,19,20,21,27,6,7,10,11,12,21,24,25,26,27,28,29,2,3,4,5,6,7,8,9,12,13,14,15,16,17,18,19,20,21,22,23,28,29,30,31,2,3,4,5,8,9,10,11,12,13,14,15,16,17,18,19,20,21,22,23,24,25,26,27,29,30,31,3,7,8,9,12,13,14,15,16,17,18,19,21,22,23,26],\"xaxis\":\"x\",\"yaxis\":\"y\",\"type\":\"histogram\"}],                        {\"template\":{\"data\":{\"bar\":[{\"error_x\":{\"color\":\"#2a3f5f\"},\"error_y\":{\"color\":\"#2a3f5f\"},\"marker\":{\"line\":{\"color\":\"#E5ECF6\",\"width\":0.5},\"pattern\":{\"fillmode\":\"overlay\",\"size\":10,\"solidity\":0.2}},\"type\":\"bar\"}],\"barpolar\":[{\"marker\":{\"line\":{\"color\":\"#E5ECF6\",\"width\":0.5},\"pattern\":{\"fillmode\":\"overlay\",\"size\":10,\"solidity\":0.2}},\"type\":\"barpolar\"}],\"carpet\":[{\"aaxis\":{\"endlinecolor\":\"#2a3f5f\",\"gridcolor\":\"white\",\"linecolor\":\"white\",\"minorgridcolor\":\"white\",\"startlinecolor\":\"#2a3f5f\"},\"baxis\":{\"endlinecolor\":\"#2a3f5f\",\"gridcolor\":\"white\",\"linecolor\":\"white\",\"minorgridcolor\":\"white\",\"startlinecolor\":\"#2a3f5f\"},\"type\":\"carpet\"}],\"choropleth\":[{\"colorbar\":{\"outlinewidth\":0,\"ticks\":\"\"},\"type\":\"choropleth\"}],\"contour\":[{\"colorbar\":{\"outlinewidth\":0,\"ticks\":\"\"},\"colorscale\":[[0.0,\"#0d0887\"],[0.1111111111111111,\"#46039f\"],[0.2222222222222222,\"#7201a8\"],[0.3333333333333333,\"#9c179e\"],[0.4444444444444444,\"#bd3786\"],[0.5555555555555556,\"#d8576b\"],[0.6666666666666666,\"#ed7953\"],[0.7777777777777778,\"#fb9f3a\"],[0.8888888888888888,\"#fdca26\"],[1.0,\"#f0f921\"]],\"type\":\"contour\"}],\"contourcarpet\":[{\"colorbar\":{\"outlinewidth\":0,\"ticks\":\"\"},\"type\":\"contourcarpet\"}],\"heatmap\":[{\"colorbar\":{\"outlinewidth\":0,\"ticks\":\"\"},\"colorscale\":[[0.0,\"#0d0887\"],[0.1111111111111111,\"#46039f\"],[0.2222222222222222,\"#7201a8\"],[0.3333333333333333,\"#9c179e\"],[0.4444444444444444,\"#bd3786\"],[0.5555555555555556,\"#d8576b\"],[0.6666666666666666,\"#ed7953\"],[0.7777777777777778,\"#fb9f3a\"],[0.8888888888888888,\"#fdca26\"],[1.0,\"#f0f921\"]],\"type\":\"heatmap\"}],\"heatmapgl\":[{\"colorbar\":{\"outlinewidth\":0,\"ticks\":\"\"},\"colorscale\":[[0.0,\"#0d0887\"],[0.1111111111111111,\"#46039f\"],[0.2222222222222222,\"#7201a8\"],[0.3333333333333333,\"#9c179e\"],[0.4444444444444444,\"#bd3786\"],[0.5555555555555556,\"#d8576b\"],[0.6666666666666666,\"#ed7953\"],[0.7777777777777778,\"#fb9f3a\"],[0.8888888888888888,\"#fdca26\"],[1.0,\"#f0f921\"]],\"type\":\"heatmapgl\"}],\"histogram\":[{\"marker\":{\"pattern\":{\"fillmode\":\"overlay\",\"size\":10,\"solidity\":0.2}},\"type\":\"histogram\"}],\"histogram2d\":[{\"colorbar\":{\"outlinewidth\":0,\"ticks\":\"\"},\"colorscale\":[[0.0,\"#0d0887\"],[0.1111111111111111,\"#46039f\"],[0.2222222222222222,\"#7201a8\"],[0.3333333333333333,\"#9c179e\"],[0.4444444444444444,\"#bd3786\"],[0.5555555555555556,\"#d8576b\"],[0.6666666666666666,\"#ed7953\"],[0.7777777777777778,\"#fb9f3a\"],[0.8888888888888888,\"#fdca26\"],[1.0,\"#f0f921\"]],\"type\":\"histogram2d\"}],\"histogram2dcontour\":[{\"colorbar\":{\"outlinewidth\":0,\"ticks\":\"\"},\"colorscale\":[[0.0,\"#0d0887\"],[0.1111111111111111,\"#46039f\"],[0.2222222222222222,\"#7201a8\"],[0.3333333333333333,\"#9c179e\"],[0.4444444444444444,\"#bd3786\"],[0.5555555555555556,\"#d8576b\"],[0.6666666666666666,\"#ed7953\"],[0.7777777777777778,\"#fb9f3a\"],[0.8888888888888888,\"#fdca26\"],[1.0,\"#f0f921\"]],\"type\":\"histogram2dcontour\"}],\"mesh3d\":[{\"colorbar\":{\"outlinewidth\":0,\"ticks\":\"\"},\"type\":\"mesh3d\"}],\"parcoords\":[{\"line\":{\"colorbar\":{\"outlinewidth\":0,\"ticks\":\"\"}},\"type\":\"parcoords\"}],\"pie\":[{\"automargin\":true,\"type\":\"pie\"}],\"scatter\":[{\"marker\":{\"colorbar\":{\"outlinewidth\":0,\"ticks\":\"\"}},\"type\":\"scatter\"}],\"scatter3d\":[{\"line\":{\"colorbar\":{\"outlinewidth\":0,\"ticks\":\"\"}},\"marker\":{\"colorbar\":{\"outlinewidth\":0,\"ticks\":\"\"}},\"type\":\"scatter3d\"}],\"scattercarpet\":[{\"marker\":{\"colorbar\":{\"outlinewidth\":0,\"ticks\":\"\"}},\"type\":\"scattercarpet\"}],\"scattergeo\":[{\"marker\":{\"colorbar\":{\"outlinewidth\":0,\"ticks\":\"\"}},\"type\":\"scattergeo\"}],\"scattergl\":[{\"marker\":{\"colorbar\":{\"outlinewidth\":0,\"ticks\":\"\"}},\"type\":\"scattergl\"}],\"scattermapbox\":[{\"marker\":{\"colorbar\":{\"outlinewidth\":0,\"ticks\":\"\"}},\"type\":\"scattermapbox\"}],\"scatterpolar\":[{\"marker\":{\"colorbar\":{\"outlinewidth\":0,\"ticks\":\"\"}},\"type\":\"scatterpolar\"}],\"scatterpolargl\":[{\"marker\":{\"colorbar\":{\"outlinewidth\":0,\"ticks\":\"\"}},\"type\":\"scatterpolargl\"}],\"scatterternary\":[{\"marker\":{\"colorbar\":{\"outlinewidth\":0,\"ticks\":\"\"}},\"type\":\"scatterternary\"}],\"surface\":[{\"colorbar\":{\"outlinewidth\":0,\"ticks\":\"\"},\"colorscale\":[[0.0,\"#0d0887\"],[0.1111111111111111,\"#46039f\"],[0.2222222222222222,\"#7201a8\"],[0.3333333333333333,\"#9c179e\"],[0.4444444444444444,\"#bd3786\"],[0.5555555555555556,\"#d8576b\"],[0.6666666666666666,\"#ed7953\"],[0.7777777777777778,\"#fb9f3a\"],[0.8888888888888888,\"#fdca26\"],[1.0,\"#f0f921\"]],\"type\":\"surface\"}],\"table\":[{\"cells\":{\"fill\":{\"color\":\"#EBF0F8\"},\"line\":{\"color\":\"white\"}},\"header\":{\"fill\":{\"color\":\"#C8D4E3\"},\"line\":{\"color\":\"white\"}},\"type\":\"table\"}]},\"layout\":{\"annotationdefaults\":{\"arrowcolor\":\"#2a3f5f\",\"arrowhead\":0,\"arrowwidth\":1},\"autotypenumbers\":\"strict\",\"coloraxis\":{\"colorbar\":{\"outlinewidth\":0,\"ticks\":\"\"}},\"colorscale\":{\"diverging\":[[0,\"#8e0152\"],[0.1,\"#c51b7d\"],[0.2,\"#de77ae\"],[0.3,\"#f1b6da\"],[0.4,\"#fde0ef\"],[0.5,\"#f7f7f7\"],[0.6,\"#e6f5d0\"],[0.7,\"#b8e186\"],[0.8,\"#7fbc41\"],[0.9,\"#4d9221\"],[1,\"#276419\"]],\"sequential\":[[0.0,\"#0d0887\"],[0.1111111111111111,\"#46039f\"],[0.2222222222222222,\"#7201a8\"],[0.3333333333333333,\"#9c179e\"],[0.4444444444444444,\"#bd3786\"],[0.5555555555555556,\"#d8576b\"],[0.6666666666666666,\"#ed7953\"],[0.7777777777777778,\"#fb9f3a\"],[0.8888888888888888,\"#fdca26\"],[1.0,\"#f0f921\"]],\"sequentialminus\":[[0.0,\"#0d0887\"],[0.1111111111111111,\"#46039f\"],[0.2222222222222222,\"#7201a8\"],[0.3333333333333333,\"#9c179e\"],[0.4444444444444444,\"#bd3786\"],[0.5555555555555556,\"#d8576b\"],[0.6666666666666666,\"#ed7953\"],[0.7777777777777778,\"#fb9f3a\"],[0.8888888888888888,\"#fdca26\"],[1.0,\"#f0f921\"]]},\"colorway\":[\"#636efa\",\"#EF553B\",\"#00cc96\",\"#ab63fa\",\"#FFA15A\",\"#19d3f3\",\"#FF6692\",\"#B6E880\",\"#FF97FF\",\"#FECB52\"],\"font\":{\"color\":\"#2a3f5f\"},\"geo\":{\"bgcolor\":\"white\",\"lakecolor\":\"white\",\"landcolor\":\"#E5ECF6\",\"showlakes\":true,\"showland\":true,\"subunitcolor\":\"white\"},\"hoverlabel\":{\"align\":\"left\"},\"hovermode\":\"closest\",\"mapbox\":{\"style\":\"light\"},\"paper_bgcolor\":\"white\",\"plot_bgcolor\":\"#E5ECF6\",\"polar\":{\"angularaxis\":{\"gridcolor\":\"white\",\"linecolor\":\"white\",\"ticks\":\"\"},\"bgcolor\":\"#E5ECF6\",\"radialaxis\":{\"gridcolor\":\"white\",\"linecolor\":\"white\",\"ticks\":\"\"}},\"scene\":{\"xaxis\":{\"backgroundcolor\":\"#E5ECF6\",\"gridcolor\":\"white\",\"gridwidth\":2,\"linecolor\":\"white\",\"showbackground\":true,\"ticks\":\"\",\"zerolinecolor\":\"white\"},\"yaxis\":{\"backgroundcolor\":\"#E5ECF6\",\"gridcolor\":\"white\",\"gridwidth\":2,\"linecolor\":\"white\",\"showbackground\":true,\"ticks\":\"\",\"zerolinecolor\":\"white\"},\"zaxis\":{\"backgroundcolor\":\"#E5ECF6\",\"gridcolor\":\"white\",\"gridwidth\":2,\"linecolor\":\"white\",\"showbackground\":true,\"ticks\":\"\",\"zerolinecolor\":\"white\"}},\"shapedefaults\":{\"line\":{\"color\":\"#2a3f5f\"}},\"ternary\":{\"aaxis\":{\"gridcolor\":\"white\",\"linecolor\":\"white\",\"ticks\":\"\"},\"baxis\":{\"gridcolor\":\"white\",\"linecolor\":\"white\",\"ticks\":\"\"},\"bgcolor\":\"#E5ECF6\",\"caxis\":{\"gridcolor\":\"white\",\"linecolor\":\"white\",\"ticks\":\"\"}},\"title\":{\"x\":0.05},\"xaxis\":{\"automargin\":true,\"gridcolor\":\"white\",\"linecolor\":\"white\",\"ticks\":\"\",\"title\":{\"standoff\":15},\"zerolinecolor\":\"white\",\"zerolinewidth\":2},\"yaxis\":{\"automargin\":true,\"gridcolor\":\"white\",\"linecolor\":\"white\",\"ticks\":\"\",\"title\":{\"standoff\":15},\"zerolinecolor\":\"white\",\"zerolinewidth\":2}}},\"xaxis\":{\"anchor\":\"y\",\"domain\":[0.0,1.0],\"title\":{\"text\":\"day\"}},\"yaxis\":{\"anchor\":\"x\",\"domain\":[0.0,1.0],\"title\":{\"text\":\"count\"}},\"legend\":{\"title\":{\"text\":\"Classes\"},\"tracegroupgap\":0},\"margin\":{\"t\":60},\"barmode\":\"group\"},                        {\"responsive\": true}                    ).then(function(){\n",
              "                            \n",
              "var gd = document.getElementById('a56481d0-db9e-431a-a130-1abc598b411f');\n",
              "var x = new MutationObserver(function (mutations, observer) {{\n",
              "        var display = window.getComputedStyle(gd).display;\n",
              "        if (!display || display === 'none') {{\n",
              "            console.log([gd, 'removed!']);\n",
              "            Plotly.purge(gd);\n",
              "            observer.disconnect();\n",
              "        }}\n",
              "}});\n",
              "\n",
              "// Listen for the removal of the full notebook cells\n",
              "var notebookContainer = gd.closest('#notebook-container');\n",
              "if (notebookContainer) {{\n",
              "    x.observe(notebookContainer, {childList: true});\n",
              "}}\n",
              "\n",
              "// Listen for the clearing of the current output cell\n",
              "var outputEl = gd.closest('.output');\n",
              "if (outputEl) {{\n",
              "    x.observe(outputEl, {childList: true});\n",
              "}}\n",
              "\n",
              "                        })                };                            </script>        </div>\n",
              "</body>\n",
              "</html>"
            ]
          },
          "metadata": {}
        }
      ]
    },
    {
      "cell_type": "markdown",
      "source": [
        "The maximum fire breakout happened in the mid of the months"
      ],
      "metadata": {
        "id": "aXFNBAbCYAtT"
      }
    },
    {
      "cell_type": "markdown",
      "source": [
        "### Discrete Feature"
      ],
      "metadata": {
        "id": "5yH1xlnKY9f4"
      }
    },
    {
      "cell_type": "code",
      "source": [
        "discreate_feature = [feature for feature in numerical_features if len(data[feature].unique())<=25 and feature not in date_feature]"
      ],
      "metadata": {
        "id": "2VHowC9qXrAV"
      },
      "execution_count": 37,
      "outputs": []
    },
    {
      "cell_type": "code",
      "source": [
        "len(discreate_feature)"
      ],
      "metadata": {
        "colab": {
          "base_uri": "https://localhost:8080/"
        },
        "id": "LnkEWnI_YoJe",
        "outputId": "5970e412-c411-473a-846b-3e8b456bfcee"
      },
      "execution_count": 38,
      "outputs": [
        {
          "output_type": "execute_result",
          "data": {
            "text/plain": [
              "2"
            ]
          },
          "metadata": {},
          "execution_count": 38
        }
      ]
    },
    {
      "cell_type": "code",
      "source": [
        "discreate_feature"
      ],
      "metadata": {
        "colab": {
          "base_uri": "https://localhost:8080/"
        },
        "id": "j4vHmWJkYp3k",
        "outputId": "71cd243c-5422-48a0-da7c-a6ee3ee73a4c"
      },
      "execution_count": 39,
      "outputs": [
        {
          "output_type": "execute_result",
          "data": {
            "text/plain": [
              "['Temperature', 'Ws']"
            ]
          },
          "metadata": {},
          "execution_count": 39
        }
      ]
    },
    {
      "cell_type": "code",
      "source": [
        "data[discreate_feature].head()"
      ],
      "metadata": {
        "colab": {
          "base_uri": "https://localhost:8080/",
          "height": 206
        },
        "id": "5rD0wQjrY5qH",
        "outputId": "52dc2552-7946-49b9-a598-1541045618c2"
      },
      "execution_count": 40,
      "outputs": [
        {
          "output_type": "execute_result",
          "data": {
            "text/plain": [
              "   Temperature  Ws\n",
              "0           29  18\n",
              "1           29  13\n",
              "2           26  22\n",
              "3           25  13\n",
              "4           27  16"
            ],
            "text/html": [
              "\n",
              "  <div id=\"df-32c8463b-2568-4f78-b0e8-9e823477ff65\">\n",
              "    <div class=\"colab-df-container\">\n",
              "      <div>\n",
              "<style scoped>\n",
              "    .dataframe tbody tr th:only-of-type {\n",
              "        vertical-align: middle;\n",
              "    }\n",
              "\n",
              "    .dataframe tbody tr th {\n",
              "        vertical-align: top;\n",
              "    }\n",
              "\n",
              "    .dataframe thead th {\n",
              "        text-align: right;\n",
              "    }\n",
              "</style>\n",
              "<table border=\"1\" class=\"dataframe\">\n",
              "  <thead>\n",
              "    <tr style=\"text-align: right;\">\n",
              "      <th></th>\n",
              "      <th>Temperature</th>\n",
              "      <th>Ws</th>\n",
              "    </tr>\n",
              "  </thead>\n",
              "  <tbody>\n",
              "    <tr>\n",
              "      <th>0</th>\n",
              "      <td>29</td>\n",
              "      <td>18</td>\n",
              "    </tr>\n",
              "    <tr>\n",
              "      <th>1</th>\n",
              "      <td>29</td>\n",
              "      <td>13</td>\n",
              "    </tr>\n",
              "    <tr>\n",
              "      <th>2</th>\n",
              "      <td>26</td>\n",
              "      <td>22</td>\n",
              "    </tr>\n",
              "    <tr>\n",
              "      <th>3</th>\n",
              "      <td>25</td>\n",
              "      <td>13</td>\n",
              "    </tr>\n",
              "    <tr>\n",
              "      <th>4</th>\n",
              "      <td>27</td>\n",
              "      <td>16</td>\n",
              "    </tr>\n",
              "  </tbody>\n",
              "</table>\n",
              "</div>\n",
              "      <button class=\"colab-df-convert\" onclick=\"convertToInteractive('df-32c8463b-2568-4f78-b0e8-9e823477ff65')\"\n",
              "              title=\"Convert this dataframe to an interactive table.\"\n",
              "              style=\"display:none;\">\n",
              "        \n",
              "  <svg xmlns=\"http://www.w3.org/2000/svg\" height=\"24px\"viewBox=\"0 0 24 24\"\n",
              "       width=\"24px\">\n",
              "    <path d=\"M0 0h24v24H0V0z\" fill=\"none\"/>\n",
              "    <path d=\"M18.56 5.44l.94 2.06.94-2.06 2.06-.94-2.06-.94-.94-2.06-.94 2.06-2.06.94zm-11 1L8.5 8.5l.94-2.06 2.06-.94-2.06-.94L8.5 2.5l-.94 2.06-2.06.94zm10 10l.94 2.06.94-2.06 2.06-.94-2.06-.94-.94-2.06-.94 2.06-2.06.94z\"/><path d=\"M17.41 7.96l-1.37-1.37c-.4-.4-.92-.59-1.43-.59-.52 0-1.04.2-1.43.59L10.3 9.45l-7.72 7.72c-.78.78-.78 2.05 0 2.83L4 21.41c.39.39.9.59 1.41.59.51 0 1.02-.2 1.41-.59l7.78-7.78 2.81-2.81c.8-.78.8-2.07 0-2.86zM5.41 20L4 18.59l7.72-7.72 1.47 1.35L5.41 20z\"/>\n",
              "  </svg>\n",
              "      </button>\n",
              "      \n",
              "  <style>\n",
              "    .colab-df-container {\n",
              "      display:flex;\n",
              "      flex-wrap:wrap;\n",
              "      gap: 12px;\n",
              "    }\n",
              "\n",
              "    .colab-df-convert {\n",
              "      background-color: #E8F0FE;\n",
              "      border: none;\n",
              "      border-radius: 50%;\n",
              "      cursor: pointer;\n",
              "      display: none;\n",
              "      fill: #1967D2;\n",
              "      height: 32px;\n",
              "      padding: 0 0 0 0;\n",
              "      width: 32px;\n",
              "    }\n",
              "\n",
              "    .colab-df-convert:hover {\n",
              "      background-color: #E2EBFA;\n",
              "      box-shadow: 0px 1px 2px rgba(60, 64, 67, 0.3), 0px 1px 3px 1px rgba(60, 64, 67, 0.15);\n",
              "      fill: #174EA6;\n",
              "    }\n",
              "\n",
              "    [theme=dark] .colab-df-convert {\n",
              "      background-color: #3B4455;\n",
              "      fill: #D2E3FC;\n",
              "    }\n",
              "\n",
              "    [theme=dark] .colab-df-convert:hover {\n",
              "      background-color: #434B5C;\n",
              "      box-shadow: 0px 1px 3px 1px rgba(0, 0, 0, 0.15);\n",
              "      filter: drop-shadow(0px 1px 2px rgba(0, 0, 0, 0.3));\n",
              "      fill: #FFFFFF;\n",
              "    }\n",
              "  </style>\n",
              "\n",
              "      <script>\n",
              "        const buttonEl =\n",
              "          document.querySelector('#df-32c8463b-2568-4f78-b0e8-9e823477ff65 button.colab-df-convert');\n",
              "        buttonEl.style.display =\n",
              "          google.colab.kernel.accessAllowed ? 'block' : 'none';\n",
              "\n",
              "        async function convertToInteractive(key) {\n",
              "          const element = document.querySelector('#df-32c8463b-2568-4f78-b0e8-9e823477ff65');\n",
              "          const dataTable =\n",
              "            await google.colab.kernel.invokeFunction('convertToInteractive',\n",
              "                                                     [key], {});\n",
              "          if (!dataTable) return;\n",
              "\n",
              "          const docLinkHtml = 'Like what you see? Visit the ' +\n",
              "            '<a target=\"_blank\" href=https://colab.research.google.com/notebooks/data_table.ipynb>data table notebook</a>'\n",
              "            + ' to learn more about interactive tables.';\n",
              "          element.innerHTML = '';\n",
              "          dataTable['output_type'] = 'display_data';\n",
              "          await google.colab.output.renderOutput(dataTable, element);\n",
              "          const docLink = document.createElement('div');\n",
              "          docLink.innerHTML = docLinkHtml;\n",
              "          element.appendChild(docLink);\n",
              "        }\n",
              "      </script>\n",
              "    </div>\n",
              "  </div>\n",
              "  "
            ]
          },
          "metadata": {},
          "execution_count": 40
        }
      ]
    },
    {
      "cell_type": "markdown",
      "source": [
        "#### Distribution of Discrete variables"
      ],
      "metadata": {
        "id": "sLamSe0ypGh4"
      }
    },
    {
      "cell_type": "code",
      "source": [
        "for i in discreate_feature:\n",
        "  plt.figure(figsize=(10,5))\n",
        "  sns.histplot(data = data, x=i, kde = True)\n",
        "  plt.show()"
      ],
      "metadata": {
        "colab": {
          "base_uri": "https://localhost:8080/",
          "height": 651
        },
        "id": "WWHLbI-GpMfa",
        "outputId": "6bc6658d-b228-4992-d120-1ad525f427d9"
      },
      "execution_count": 41,
      "outputs": [
        {
          "output_type": "display_data",
          "data": {
            "text/plain": [
              "<Figure size 720x360 with 1 Axes>"
            ],
            "image/png": "[encoded data removed]"
          },
          "metadata": {
            "needs_background": "light"
          }
        },
        {
          "output_type": "display_data",
          "data": {
            "text/plain": [
              "<Figure size 720x360 with 1 Axes>"
            ],
            "image/png": "[encoded data removed]"
          },
          "metadata": {
            "needs_background": "light"
          }
        }
      ]
    },
    {
      "cell_type": "markdown",
      "source": [
        "#### Find the relationship between discrete and Classes"
      ],
      "metadata": {
        "id": "poG7_wyTZfyn"
      }
    },
    {
      "cell_type": "code",
      "source": [
        "for i in discreate_feature:\n",
        "  fig = px.histogram(data, x=i, color=\"Classes\", barmode='group')\n",
        "  fig.show()"
      ],
      "metadata": {
        "colab": {
          "base_uri": "https://localhost:8080/",
          "height": 1000
        },
        "id": "7w2Khn9gcEq8",
        "outputId": "a9927f58-e300-4641-bc50-6d12934e4f16"
      },
      "execution_count": 42,
      "outputs": [
        {
          "output_type": "display_data",
          "data": {
            "text/html": [
              "<html>\n",
              "<head><meta charset=\"utf-8\" /></head>\n",
              "<body>\n",
              "    <div>            <script src=\"https://cdnjs.cloudflare.com/ajax/libs/mathjax/2.7.5/MathJax.js?config=TeX-AMS-MML_SVG\"></script><script type=\"text/javascript\">if (window.MathJax) {MathJax.Hub.Config({SVG: {font: \"STIX-Web\"}});}</script>                <script type=\"text/javascript\">window.PlotlyConfig = {MathJaxConfig: 'local'};</script>\n",
              "        <script src=\"https://cdn.plot.ly/plotly-2.8.3.min.js\"></script>                <div id=\"928eb41e-8dcf-4b71-b918-a3efae82cd42\" class=\"plotly-graph-div\" style=\"height:525px; width:100%;\"></div>            <script type=\"text/javascript\">                                    window.PLOTLYENV=window.PLOTLYENV || {};                                    if (document.getElementById(\"928eb41e-8dcf-4b71-b918-a3efae82cd42\")) {                    Plotly.newPlot(                        \"928eb41e-8dcf-4b71-b918-a3efae82cd42\",                        [{\"alignmentgroup\":\"True\",\"bingroup\":\"x\",\"hovertemplate\":\"Classes=not fire<br>Temperature=%{x}<br>count=%{y}<extra></extra>\",\"legendgroup\":\"not fire\",\"marker\":{\"color\":\"#636efa\",\"pattern\":{\"shape\":\"\"}},\"name\":\"not fire\",\"offsetgroup\":\"not fire\",\"orientation\":\"v\",\"showlegend\":true,\"x\":[29,29,26,25,27,25,28,27,30,28,29,30,31,31,30,31,32,29,27,32,33,35,32,33,33,31,34,34,30,28,28,27,28,36,35,35,32,35,35,28,25,22,25,29,29,31,30,30,33,30,29,25,22,24,30,31,32,29,26,31,32,26,25,32,30,29,30,32,28,27,30,27,28,29,31,33,32,31,33,33,34,28,34,34,33,39,35,29,38,30,34,35,29,28,30,30,34,29,30,34,26,28,28,27,24,24],\"xaxis\":\"x\",\"yaxis\":\"y\",\"type\":\"histogram\"},{\"alignmentgroup\":\"True\",\"bingroup\":\"x\",\"hovertemplate\":\"Classes=fire<br>Temperature=%{x}<br>count=%{y}<extra></extra>\",\"legendgroup\":\"fire\",\"marker\":{\"color\":\"#EF553B\",\"pattern\":{\"shape\":\"\"}},\"name\":\"fire\",\"offsetgroup\":\"fire\",\"orientation\":\"v\",\"showlegend\":true,\"x\":[31,33,30,31,26,30,32,32,31,31,34,32,33,33,32,33,29,31,35,33,33,31,36,36,33,32,31,35,34,34,32,32,35,35,35,35,33,36,36,37,36,35,35,36,36,36,34,35,31,33,34,35,29,31,32,29,28,31,31,35,35,30,31,27,32,35,34,36,36,37,37,33,34,34,34,35,38,35,36,36,39,37,34,31,32,33,34,36,36,32,31,33,34,36,37,40,39,38,34,37,39,39,40,39,35,37,35,40,42,37,35,36,36,37,36,35,34,33,36,35,34,30,28,31,30,30,31,29,28,32,33,34,36,29,35,33,35,30],\"xaxis\":\"x\",\"yaxis\":\"y\",\"type\":\"histogram\"}],                        {\"template\":{\"data\":{\"bar\":[{\"error_x\":{\"color\":\"#2a3f5f\"},\"error_y\":{\"color\":\"#2a3f5f\"},\"marker\":{\"line\":{\"color\":\"#E5ECF6\",\"width\":0.5},\"pattern\":{\"fillmode\":\"overlay\",\"size\":10,\"solidity\":0.2}},\"type\":\"bar\"}],\"barpolar\":[{\"marker\":{\"line\":{\"color\":\"#E5ECF6\",\"width\":0.5},\"pattern\":{\"fillmode\":\"overlay\",\"size\":10,\"solidity\":0.2}},\"type\":\"barpolar\"}],\"carpet\":[{\"aaxis\":{\"endlinecolor\":\"#2a3f5f\",\"gridcolor\":\"white\",\"linecolor\":\"white\",\"minorgridcolor\":\"white\",\"startlinecolor\":\"#2a3f5f\"},\"baxis\":{\"endlinecolor\":\"#2a3f5f\",\"gridcolor\":\"white\",\"linecolor\":\"white\",\"minorgridcolor\":\"white\",\"startlinecolor\":\"#2a3f5f\"},\"type\":\"carpet\"}],\"choropleth\":[{\"colorbar\":{\"outlinewidth\":0,\"ticks\":\"\"},\"type\":\"choropleth\"}],\"contour\":[{\"colorbar\":{\"outlinewidth\":0,\"ticks\":\"\"},\"colorscale\":[[0.0,\"#0d0887\"],[0.1111111111111111,\"#46039f\"],[0.2222222222222222,\"#7201a8\"],[0.3333333333333333,\"#9c179e\"],[0.4444444444444444,\"#bd3786\"],[0.5555555555555556,\"#d8576b\"],[0.6666666666666666,\"#ed7953\"],[0.7777777777777778,\"#fb9f3a\"],[0.8888888888888888,\"#fdca26\"],[1.0,\"#f0f921\"]],\"type\":\"contour\"}],\"contourcarpet\":[{\"colorbar\":{\"outlinewidth\":0,\"ticks\":\"\"},\"type\":\"contourcarpet\"}],\"heatmap\":[{\"colorbar\":{\"outlinewidth\":0,\"ticks\":\"\"},\"colorscale\":[[0.0,\"#0d0887\"],[0.1111111111111111,\"#46039f\"],[0.2222222222222222,\"#7201a8\"],[0.3333333333333333,\"#9c179e\"],[0.4444444444444444,\"#bd3786\"],[0.5555555555555556,\"#d8576b\"],[0.6666666666666666,\"#ed7953\"],[0.7777777777777778,\"#fb9f3a\"],[0.8888888888888888,\"#fdca26\"],[1.0,\"#f0f921\"]],\"type\":\"heatmap\"}],\"heatmapgl\":[{\"colorbar\":{\"outlinewidth\":0,\"ticks\":\"\"},\"colorscale\":[[0.0,\"#0d0887\"],[0.1111111111111111,\"#46039f\"],[0.2222222222222222,\"#7201a8\"],[0.3333333333333333,\"#9c179e\"],[0.4444444444444444,\"#bd3786\"],[0.5555555555555556,\"#d8576b\"],[0.6666666666666666,\"#ed7953\"],[0.7777777777777778,\"#fb9f3a\"],[0.8888888888888888,\"#fdca26\"],[1.0,\"#f0f921\"]],\"type\":\"heatmapgl\"}],\"histogram\":[{\"marker\":{\"pattern\":{\"fillmode\":\"overlay\",\"size\":10,\"solidity\":0.2}},\"type\":\"histogram\"}],\"histogram2d\":[{\"colorbar\":{\"outlinewidth\":0,\"ticks\":\"\"},\"colorscale\":[[0.0,\"#0d0887\"],[0.1111111111111111,\"#46039f\"],[0.2222222222222222,\"#7201a8\"],[0.3333333333333333,\"#9c179e\"],[0.4444444444444444,\"#bd3786\"],[0.5555555555555556,\"#d8576b\"],[0.6666666666666666,\"#ed7953\"],[0.7777777777777778,\"#fb9f3a\"],[0.8888888888888888,\"#fdca26\"],[1.0,\"#f0f921\"]],\"type\":\"histogram2d\"}],\"histogram2dcontour\":[{\"colorbar\":{\"outlinewidth\":0,\"ticks\":\"\"},\"colorscale\":[[0.0,\"#0d0887\"],[0.1111111111111111,\"#46039f\"],[0.2222222222222222,\"#7201a8\"],[0.3333333333333333,\"#9c179e\"],[0.4444444444444444,\"#bd3786\"],[0.5555555555555556,\"#d8576b\"],[0.6666666666666666,\"#ed7953\"],[0.7777777777777778,\"#fb9f3a\"],[0.8888888888888888,\"#fdca26\"],[1.0,\"#f0f921\"]],\"type\":\"histogram2dcontour\"}],\"mesh3d\":[{\"colorbar\":{\"outlinewidth\":0,\"ticks\":\"\"},\"type\":\"mesh3d\"}],\"parcoords\":[{\"line\":{\"colorbar\":{\"outlinewidth\":0,\"ticks\":\"\"}},\"type\":\"parcoords\"}],\"pie\":[{\"automargin\":true,\"type\":\"pie\"}],\"scatter\":[{\"marker\":{\"colorbar\":{\"outlinewidth\":0,\"ticks\":\"\"}},\"type\":\"scatter\"}],\"scatter3d\":[{\"line\":{\"colorbar\":{\"outlinewidth\":0,\"ticks\":\"\"}},\"marker\":{\"colorbar\":{\"outlinewidth\":0,\"ticks\":\"\"}},\"type\":\"scatter3d\"}],\"scattercarpet\":[{\"marker\":{\"colorbar\":{\"outlinewidth\":0,\"ticks\":\"\"}},\"type\":\"scattercarpet\"}],\"scattergeo\":[{\"marker\":{\"colorbar\":{\"outlinewidth\":0,\"ticks\":\"\"}},\"type\":\"scattergeo\"}],\"scattergl\":[{\"marker\":{\"colorbar\":{\"outlinewidth\":0,\"ticks\":\"\"}},\"type\":\"scattergl\"}],\"scattermapbox\":[{\"marker\":{\"colorbar\":{\"outlinewidth\":0,\"ticks\":\"\"}},\"type\":\"scattermapbox\"}],\"scatterpolar\":[{\"marker\":{\"colorbar\":{\"outlinewidth\":0,\"ticks\":\"\"}},\"type\":\"scatterpolar\"}],\"scatterpolargl\":[{\"marker\":{\"colorbar\":{\"outlinewidth\":0,\"ticks\":\"\"}},\"type\":\"scatterpolargl\"}],\"scatterternary\":[{\"marker\":{\"colorbar\":{\"outlinewidth\":0,\"ticks\":\"\"}},\"type\":\"scatterternary\"}],\"surface\":[{\"colorbar\":{\"outlinewidth\":0,\"ticks\":\"\"},\"colorscale\":[[0.0,\"#0d0887\"],[0.1111111111111111,\"#46039f\"],[0.2222222222222222,\"#7201a8\"],[0.3333333333333333,\"#9c179e\"],[0.4444444444444444,\"#bd3786\"],[0.5555555555555556,\"#d8576b\"],[0.6666666666666666,\"#ed7953\"],[0.7777777777777778,\"#fb9f3a\"],[0.8888888888888888,\"#fdca26\"],[1.0,\"#f0f921\"]],\"type\":\"surface\"}],\"table\":[{\"cells\":{\"fill\":{\"color\":\"#EBF0F8\"},\"line\":{\"color\":\"white\"}},\"header\":{\"fill\":{\"color\":\"#C8D4E3\"},\"line\":{\"color\":\"white\"}},\"type\":\"table\"}]},\"layout\":{\"annotationdefaults\":{\"arrowcolor\":\"#2a3f5f\",\"arrowhead\":0,\"arrowwidth\":1},\"autotypenumbers\":\"strict\",\"coloraxis\":{\"colorbar\":{\"outlinewidth\":0,\"ticks\":\"\"}},\"colorscale\":{\"diverging\":[[0,\"#8e0152\"],[0.1,\"#c51b7d\"],[0.2,\"#de77ae\"],[0.3,\"#f1b6da\"],[0.4,\"#fde0ef\"],[0.5,\"#f7f7f7\"],[0.6,\"#e6f5d0\"],[0.7,\"#b8e186\"],[0.8,\"#7fbc41\"],[0.9,\"#4d9221\"],[1,\"#276419\"]],\"sequential\":[[0.0,\"#0d0887\"],[0.1111111111111111,\"#46039f\"],[0.2222222222222222,\"#7201a8\"],[0.3333333333333333,\"#9c179e\"],[0.4444444444444444,\"#bd3786\"],[0.5555555555555556,\"#d8576b\"],[0.6666666666666666,\"#ed7953\"],[0.7777777777777778,\"#fb9f3a\"],[0.8888888888888888,\"#fdca26\"],[1.0,\"#f0f921\"]],\"sequentialminus\":[[0.0,\"#0d0887\"],[0.1111111111111111,\"#46039f\"],[0.2222222222222222,\"#7201a8\"],[0.3333333333333333,\"#9c179e\"],[0.4444444444444444,\"#bd3786\"],[0.5555555555555556,\"#d8576b\"],[0.6666666666666666,\"#ed7953\"],[0.7777777777777778,\"#fb9f3a\"],[0.8888888888888888,\"#fdca26\"],[1.0,\"#f0f921\"]]},\"colorway\":[\"#636efa\",\"#EF553B\",\"#00cc96\",\"#ab63fa\",\"#FFA15A\",\"#19d3f3\",\"#FF6692\",\"#B6E880\",\"#FF97FF\",\"#FECB52\"],\"font\":{\"color\":\"#2a3f5f\"},\"geo\":{\"bgcolor\":\"white\",\"lakecolor\":\"white\",\"landcolor\":\"#E5ECF6\",\"showlakes\":true,\"showland\":true,\"subunitcolor\":\"white\"},\"hoverlabel\":{\"align\":\"left\"},\"hovermode\":\"closest\",\"mapbox\":{\"style\":\"light\"},\"paper_bgcolor\":\"white\",\"plot_bgcolor\":\"#E5ECF6\",\"polar\":{\"angularaxis\":{\"gridcolor\":\"white\",\"linecolor\":\"white\",\"ticks\":\"\"},\"bgcolor\":\"#E5ECF6\",\"radialaxis\":{\"gridcolor\":\"white\",\"linecolor\":\"white\",\"ticks\":\"\"}},\"scene\":{\"xaxis\":{\"backgroundcolor\":\"#E5ECF6\",\"gridcolor\":\"white\",\"gridwidth\":2,\"linecolor\":\"white\",\"showbackground\":true,\"ticks\":\"\",\"zerolinecolor\":\"white\"},\"yaxis\":{\"backgroundcolor\":\"#E5ECF6\",\"gridcolor\":\"white\",\"gridwidth\":2,\"linecolor\":\"white\",\"showbackground\":true,\"ticks\":\"\",\"zerolinecolor\":\"white\"},\"zaxis\":{\"backgroundcolor\":\"#E5ECF6\",\"gridcolor\":\"white\",\"gridwidth\":2,\"linecolor\":\"white\",\"showbackground\":true,\"ticks\":\"\",\"zerolinecolor\":\"white\"}},\"shapedefaults\":{\"line\":{\"color\":\"#2a3f5f\"}},\"ternary\":{\"aaxis\":{\"gridcolor\":\"white\",\"linecolor\":\"white\",\"ticks\":\"\"},\"baxis\":{\"gridcolor\":\"white\",\"linecolor\":\"white\",\"ticks\":\"\"},\"bgcolor\":\"#E5ECF6\",\"caxis\":{\"gridcolor\":\"white\",\"linecolor\":\"white\",\"ticks\":\"\"}},\"title\":{\"x\":0.05},\"xaxis\":{\"automargin\":true,\"gridcolor\":\"white\",\"linecolor\":\"white\",\"ticks\":\"\",\"title\":{\"standoff\":15},\"zerolinecolor\":\"white\",\"zerolinewidth\":2},\"yaxis\":{\"automargin\":true,\"gridcolor\":\"white\",\"linecolor\":\"white\",\"ticks\":\"\",\"title\":{\"standoff\":15},\"zerolinecolor\":\"white\",\"zerolinewidth\":2}}},\"xaxis\":{\"anchor\":\"y\",\"domain\":[0.0,1.0],\"title\":{\"text\":\"Temperature\"}},\"yaxis\":{\"anchor\":\"x\",\"domain\":[0.0,1.0],\"title\":{\"text\":\"count\"}},\"legend\":{\"title\":{\"text\":\"Classes\"},\"tracegroupgap\":0},\"margin\":{\"t\":60},\"barmode\":\"group\"},                        {\"responsive\": true}                    ).then(function(){\n",
              "                            \n",
              "var gd = document.getElementById('928eb41e-8dcf-4b71-b918-a3efae82cd42');\n",
              "var x = new MutationObserver(function (mutations, observer) {{\n",
              "        var display = window.getComputedStyle(gd).display;\n",
              "        if (!display || display === 'none') {{\n",
              "            console.log([gd, 'removed!']);\n",
              "            Plotly.purge(gd);\n",
              "            observer.disconnect();\n",
              "        }}\n",
              "}});\n",
              "\n",
              "// Listen for the removal of the full notebook cells\n",
              "var notebookContainer = gd.closest('#notebook-container');\n",
              "if (notebookContainer) {{\n",
              "    x.observe(notebookContainer, {childList: true});\n",
              "}}\n",
              "\n",
              "// Listen for the clearing of the current output cell\n",
              "var outputEl = gd.closest('.output');\n",
              "if (outputEl) {{\n",
              "    x.observe(outputEl, {childList: true});\n",
              "}}\n",
              "\n",
              "                        })                };                            </script>        </div>\n",
              "</body>\n",
              "</html>"
            ]
          },
          "metadata": {}
        },
        {
          "output_type": "display_data",
          "data": {
            "text/html": [
              "<html>\n",
              "<head><meta charset=\"utf-8\" /></head>\n",
              "<body>\n",
              "    <div>            <script src=\"https://cdnjs.cloudflare.com/ajax/libs/mathjax/2.7.5/MathJax.js?config=TeX-AMS-MML_SVG\"></script><script type=\"text/javascript\">if (window.MathJax) {MathJax.Hub.Config({SVG: {font: \"STIX-Web\"}});}</script>                <script type=\"text/javascript\">window.PlotlyConfig = {MathJaxConfig: 'local'};</script>\n",
              "        <script src=\"https://cdn.plot.ly/plotly-2.8.3.min.js\"></script>                <div id=\"e578b523-9c0f-496e-94fd-46da5c188975\" class=\"plotly-graph-div\" style=\"height:525px; width:100%;\"></div>            <script type=\"text/javascript\">                                    window.PLOTLYENV=window.PLOTLYENV || {};                                    if (document.getElementById(\"e578b523-9c0f-496e-94fd-46da5c188975\")) {                    Plotly.newPlot(                        \"e578b523-9c0f-496e-94fd-46da5c188975\",                        [{\"alignmentgroup\":\"True\",\"bingroup\":\"x\",\"hovertemplate\":\"Classes=not fire<br>Ws=%{x}<br>count=%{y}<extra></extra>\",\"legendgroup\":\"not fire\",\"marker\":{\"color\":\"#636efa\",\"pattern\":{\"shape\":\"\"}},\"name\":\"not fire\",\"offsetgroup\":\"not fire\",\"orientation\":\"v\",\"showlegend\":true,\"x\":[18,13,22,13,16,13,12,21,20,17,13,16,14,16,16,17,13,19,19,20,17,18,14,13,14,13,15,13,19,21,18,22,16,14,12,14,18,13,17,21,17,15,15,17,19,17,17,15,12,21,13,21,26,15,14,19,11,19,21,11,14,16,14,12,13,14,14,14,17,18,15,16,15,15,17,10,14,14,14,16,15,18,16,15,17,9,10,18,14,14,13,14,16,19,15,12,14,15,14,13,6,15,15,29,18,15],\"xaxis\":\"x\",\"yaxis\":\"y\",\"type\":\"histogram\"},{\"alignmentgroup\":\"True\",\"bingroup\":\"x\",\"hovertemplate\":\"Classes=fire<br>Ws=%{x}<br>count=%{y}<extra></extra>\",\"legendgroup\":\"fire\",\"marker\":{\"color\":\"#EF553B\",\"pattern\":{\"shape\":\"\"}},\"name\":\"fire\",\"offsetgroup\":\"fire\",\"orientation\":\"v\",\"showlegend\":true,\"x\":[14,13,15,14,19,14,18,17,15,18,18,14,14,14,14,19,14,14,17,15,17,18,19,13,15,15,15,17,13,13,14,16,17,14,13,15,14,13,18,18,18,19,19,19,18,16,14,15,18,21,16,18,16,14,11,14,18,11,11,11,17,15,21,17,14,16,16,16,15,13,13,16,17,18,18,15,13,18,15,13,13,18,17,17,17,15,16,16,18,18,17,16,16,16,15,14,17,15,17,11,12,15,15,17,16,13,13,10,9,14,15,15,15,14,16,15,18,16,14,17,15,19,16,15,14,15,14,19,15,13,13,12,13,8,17,13,14,14],\"xaxis\":\"x\",\"yaxis\":\"y\",\"type\":\"histogram\"}],                        {\"template\":{\"data\":{\"bar\":[{\"error_x\":{\"color\":\"#2a3f5f\"},\"error_y\":{\"color\":\"#2a3f5f\"},\"marker\":{\"line\":{\"color\":\"#E5ECF6\",\"width\":0.5},\"pattern\":{\"fillmode\":\"overlay\",\"size\":10,\"solidity\":0.2}},\"type\":\"bar\"}],\"barpolar\":[{\"marker\":{\"line\":{\"color\":\"#E5ECF6\",\"width\":0.5},\"pattern\":{\"fillmode\":\"overlay\",\"size\":10,\"solidity\":0.2}},\"type\":\"barpolar\"}],\"carpet\":[{\"aaxis\":{\"endlinecolor\":\"#2a3f5f\",\"gridcolor\":\"white\",\"linecolor\":\"white\",\"minorgridcolor\":\"white\",\"startlinecolor\":\"#2a3f5f\"},\"baxis\":{\"endlinecolor\":\"#2a3f5f\",\"gridcolor\":\"white\",\"linecolor\":\"white\",\"minorgridcolor\":\"white\",\"startlinecolor\":\"#2a3f5f\"},\"type\":\"carpet\"}],\"choropleth\":[{\"colorbar\":{\"outlinewidth\":0,\"ticks\":\"\"},\"type\":\"choropleth\"}],\"contour\":[{\"colorbar\":{\"outlinewidth\":0,\"ticks\":\"\"},\"colorscale\":[[0.0,\"#0d0887\"],[0.1111111111111111,\"#46039f\"],[0.2222222222222222,\"#7201a8\"],[0.3333333333333333,\"#9c179e\"],[0.4444444444444444,\"#bd3786\"],[0.5555555555555556,\"#d8576b\"],[0.6666666666666666,\"#ed7953\"],[0.7777777777777778,\"#fb9f3a\"],[0.8888888888888888,\"#fdca26\"],[1.0,\"#f0f921\"]],\"type\":\"contour\"}],\"contourcarpet\":[{\"colorbar\":{\"outlinewidth\":0,\"ticks\":\"\"},\"type\":\"contourcarpet\"}],\"heatmap\":[{\"colorbar\":{\"outlinewidth\":0,\"ticks\":\"\"},\"colorscale\":[[0.0,\"#0d0887\"],[0.1111111111111111,\"#46039f\"],[0.2222222222222222,\"#7201a8\"],[0.3333333333333333,\"#9c179e\"],[0.4444444444444444,\"#bd3786\"],[0.5555555555555556,\"#d8576b\"],[0.6666666666666666,\"#ed7953\"],[0.7777777777777778,\"#fb9f3a\"],[0.8888888888888888,\"#fdca26\"],[1.0,\"#f0f921\"]],\"type\":\"heatmap\"}],\"heatmapgl\":[{\"colorbar\":{\"outlinewidth\":0,\"ticks\":\"\"},\"colorscale\":[[0.0,\"#0d0887\"],[0.1111111111111111,\"#46039f\"],[0.2222222222222222,\"#7201a8\"],[0.3333333333333333,\"#9c179e\"],[0.4444444444444444,\"#bd3786\"],[0.5555555555555556,\"#d8576b\"],[0.6666666666666666,\"#ed7953\"],[0.7777777777777778,\"#fb9f3a\"],[0.8888888888888888,\"#fdca26\"],[1.0,\"#f0f921\"]],\"type\":\"heatmapgl\"}],\"histogram\":[{\"marker\":{\"pattern\":{\"fillmode\":\"overlay\",\"size\":10,\"solidity\":0.2}},\"type\":\"histogram\"}],\"histogram2d\":[{\"colorbar\":{\"outlinewidth\":0,\"ticks\":\"\"},\"colorscale\":[[0.0,\"#0d0887\"],[0.1111111111111111,\"#46039f\"],[0.2222222222222222,\"#7201a8\"],[0.3333333333333333,\"#9c179e\"],[0.4444444444444444,\"#bd3786\"],[0.5555555555555556,\"#d8576b\"],[0.6666666666666666,\"#ed7953\"],[0.7777777777777778,\"#fb9f3a\"],[0.8888888888888888,\"#fdca26\"],[1.0,\"#f0f921\"]],\"type\":\"histogram2d\"}],\"histogram2dcontour\":[{\"colorbar\":{\"outlinewidth\":0,\"ticks\":\"\"},\"colorscale\":[[0.0,\"#0d0887\"],[0.1111111111111111,\"#46039f\"],[0.2222222222222222,\"#7201a8\"],[0.3333333333333333,\"#9c179e\"],[0.4444444444444444,\"#bd3786\"],[0.5555555555555556,\"#d8576b\"],[0.6666666666666666,\"#ed7953\"],[0.7777777777777778,\"#fb9f3a\"],[0.8888888888888888,\"#fdca26\"],[1.0,\"#f0f921\"]],\"type\":\"histogram2dcontour\"}],\"mesh3d\":[{\"colorbar\":{\"outlinewidth\":0,\"ticks\":\"\"},\"type\":\"mesh3d\"}],\"parcoords\":[{\"line\":{\"colorbar\":{\"outlinewidth\":0,\"ticks\":\"\"}},\"type\":\"parcoords\"}],\"pie\":[{\"automargin\":true,\"type\":\"pie\"}],\"scatter\":[{\"marker\":{\"colorbar\":{\"outlinewidth\":0,\"ticks\":\"\"}},\"type\":\"scatter\"}],\"scatter3d\":[{\"line\":{\"colorbar\":{\"outlinewidth\":0,\"ticks\":\"\"}},\"marker\":{\"colorbar\":{\"outlinewidth\":0,\"ticks\":\"\"}},\"type\":\"scatter3d\"}],\"scattercarpet\":[{\"marker\":{\"colorbar\":{\"outlinewidth\":0,\"ticks\":\"\"}},\"type\":\"scattercarpet\"}],\"scattergeo\":[{\"marker\":{\"colorbar\":{\"outlinewidth\":0,\"ticks\":\"\"}},\"type\":\"scattergeo\"}],\"scattergl\":[{\"marker\":{\"colorbar\":{\"outlinewidth\":0,\"ticks\":\"\"}},\"type\":\"scattergl\"}],\"scattermapbox\":[{\"marker\":{\"colorbar\":{\"outlinewidth\":0,\"ticks\":\"\"}},\"type\":\"scattermapbox\"}],\"scatterpolar\":[{\"marker\":{\"colorbar\":{\"outlinewidth\":0,\"ticks\":\"\"}},\"type\":\"scatterpolar\"}],\"scatterpolargl\":[{\"marker\":{\"colorbar\":{\"outlinewidth\":0,\"ticks\":\"\"}},\"type\":\"scatterpolargl\"}],\"scatterternary\":[{\"marker\":{\"colorbar\":{\"outlinewidth\":0,\"ticks\":\"\"}},\"type\":\"scatterternary\"}],\"surface\":[{\"colorbar\":{\"outlinewidth\":0,\"ticks\":\"\"},\"colorscale\":[[0.0,\"#0d0887\"],[0.1111111111111111,\"#46039f\"],[0.2222222222222222,\"#7201a8\"],[0.3333333333333333,\"#9c179e\"],[0.4444444444444444,\"#bd3786\"],[0.5555555555555556,\"#d8576b\"],[0.6666666666666666,\"#ed7953\"],[0.7777777777777778,\"#fb9f3a\"],[0.8888888888888888,\"#fdca26\"],[1.0,\"#f0f921\"]],\"type\":\"surface\"}],\"table\":[{\"cells\":{\"fill\":{\"color\":\"#EBF0F8\"},\"line\":{\"color\":\"white\"}},\"header\":{\"fill\":{\"color\":\"#C8D4E3\"},\"line\":{\"color\":\"white\"}},\"type\":\"table\"}]},\"layout\":{\"annotationdefaults\":{\"arrowcolor\":\"#2a3f5f\",\"arrowhead\":0,\"arrowwidth\":1},\"autotypenumbers\":\"strict\",\"coloraxis\":{\"colorbar\":{\"outlinewidth\":0,\"ticks\":\"\"}},\"colorscale\":{\"diverging\":[[0,\"#8e0152\"],[0.1,\"#c51b7d\"],[0.2,\"#de77ae\"],[0.3,\"#f1b6da\"],[0.4,\"#fde0ef\"],[0.5,\"#f7f7f7\"],[0.6,\"#e6f5d0\"],[0.7,\"#b8e186\"],[0.8,\"#7fbc41\"],[0.9,\"#4d9221\"],[1,\"#276419\"]],\"sequential\":[[0.0,\"#0d0887\"],[0.1111111111111111,\"#46039f\"],[0.2222222222222222,\"#7201a8\"],[0.3333333333333333,\"#9c179e\"],[0.4444444444444444,\"#bd3786\"],[0.5555555555555556,\"#d8576b\"],[0.6666666666666666,\"#ed7953\"],[0.7777777777777778,\"#fb9f3a\"],[0.8888888888888888,\"#fdca26\"],[1.0,\"#f0f921\"]],\"sequentialminus\":[[0.0,\"#0d0887\"],[0.1111111111111111,\"#46039f\"],[0.2222222222222222,\"#7201a8\"],[0.3333333333333333,\"#9c179e\"],[0.4444444444444444,\"#bd3786\"],[0.5555555555555556,\"#d8576b\"],[0.6666666666666666,\"#ed7953\"],[0.7777777777777778,\"#fb9f3a\"],[0.8888888888888888,\"#fdca26\"],[1.0,\"#f0f921\"]]},\"colorway\":[\"#636efa\",\"#EF553B\",\"#00cc96\",\"#ab63fa\",\"#FFA15A\",\"#19d3f3\",\"#FF6692\",\"#B6E880\",\"#FF97FF\",\"#FECB52\"],\"font\":{\"color\":\"#2a3f5f\"},\"geo\":{\"bgcolor\":\"white\",\"lakecolor\":\"white\",\"landcolor\":\"#E5ECF6\",\"showlakes\":true,\"showland\":true,\"subunitcolor\":\"white\"},\"hoverlabel\":{\"align\":\"left\"},\"hovermode\":\"closest\",\"mapbox\":{\"style\":\"light\"},\"paper_bgcolor\":\"white\",\"plot_bgcolor\":\"#E5ECF6\",\"polar\":{\"angularaxis\":{\"gridcolor\":\"white\",\"linecolor\":\"white\",\"ticks\":\"\"},\"bgcolor\":\"#E5ECF6\",\"radialaxis\":{\"gridcolor\":\"white\",\"linecolor\":\"white\",\"ticks\":\"\"}},\"scene\":{\"xaxis\":{\"backgroundcolor\":\"#E5ECF6\",\"gridcolor\":\"white\",\"gridwidth\":2,\"linecolor\":\"white\",\"showbackground\":true,\"ticks\":\"\",\"zerolinecolor\":\"white\"},\"yaxis\":{\"backgroundcolor\":\"#E5ECF6\",\"gridcolor\":\"white\",\"gridwidth\":2,\"linecolor\":\"white\",\"showbackground\":true,\"ticks\":\"\",\"zerolinecolor\":\"white\"},\"zaxis\":{\"backgroundcolor\":\"#E5ECF6\",\"gridcolor\":\"white\",\"gridwidth\":2,\"linecolor\":\"white\",\"showbackground\":true,\"ticks\":\"\",\"zerolinecolor\":\"white\"}},\"shapedefaults\":{\"line\":{\"color\":\"#2a3f5f\"}},\"ternary\":{\"aaxis\":{\"gridcolor\":\"white\",\"linecolor\":\"white\",\"ticks\":\"\"},\"baxis\":{\"gridcolor\":\"white\",\"linecolor\":\"white\",\"ticks\":\"\"},\"bgcolor\":\"#E5ECF6\",\"caxis\":{\"gridcolor\":\"white\",\"linecolor\":\"white\",\"ticks\":\"\"}},\"title\":{\"x\":0.05},\"xaxis\":{\"automargin\":true,\"gridcolor\":\"white\",\"linecolor\":\"white\",\"ticks\":\"\",\"title\":{\"standoff\":15},\"zerolinecolor\":\"white\",\"zerolinewidth\":2},\"yaxis\":{\"automargin\":true,\"gridcolor\":\"white\",\"linecolor\":\"white\",\"ticks\":\"\",\"title\":{\"standoff\":15},\"zerolinecolor\":\"white\",\"zerolinewidth\":2}}},\"xaxis\":{\"anchor\":\"y\",\"domain\":[0.0,1.0],\"title\":{\"text\":\"Ws\"}},\"yaxis\":{\"anchor\":\"x\",\"domain\":[0.0,1.0],\"title\":{\"text\":\"count\"}},\"legend\":{\"title\":{\"text\":\"Classes\"},\"tracegroupgap\":0},\"margin\":{\"t\":60},\"barmode\":\"group\"},                        {\"responsive\": true}                    ).then(function(){\n",
              "                            \n",
              "var gd = document.getElementById('e578b523-9c0f-496e-94fd-46da5c188975');\n",
              "var x = new MutationObserver(function (mutations, observer) {{\n",
              "        var display = window.getComputedStyle(gd).display;\n",
              "        if (!display || display === 'none') {{\n",
              "            console.log([gd, 'removed!']);\n",
              "            Plotly.purge(gd);\n",
              "            observer.disconnect();\n",
              "        }}\n",
              "}});\n",
              "\n",
              "// Listen for the removal of the full notebook cells\n",
              "var notebookContainer = gd.closest('#notebook-container');\n",
              "if (notebookContainer) {{\n",
              "    x.observe(notebookContainer, {childList: true});\n",
              "}}\n",
              "\n",
              "// Listen for the clearing of the current output cell\n",
              "var outputEl = gd.closest('.output');\n",
              "if (outputEl) {{\n",
              "    x.observe(outputEl, {childList: true});\n",
              "}}\n",
              "\n",
              "                        })                };                            </script>        </div>\n",
              "</body>\n",
              "</html>"
            ]
          },
          "metadata": {}
        }
      ]
    },
    {
      "cell_type": "markdown",
      "source": [
        "We could see from the above graph that most of the forest fires happens when the temparature in the range 30 to 36 and Wind speed in the range 14 to 17"
      ],
      "metadata": {
        "id": "cY_DSN4VZ8TO"
      }
    },
    {
      "cell_type": "markdown",
      "source": [
        "### Continuous Features"
      ],
      "metadata": {
        "id": "M5lftHNLgXLp"
      }
    },
    {
      "cell_type": "code",
      "source": [
        "continuous_feature = [feature for feature in numerical_features if feature not in discreate_feature+date_feature ]"
      ],
      "metadata": {
        "id": "oNe7Tvd-ZpFn"
      },
      "execution_count": 43,
      "outputs": []
    },
    {
      "cell_type": "code",
      "source": [
        "continuous_feature"
      ],
      "metadata": {
        "colab": {
          "base_uri": "https://localhost:8080/"
        },
        "id": "vmB7ZwKFgV7q",
        "outputId": "8a7c20e9-f2bf-4181-e877-cc6e084a839a"
      },
      "execution_count": 44,
      "outputs": [
        {
          "output_type": "execute_result",
          "data": {
            "text/plain": [
              "['RH', 'Rain', 'FFMC', 'DMC', 'DC', 'ISI', 'BUI', 'FWI']"
            ]
          },
          "metadata": {},
          "execution_count": 44
        }
      ]
    },
    {
      "cell_type": "code",
      "source": [
        "len(continuous_feature)"
      ],
      "metadata": {
        "colab": {
          "base_uri": "https://localhost:8080/"
        },
        "id": "sWWd_nVNgdb_",
        "outputId": "bddb5af1-912e-4a55-9540-5f3859e894e1"
      },
      "execution_count": 45,
      "outputs": [
        {
          "output_type": "execute_result",
          "data": {
            "text/plain": [
              "8"
            ]
          },
          "metadata": {},
          "execution_count": 45
        }
      ]
    },
    {
      "cell_type": "markdown",
      "source": [
        "#### Distribution of Continuous features"
      ],
      "metadata": {
        "id": "6rbjbbwruOBN"
      }
    },
    {
      "cell_type": "code",
      "source": [
        "for i in continuous_feature:\n",
        "  plt.figure(figsize=(10,5))\n",
        "  sns.histplot(data = data, x=i, kde = True)\n",
        "  plt.show()"
      ],
      "metadata": {
        "colab": {
          "base_uri": "https://localhost:8080/",
          "height": 1000
        },
        "id": "KnDS6Oz_uUwN",
        "outputId": "615ccc7b-b577-4e01-c7a5-4cb308b42182"
      },
      "execution_count": 46,
      "outputs": [
        {
          "output_type": "display_data",
          "data": {
            "text/plain": [
              "<Figure size 720x360 with 1 Axes>"
            ],
            "image/png": "[encoded data removed]"
          },
          "metadata": {
            "needs_background": "light"
          }
        },
        {
          "output_type": "display_data",
          "data": {
            "text/plain": [
              "<Figure size 720x360 with 1 Axes>"
            ],
            "image/png": "[encoded data removed]"
          },
          "metadata": {
            "needs_background": "light"
          }
        },
        {
          "output_type": "display_data",
          "data": {
            "text/plain": [
              "<Figure size 720x360 with 1 Axes>"
            ],
            "image/png": "[encoded data removed]"
          },
          "metadata": {
            "needs_background": "light"
          }
        },
        {
          "output_type": "display_data",
          "data": {
            "text/plain": [
              "<Figure size 720x360 with 1 Axes>"
            ],
            "image/png": "[encoded data removed]"
          },
          "metadata": {
            "needs_background": "light"
          }
        },
        {
          "output_type": "display_data",
          "data": {
            "text/plain": [
              "<Figure size 720x360 with 1 Axes>"
            ],
            "image/png": "[encoded data removed]"
          },
          "metadata": {
            "needs_background": "light"
          }
        },
        {
          "output_type": "display_data",
          "data": {
            "text/plain": [
              "<Figure size 720x360 with 1 Axes>"
            ],
            "image/png": "[encoded data removed]"
          },
          "metadata": {
            "needs_background": "light"
          }
        },
        {
          "output_type": "display_data",
          "data": {
            "text/plain": [
              "<Figure size 720x360 with 1 Axes>"
            ],
            "image/png": "[encoded data removed]"
          },
          "metadata": {
            "needs_background": "light"
          }
        },
        {
          "output_type": "display_data",
          "data": {
            "text/plain": [
              "<Figure size 720x360 with 1 Axes>"
            ],
            "image/png": "[encoded data removed]"
          },
          "metadata": {
            "needs_background": "light"
          }
        }
      ]
    },
    {
      "cell_type": "markdown",
      "source": [
        "Based on the above graphs, we could see most of the columns are log-normal distributed."
      ],
      "metadata": {
        "id": "fMZfGmZgugpU"
      }
    },
    {
      "cell_type": "markdown",
      "source": [
        "#### Find the relationship between Continuous and Classes"
      ],
      "metadata": {
        "id": "alF41Zw-pA9S"
      }
    },
    {
      "cell_type": "code",
      "source": [
        "fig, axes = plt.subplots(4, 2, figsize=(20,20))\n",
        "plt.subplots_adjust(left=None, bottom=None, right=None, top=None, wspace=0.7, hspace=0.4)\n",
        "for i, ax in enumerate(axes.ravel()):\n",
        "  print(ax)\n",
        "  if i > 10:\n",
        "    ax.set_visible(False)\n",
        "    continue\n",
        "  sns.boxplot(x = 'Classes', y = continuous_feature[i], data=data, ax=ax)\n",
        "plt.show()"
      ],
      "metadata": {
        "colab": {
          "base_uri": "https://localhost:8080/",
          "height": 1000
        },
        "id": "0WBBiJyigrll",
        "outputId": "98c225fd-abb4-42f3-b8a9-81552d23a016"
      },
      "execution_count": 47,
      "outputs": [
        {
          "output_type": "stream",
          "name": "stdout",
          "text": [
            "AxesSubplot(0.125,0.734808;0.287037x0.145192)\n",
            "AxesSubplot(0.612963,0.734808;0.287037x0.145192)\n",
            "AxesSubplot(0.125,0.531538;0.287037x0.145192)\n",
            "AxesSubplot(0.612963,0.531538;0.287037x0.145192)\n",
            "AxesSubplot(0.125,0.328269;0.287037x0.145192)\n",
            "AxesSubplot(0.612963,0.328269;0.287037x0.145192)\n",
            "AxesSubplot(0.125,0.125;0.287037x0.145192)\n",
            "AxesSubplot(0.612963,0.125;0.287037x0.145192)\n"
          ]
        },
        {
          "output_type": "display_data",
          "data": {
            "text/plain": [
              "<Figure size 1440x1440 with 8 Axes>"
            ],
            "image/png": "[encoded data removed]"
          },
          "metadata": {
            "needs_background": "light"
          }
        }
      ]
    },
    {
      "cell_type": "markdown",
      "source": [
        "As expected, when there is no rain the chance of fire is there. \n",
        "\n",
        "When BUI is between 20 to 30, the chance of Fire is more.\n",
        "\n",
        "When DC is between 50 to 100, the chance of Fire is more.\n",
        "\n",
        "When FFMC is more there is a chance of Fire\n",
        "\n",
        "When DMC is between 15 to 30, the chance of Fire is more.\n",
        "\n",
        "When FWI is between 6 to 17, the chance of Fire is more."
      ],
      "metadata": {
        "id": "pcQIkiscngJj"
      }
    },
    {
      "cell_type": "markdown",
      "source": [
        "## Target Analysis"
      ],
      "metadata": {
        "id": "SaCQvnUeux_2"
      }
    },
    {
      "cell_type": "code",
      "source": [
        "fig = px.histogram(data, x='Classes', color=\"Classes\", barmode='group')\n",
        "fig.show()"
      ],
      "metadata": {
        "colab": {
          "base_uri": "https://localhost:8080/",
          "height": 542
        },
        "id": "RHnqts83gvwk",
        "outputId": "3226503d-1bf4-429d-eae3-1bdd23e9dc9a"
      },
      "execution_count": 48,
      "outputs": [
        {
          "output_type": "display_data",
          "data": {
            "text/html": [
              "<html>\n",
              "<head><meta charset=\"utf-8\" /></head>\n",
              "<body>\n",
              "    <div>            <script src=\"https://cdnjs.cloudflare.com/ajax/libs/mathjax/2.7.5/MathJax.js?config=TeX-AMS-MML_SVG\"></script><script type=\"text/javascript\">if (window.MathJax) {MathJax.Hub.Config({SVG: {font: \"STIX-Web\"}});}</script>                <script type=\"text/javascript\">window.PlotlyConfig = {MathJaxConfig: 'local'};</script>\n",
              "        <script src=\"https://cdn.plot.ly/plotly-2.8.3.min.js\"></script>                <div id=\"d64c25d2-88f5-4f5f-81ae-ca0320bf4708\" class=\"plotly-graph-div\" style=\"height:525px; width:100%;\"></div>            <script type=\"text/javascript\">                                    window.PLOTLYENV=window.PLOTLYENV || {};                                    if (document.getElementById(\"d64c25d2-88f5-4f5f-81ae-ca0320bf4708\")) {                    Plotly.newPlot(                        \"d64c25d2-88f5-4f5f-81ae-ca0320bf4708\",                        [{\"alignmentgroup\":\"True\",\"bingroup\":\"x\",\"hovertemplate\":\"Classes=%{x}<br>count=%{y}<extra></extra>\",\"legendgroup\":\"not fire\",\"marker\":{\"color\":\"#636efa\",\"pattern\":{\"shape\":\"\"}},\"name\":\"not fire\",\"offsetgroup\":\"not fire\",\"orientation\":\"v\",\"showlegend\":true,\"x\":[\"not fire\",\"not fire\",\"not fire\",\"not fire\",\"not fire\",\"not fire\",\"not fire\",\"not fire\",\"not fire\",\"not fire\",\"not fire\",\"not fire\",\"not fire\",\"not fire\",\"not fire\",\"not fire\",\"not fire\",\"not fire\",\"not fire\",\"not fire\",\"not fire\",\"not fire\",\"not fire\",\"not fire\",\"not fire\",\"not fire\",\"not fire\",\"not fire\",\"not fire\",\"not fire\",\"not fire\",\"not fire\",\"not fire\",\"not fire\",\"not fire\",\"not fire\",\"not fire\",\"not fire\",\"not fire\",\"not fire\",\"not fire\",\"not fire\",\"not fire\",\"not fire\",\"not fire\",\"not fire\",\"not fire\",\"not fire\",\"not fire\",\"not fire\",\"not fire\",\"not fire\",\"not fire\",\"not fire\",\"not fire\",\"not fire\",\"not fire\",\"not fire\",\"not fire\",\"not fire\",\"not fire\",\"not fire\",\"not fire\",\"not fire\",\"not fire\",\"not fire\",\"not fire\",\"not fire\",\"not fire\",\"not fire\",\"not fire\",\"not fire\",\"not fire\",\"not fire\",\"not fire\",\"not fire\",\"not fire\",\"not fire\",\"not fire\",\"not fire\",\"not fire\",\"not fire\",\"not fire\",\"not fire\",\"not fire\",\"not fire\",\"not fire\",\"not fire\",\"not fire\",\"not fire\",\"not fire\",\"not fire\",\"not fire\",\"not fire\",\"not fire\",\"not fire\",\"not fire\",\"not fire\",\"not fire\",\"not fire\",\"not fire\",\"not fire\",\"not fire\",\"not fire\",\"not fire\",\"not fire\"],\"xaxis\":\"x\",\"yaxis\":\"y\",\"type\":\"histogram\"},{\"alignmentgroup\":\"True\",\"bingroup\":\"x\",\"hovertemplate\":\"Classes=%{x}<br>count=%{y}<extra></extra>\",\"legendgroup\":\"fire\",\"marker\":{\"color\":\"#EF553B\",\"pattern\":{\"shape\":\"\"}},\"name\":\"fire\",\"offsetgroup\":\"fire\",\"orientation\":\"v\",\"showlegend\":true,\"x\":[\"fire\",\"fire\",\"fire\",\"fire\",\"fire\",\"fire\",\"fire\",\"fire\",\"fire\",\"fire\",\"fire\",\"fire\",\"fire\",\"fire\",\"fire\",\"fire\",\"fire\",\"fire\",\"fire\",\"fire\",\"fire\",\"fire\",\"fire\",\"fire\",\"fire\",\"fire\",\"fire\",\"fire\",\"fire\",\"fire\",\"fire\",\"fire\",\"fire\",\"fire\",\"fire\",\"fire\",\"fire\",\"fire\",\"fire\",\"fire\",\"fire\",\"fire\",\"fire\",\"fire\",\"fire\",\"fire\",\"fire\",\"fire\",\"fire\",\"fire\",\"fire\",\"fire\",\"fire\",\"fire\",\"fire\",\"fire\",\"fire\",\"fire\",\"fire\",\"fire\",\"fire\",\"fire\",\"fire\",\"fire\",\"fire\",\"fire\",\"fire\",\"fire\",\"fire\",\"fire\",\"fire\",\"fire\",\"fire\",\"fire\",\"fire\",\"fire\",\"fire\",\"fire\",\"fire\",\"fire\",\"fire\",\"fire\",\"fire\",\"fire\",\"fire\",\"fire\",\"fire\",\"fire\",\"fire\",\"fire\",\"fire\",\"fire\",\"fire\",\"fire\",\"fire\",\"fire\",\"fire\",\"fire\",\"fire\",\"fire\",\"fire\",\"fire\",\"fire\",\"fire\",\"fire\",\"fire\",\"fire\",\"fire\",\"fire\",\"fire\",\"fire\",\"fire\",\"fire\",\"fire\",\"fire\",\"fire\",\"fire\",\"fire\",\"fire\",\"fire\",\"fire\",\"fire\",\"fire\",\"fire\",\"fire\",\"fire\",\"fire\",\"fire\",\"fire\",\"fire\",\"fire\",\"fire\",\"fire\",\"fire\",\"fire\",\"fire\",\"fire\",\"fire\"],\"xaxis\":\"x\",\"yaxis\":\"y\",\"type\":\"histogram\"}],                        {\"template\":{\"data\":{\"bar\":[{\"error_x\":{\"color\":\"#2a3f5f\"},\"error_y\":{\"color\":\"#2a3f5f\"},\"marker\":{\"line\":{\"color\":\"#E5ECF6\",\"width\":0.5},\"pattern\":{\"fillmode\":\"overlay\",\"size\":10,\"solidity\":0.2}},\"type\":\"bar\"}],\"barpolar\":[{\"marker\":{\"line\":{\"color\":\"#E5ECF6\",\"width\":0.5},\"pattern\":{\"fillmode\":\"overlay\",\"size\":10,\"solidity\":0.2}},\"type\":\"barpolar\"}],\"carpet\":[{\"aaxis\":{\"endlinecolor\":\"#2a3f5f\",\"gridcolor\":\"white\",\"linecolor\":\"white\",\"minorgridcolor\":\"white\",\"startlinecolor\":\"#2a3f5f\"},\"baxis\":{\"endlinecolor\":\"#2a3f5f\",\"gridcolor\":\"white\",\"linecolor\":\"white\",\"minorgridcolor\":\"white\",\"startlinecolor\":\"#2a3f5f\"},\"type\":\"carpet\"}],\"choropleth\":[{\"colorbar\":{\"outlinewidth\":0,\"ticks\":\"\"},\"type\":\"choropleth\"}],\"contour\":[{\"colorbar\":{\"outlinewidth\":0,\"ticks\":\"\"},\"colorscale\":[[0.0,\"#0d0887\"],[0.1111111111111111,\"#46039f\"],[0.2222222222222222,\"#7201a8\"],[0.3333333333333333,\"#9c179e\"],[0.4444444444444444,\"#bd3786\"],[0.5555555555555556,\"#d8576b\"],[0.6666666666666666,\"#ed7953\"],[0.7777777777777778,\"#fb9f3a\"],[0.8888888888888888,\"#fdca26\"],[1.0,\"#f0f921\"]],\"type\":\"contour\"}],\"contourcarpet\":[{\"colorbar\":{\"outlinewidth\":0,\"ticks\":\"\"},\"type\":\"contourcarpet\"}],\"heatmap\":[{\"colorbar\":{\"outlinewidth\":0,\"ticks\":\"\"},\"colorscale\":[[0.0,\"#0d0887\"],[0.1111111111111111,\"#46039f\"],[0.2222222222222222,\"#7201a8\"],[0.3333333333333333,\"#9c179e\"],[0.4444444444444444,\"#bd3786\"],[0.5555555555555556,\"#d8576b\"],[0.6666666666666666,\"#ed7953\"],[0.7777777777777778,\"#fb9f3a\"],[0.8888888888888888,\"#fdca26\"],[1.0,\"#f0f921\"]],\"type\":\"heatmap\"}],\"heatmapgl\":[{\"colorbar\":{\"outlinewidth\":0,\"ticks\":\"\"},\"colorscale\":[[0.0,\"#0d0887\"],[0.1111111111111111,\"#46039f\"],[0.2222222222222222,\"#7201a8\"],[0.3333333333333333,\"#9c179e\"],[0.4444444444444444,\"#bd3786\"],[0.5555555555555556,\"#d8576b\"],[0.6666666666666666,\"#ed7953\"],[0.7777777777777778,\"#fb9f3a\"],[0.8888888888888888,\"#fdca26\"],[1.0,\"#f0f921\"]],\"type\":\"heatmapgl\"}],\"histogram\":[{\"marker\":{\"pattern\":{\"fillmode\":\"overlay\",\"size\":10,\"solidity\":0.2}},\"type\":\"histogram\"}],\"histogram2d\":[{\"colorbar\":{\"outlinewidth\":0,\"ticks\":\"\"},\"colorscale\":[[0.0,\"#0d0887\"],[0.1111111111111111,\"#46039f\"],[0.2222222222222222,\"#7201a8\"],[0.3333333333333333,\"#9c179e\"],[0.4444444444444444,\"#bd3786\"],[0.5555555555555556,\"#d8576b\"],[0.6666666666666666,\"#ed7953\"],[0.7777777777777778,\"#fb9f3a\"],[0.8888888888888888,\"#fdca26\"],[1.0,\"#f0f921\"]],\"type\":\"histogram2d\"}],\"histogram2dcontour\":[{\"colorbar\":{\"outlinewidth\":0,\"ticks\":\"\"},\"colorscale\":[[0.0,\"#0d0887\"],[0.1111111111111111,\"#46039f\"],[0.2222222222222222,\"#7201a8\"],[0.3333333333333333,\"#9c179e\"],[0.4444444444444444,\"#bd3786\"],[0.5555555555555556,\"#d8576b\"],[0.6666666666666666,\"#ed7953\"],[0.7777777777777778,\"#fb9f3a\"],[0.8888888888888888,\"#fdca26\"],[1.0,\"#f0f921\"]],\"type\":\"histogram2dcontour\"}],\"mesh3d\":[{\"colorbar\":{\"outlinewidth\":0,\"ticks\":\"\"},\"type\":\"mesh3d\"}],\"parcoords\":[{\"line\":{\"colorbar\":{\"outlinewidth\":0,\"ticks\":\"\"}},\"type\":\"parcoords\"}],\"pie\":[{\"automargin\":true,\"type\":\"pie\"}],\"scatter\":[{\"marker\":{\"colorbar\":{\"outlinewidth\":0,\"ticks\":\"\"}},\"type\":\"scatter\"}],\"scatter3d\":[{\"line\":{\"colorbar\":{\"outlinewidth\":0,\"ticks\":\"\"}},\"marker\":{\"colorbar\":{\"outlinewidth\":0,\"ticks\":\"\"}},\"type\":\"scatter3d\"}],\"scattercarpet\":[{\"marker\":{\"colorbar\":{\"outlinewidth\":0,\"ticks\":\"\"}},\"type\":\"scattercarpet\"}],\"scattergeo\":[{\"marker\":{\"colorbar\":{\"outlinewidth\":0,\"ticks\":\"\"}},\"type\":\"scattergeo\"}],\"scattergl\":[{\"marker\":{\"colorbar\":{\"outlinewidth\":0,\"ticks\":\"\"}},\"type\":\"scattergl\"}],\"scattermapbox\":[{\"marker\":{\"colorbar\":{\"outlinewidth\":0,\"ticks\":\"\"}},\"type\":\"scattermapbox\"}],\"scatterpolar\":[{\"marker\":{\"colorbar\":{\"outlinewidth\":0,\"ticks\":\"\"}},\"type\":\"scatterpolar\"}],\"scatterpolargl\":[{\"marker\":{\"colorbar\":{\"outlinewidth\":0,\"ticks\":\"\"}},\"type\":\"scatterpolargl\"}],\"scatterternary\":[{\"marker\":{\"colorbar\":{\"outlinewidth\":0,\"ticks\":\"\"}},\"type\":\"scatterternary\"}],\"surface\":[{\"colorbar\":{\"outlinewidth\":0,\"ticks\":\"\"},\"colorscale\":[[0.0,\"#0d0887\"],[0.1111111111111111,\"#46039f\"],[0.2222222222222222,\"#7201a8\"],[0.3333333333333333,\"#9c179e\"],[0.4444444444444444,\"#bd3786\"],[0.5555555555555556,\"#d8576b\"],[0.6666666666666666,\"#ed7953\"],[0.7777777777777778,\"#fb9f3a\"],[0.8888888888888888,\"#fdca26\"],[1.0,\"#f0f921\"]],\"type\":\"surface\"}],\"table\":[{\"cells\":{\"fill\":{\"color\":\"#EBF0F8\"},\"line\":{\"color\":\"white\"}},\"header\":{\"fill\":{\"color\":\"#C8D4E3\"},\"line\":{\"color\":\"white\"}},\"type\":\"table\"}]},\"layout\":{\"annotationdefaults\":{\"arrowcolor\":\"#2a3f5f\",\"arrowhead\":0,\"arrowwidth\":1},\"autotypenumbers\":\"strict\",\"coloraxis\":{\"colorbar\":{\"outlinewidth\":0,\"ticks\":\"\"}},\"colorscale\":{\"diverging\":[[0,\"#8e0152\"],[0.1,\"#c51b7d\"],[0.2,\"#de77ae\"],[0.3,\"#f1b6da\"],[0.4,\"#fde0ef\"],[0.5,\"#f7f7f7\"],[0.6,\"#e6f5d0\"],[0.7,\"#b8e186\"],[0.8,\"#7fbc41\"],[0.9,\"#4d9221\"],[1,\"#276419\"]],\"sequential\":[[0.0,\"#0d0887\"],[0.1111111111111111,\"#46039f\"],[0.2222222222222222,\"#7201a8\"],[0.3333333333333333,\"#9c179e\"],[0.4444444444444444,\"#bd3786\"],[0.5555555555555556,\"#d8576b\"],[0.6666666666666666,\"#ed7953\"],[0.7777777777777778,\"#fb9f3a\"],[0.8888888888888888,\"#fdca26\"],[1.0,\"#f0f921\"]],\"sequentialminus\":[[0.0,\"#0d0887\"],[0.1111111111111111,\"#46039f\"],[0.2222222222222222,\"#7201a8\"],[0.3333333333333333,\"#9c179e\"],[0.4444444444444444,\"#bd3786\"],[0.5555555555555556,\"#d8576b\"],[0.6666666666666666,\"#ed7953\"],[0.7777777777777778,\"#fb9f3a\"],[0.8888888888888888,\"#fdca26\"],[1.0,\"#f0f921\"]]},\"colorway\":[\"#636efa\",\"#EF553B\",\"#00cc96\",\"#ab63fa\",\"#FFA15A\",\"#19d3f3\",\"#FF6692\",\"#B6E880\",\"#FF97FF\",\"#FECB52\"],\"font\":{\"color\":\"#2a3f5f\"},\"geo\":{\"bgcolor\":\"white\",\"lakecolor\":\"white\",\"landcolor\":\"#E5ECF6\",\"showlakes\":true,\"showland\":true,\"subunitcolor\":\"white\"},\"hoverlabel\":{\"align\":\"left\"},\"hovermode\":\"closest\",\"mapbox\":{\"style\":\"light\"},\"paper_bgcolor\":\"white\",\"plot_bgcolor\":\"#E5ECF6\",\"polar\":{\"angularaxis\":{\"gridcolor\":\"white\",\"linecolor\":\"white\",\"ticks\":\"\"},\"bgcolor\":\"#E5ECF6\",\"radialaxis\":{\"gridcolor\":\"white\",\"linecolor\":\"white\",\"ticks\":\"\"}},\"scene\":{\"xaxis\":{\"backgroundcolor\":\"#E5ECF6\",\"gridcolor\":\"white\",\"gridwidth\":2,\"linecolor\":\"white\",\"showbackground\":true,\"ticks\":\"\",\"zerolinecolor\":\"white\"},\"yaxis\":{\"backgroundcolor\":\"#E5ECF6\",\"gridcolor\":\"white\",\"gridwidth\":2,\"linecolor\":\"white\",\"showbackground\":true,\"ticks\":\"\",\"zerolinecolor\":\"white\"},\"zaxis\":{\"backgroundcolor\":\"#E5ECF6\",\"gridcolor\":\"white\",\"gridwidth\":2,\"linecolor\":\"white\",\"showbackground\":true,\"ticks\":\"\",\"zerolinecolor\":\"white\"}},\"shapedefaults\":{\"line\":{\"color\":\"#2a3f5f\"}},\"ternary\":{\"aaxis\":{\"gridcolor\":\"white\",\"linecolor\":\"white\",\"ticks\":\"\"},\"baxis\":{\"gridcolor\":\"white\",\"linecolor\":\"white\",\"ticks\":\"\"},\"bgcolor\":\"#E5ECF6\",\"caxis\":{\"gridcolor\":\"white\",\"linecolor\":\"white\",\"ticks\":\"\"}},\"title\":{\"x\":0.05},\"xaxis\":{\"automargin\":true,\"gridcolor\":\"white\",\"linecolor\":\"white\",\"ticks\":\"\",\"title\":{\"standoff\":15},\"zerolinecolor\":\"white\",\"zerolinewidth\":2},\"yaxis\":{\"automargin\":true,\"gridcolor\":\"white\",\"linecolor\":\"white\",\"ticks\":\"\",\"title\":{\"standoff\":15},\"zerolinecolor\":\"white\",\"zerolinewidth\":2}}},\"xaxis\":{\"anchor\":\"y\",\"domain\":[0.0,1.0],\"title\":{\"text\":\"Classes\"},\"categoryorder\":\"array\",\"categoryarray\":[\"not fire\",\"fire\"]},\"yaxis\":{\"anchor\":\"x\",\"domain\":[0.0,1.0],\"title\":{\"text\":\"count\"}},\"legend\":{\"title\":{\"text\":\"Classes\"},\"tracegroupgap\":0},\"margin\":{\"t\":60},\"barmode\":\"group\"},                        {\"responsive\": true}                    ).then(function(){\n",
              "                            \n",
              "var gd = document.getElementById('d64c25d2-88f5-4f5f-81ae-ca0320bf4708');\n",
              "var x = new MutationObserver(function (mutations, observer) {{\n",
              "        var display = window.getComputedStyle(gd).display;\n",
              "        if (!display || display === 'none') {{\n",
              "            console.log([gd, 'removed!']);\n",
              "            Plotly.purge(gd);\n",
              "            observer.disconnect();\n",
              "        }}\n",
              "}});\n",
              "\n",
              "// Listen for the removal of the full notebook cells\n",
              "var notebookContainer = gd.closest('#notebook-container');\n",
              "if (notebookContainer) {{\n",
              "    x.observe(notebookContainer, {childList: true});\n",
              "}}\n",
              "\n",
              "// Listen for the clearing of the current output cell\n",
              "var outputEl = gd.closest('.output');\n",
              "if (outputEl) {{\n",
              "    x.observe(outputEl, {childList: true});\n",
              "}}\n",
              "\n",
              "                        })                };                            </script>        </div>\n",
              "</body>\n",
              "</html>"
            ]
          },
          "metadata": {}
        }
      ]
    },
    {
      "cell_type": "code",
      "source": [
        "data['Classes'].value_counts()/len(data['Classes'])*100"
      ],
      "metadata": {
        "colab": {
          "base_uri": "https://localhost:8080/"
        },
        "id": "qdu-Vop1vdu7",
        "outputId": "9a303be0-8ca9-4dbb-9f90-e6f79c71ecd6"
      },
      "execution_count": 49,
      "outputs": [
        {
          "output_type": "execute_result",
          "data": {
            "text/plain": [
              "fire        56.557377\n",
              "not fire    43.442623\n",
              "Name: Classes, dtype: float64"
            ]
          },
          "metadata": {},
          "execution_count": 49
        }
      ]
    },
    {
      "cell_type": "markdown",
      "source": [
        "Based on the graph as well as the ratio calculation, The classes are equally balanced and there is no class imbalance"
      ],
      "metadata": {
        "id": "5v7q1ialvbN0"
      }
    },
    {
      "cell_type": "markdown",
      "source": [
        "## Relationship between independent variables"
      ],
      "metadata": {
        "id": "YrhZPmThwRuL"
      }
    },
    {
      "cell_type": "markdown",
      "source": [
        ""
      ],
      "metadata": {
        "id": "gfY95pKxwrtP"
      }
    },
    {
      "cell_type": "code",
      "source": [
        "index_vals = data['Classes'].astype('category').cat.codes\n",
        "fig = go.Figure(data=go.Splom(\n",
        "                dimensions=[dict(label='Temperature',\n",
        "                                 values=data['Temperature']),\n",
        "                            dict(label='RH',\n",
        "                                 values=data['RH']),\n",
        "                            dict(label='Ws',\n",
        "                                 values=data['Ws']),\n",
        "                            dict(label='Rain',\n",
        "                                 values=data['Rain']),\n",
        "                            dict(label='FFMC',\n",
        "                                 values=data['FFMC']),\n",
        "                            dict(label='DMC',\n",
        "                                 values=data['DMC']),\n",
        "                            dict(label='DC',\n",
        "                                 values=data['DC']),  \n",
        "                            dict(label='ISI',\n",
        "                                 values=data['ISI']), \n",
        "                            dict(label='BUI',\n",
        "                                 values=data['BUI']), \n",
        "                            dict(label='FWI',\n",
        "                                 values=data['FWI'])                                                                                                                                                                       \n",
        "                            ],\n",
        "                showupperhalf=False, # remove plots on diagonal\n",
        "                text=data['Classes'],\n",
        "                marker=dict(color=index_vals,\n",
        "                            showscale=False, # colors encode categorical variables\n",
        "                            line_color='white', line_width=0.5)\n",
        "                ))\n",
        "\n",
        "\n",
        "fig.update_layout(\n",
        "    title='Algerian Fire Data set',\n",
        "    width=1200,\n",
        "    height=1200,\n",
        ")\n",
        "\n",
        "fig.show()\n"
      ],
      "metadata": {
        "colab": {
          "base_uri": "https://localhost:8080/",
          "height": 1000
        },
        "id": "zILI0s0OyH5X",
        "outputId": "69ad011b-0384-44d3-8e6e-3df01381b713"
      },
      "execution_count": 50,
      "outputs": [
        {
          "output_type": "display_data",
          "data": {
            "text/html": [
              "<html>\n",
              "<head><meta charset=\"utf-8\" /></head>\n",
              "<body>\n",
              "    <div>            <script src=\"https://cdnjs.cloudflare.com/ajax/libs/mathjax/2.7.5/MathJax.js?config=TeX-AMS-MML_SVG\"></script><script type=\"text/javascript\">if (window.MathJax) {MathJax.Hub.Config({SVG: {font: \"STIX-Web\"}});}</script>                <script type=\"text/javascript\">window.PlotlyConfig = {MathJaxConfig: 'local'};</script>\n",
              "        <script src=\"https://cdn.plot.ly/plotly-2.8.3.min.js\"></script>                <div id=\"2a5bc5d9-3768-4e93-9dc7-4d7647d0701b\" class=\"plotly-graph-div\" style=\"height:1200px; width:1200px;\"></div>            <script type=\"text/javascript\">                                    window.PLOTLYENV=window.PLOTLYENV || {};                                    if (document.getElementById(\"2a5bc5d9-3768-4e93-9dc7-4d7647d0701b\")) {                    Plotly.newPlot(                        \"2a5bc5d9-3768-4e93-9dc7-4d7647d0701b\",                        [{\"dimensions\":[{\"label\":\"Temperature\",\"values\":[29,29,26,25,27,31,33,30,25,28,31,26,27,30,28,29,30,31,31,30,30,31,32,32,31,31,34,32,32,33,29,27,32,33,33,32,35,33,32,33,33,31,34,34,30,28,29,31,35,33,33,28,27,28,31,36,36,33,32,31,35,36,35,35,34,34,32,32,32,35,35,35,35,35,33,36,36,37,36,35,35,36,36,36,34,35,31,33,34,35,35,28,25,22,25,29,29,29,31,30,30,33,30,29,25,22,24,30,31,32,29,28,31,31,32,29,26,31,31,32,26,25,32,30,29,30,32,35,35,28,27,30,31,27,30,27,28,29,31,33,32,31,32,33,33,35,34,36,36,37,37,34,28,33,34,34,34,35,38,35,36,34,34,36,39,37,34,31,32,33,34,36,36,32,31,33,39,35,29,33,34,36,37,38,40,39,38,34,30,34,37,39,39,40,39,35,37,35,40,42,37,35,36,36,37,36,35,34,33,36,35,35,34,30,29,28,28,30,30,34,31,30,30,29,30,31,29,28,32,33,34,36,29,34,35,33,35,26,28,30,28,27,24,24]},{\"label\":\"RH\",\"values\":[57,61,82,89,77,67,54,73,88,79,65,81,84,78,80,89,89,78,55,80,78,67,62,66,64,64,53,55,47,50,68,75,76,78,66,63,64,68,68,69,76,75,81,61,80,76,70,68,59,65,70,79,66,78,65,53,48,76,73,79,64,45,55,63,69,65,75,69,60,59,55,63,51,63,66,55,61,52,54,62,68,58,55,53,64,60,78,82,64,48,70,80,76,86,78,73,75,74,71,73,77,73,77,88,86,76,82,65,52,49,57,84,55,50,54,65,81,54,66,47,80,78,71,73,80,64,60,54,44,51,59,41,42,58,52,79,90,87,69,62,67,72,55,46,59,68,70,62,55,37,36,42,58,48,56,58,45,42,43,47,43,51,56,44,45,37,45,83,81,68,58,50,29,48,71,63,64,58,87,57,59,56,55,52,34,33,35,42,54,63,56,43,39,31,21,34,40,46,41,24,37,66,81,71,53,43,38,40,37,54,56,53,49,59,86,67,75,66,58,71,62,88,80,74,73,72,49,81,51,26,44,33,41,58,34,64,56,49,70,65,87,87,54,64]},{\"label\":\"Ws\",\"values\":[18,13,22,13,16,14,13,15,13,12,14,19,21,20,17,13,16,14,16,16,14,17,18,17,15,18,18,14,13,14,19,19,20,17,14,14,18,19,14,13,14,13,15,13,19,21,14,14,17,15,17,18,22,16,18,19,13,15,15,15,17,14,12,14,13,13,14,16,18,17,14,13,13,15,14,13,18,18,18,19,19,19,18,16,14,15,18,21,16,18,17,21,17,15,15,17,16,19,17,17,15,12,21,13,21,26,15,14,14,11,14,18,11,19,11,19,21,11,11,14,16,14,12,13,14,14,14,11,17,17,18,15,21,17,15,16,15,15,17,10,14,14,14,14,16,16,16,16,15,13,13,15,18,16,17,18,18,15,13,18,15,16,15,13,13,18,17,17,17,15,16,16,18,18,17,17,9,10,18,16,16,16,15,14,14,17,15,17,14,13,11,12,15,15,17,16,13,13,10,9,14,15,15,15,14,16,15,18,16,14,14,17,15,19,16,19,16,15,12,14,15,14,15,15,14,14,19,15,13,13,12,13,8,13,17,13,14,6,15,14,15,29,18,15]},{\"label\":\"Rain\",\"values\":[0.0,1.3,13.1,2.5,0.0,0.0,0.0,0.0,0.2,0.0,0.0,0.0,1.2,0.5,3.1,0.7,0.6,0.3,0.1,0.4,0.0,0.1,0.1,0.0,0.0,0.0,0.0,0.0,0.3,0.0,1.0,1.2,0.7,0.0,0.0,0.0,0.2,0.0,1.4,0.7,0.0,0.1,0.0,0.6,0.4,0.0,0.0,0.0,0.0,0.1,0.0,0.1,0.4,0.1,0.0,0.0,0.0,0.0,0.0,0.0,0.0,0.0,0.4,0.3,0.0,0.0,0.0,0.0,0.3,0.0,0.0,0.0,0.3,0.0,0.0,0.3,0.3,0.0,0.0,0.0,0.0,0.0,0.0,0.0,0.0,0.0,0.0,0.0,0.0,0.0,0.8,16.8,7.2,10.1,3.8,0.1,0.0,0.1,0.3,0.9,1.0,1.8,1.8,0.0,4.6,8.3,0.4,0.0,0.0,0.0,0.0,0.0,0.0,0.6,0.5,0.6,5.8,0.0,0.0,0.7,1.8,1.4,0.7,4.0,2.0,0.0,0.2,0.1,0.2,1.3,0.1,0.0,0.0,0.0,2.0,0.7,0.0,0.4,4.7,8.7,4.5,0.2,0.0,1.1,0.8,0.0,0.0,0.0,0.0,0.0,0.6,1.7,2.2,0.0,0.1,0.0,0.0,0.3,0.5,6.0,1.9,3.8,2.9,0.0,0.6,0.2,0.0,0.0,0.0,0.0,0.0,0.0,0.0,0.0,0.0,1.1,1.2,0.2,0.0,0.0,0.0,0.0,0.0,0.0,0.0,0.0,0.0,0.1,3.1,2.9,0.0,0.0,0.2,0.0,0.4,0.2,0.0,0.3,0.1,0.0,0.0,0.1,0.0,0.0,0.0,0.0,0.0,0.0,0.0,0.0,0.4,0.5,0.0,0.0,0.0,0.0,0.0,0.2,4.1,6.5,0.0,0.0,0.0,1.1,0.0,0.0,0.0,0.0,0.0,0.0,0.0,0.1,0.1,0.2,0.0,0.0,0.0,2.0,0.0,0.0,4.4,0.5,0.1,0.2]},{\"label\":\"FFMC\",\"values\":[65.7,64.4,47.1,28.6,64.8,82.6,88.2,86.6,52.9,73.2,84.5,84.0,50.0,59.0,49.4,36.1,37.3,56.9,79.9,59.8,81.0,79.1,81.4,85.9,86.7,86.8,89.0,89.1,79.9,88.7,59.9,55.7,63.1,80.1,85.9,87.0,80.0,85.6,66.6,66.6,81.1,75.1,81.8,73.9,60.7,72.6,82.8,85.4,88.1,81.4,85.4,73.4,68.2,70.0,84.3,89.2,90.3,86.5,86.6,85.4,87.2,78.8,78.0,76.6,85.0,86.8,86.4,86.5,77.1,87.4,88.9,88.9,81.3,87.0,87.0,82.4,80.2,89.3,89.4,89.4,88.3,88.6,89.1,89.5,88.9,88.9,85.8,84.9,89.4,90.1,72.7,52.5,46.0,30.5,42.6,68.4,80.8,75.8,69.6,62.0,56.1,59.9,58.5,71.0,40.9,47.4,44.9,78.1,87.7,89.4,89.3,83.8,87.8,77.8,73.7,68.3,48.6,82.0,85.7,77.5,47.4,45.0,57.1,55.7,48.7,79.4,77.1,83.7,85.6,71.4,78.1,89.4,90.6,88.9,72.3,53.4,66.8,47.4,62.2,65.5,64.6,60.2,86.2,78.3,74.2,85.3,86.0,87.8,89.1,92.5,86.2,79.7,63.7,87.6,84.7,88.0,90.5,84.7,85.0,80.8,82.3,77.5,74.8,90.1,85.2,88.9,90.5,84.5,84.6,86.1,88.1,89.9,93.9,91.5,87.3,72.8,73.8,78.3,80.0,87.5,88.1,88.9,89.3,78.3,93.3,93.7,93.8,88.3,70.5,69.7,87.4,91.7,89.3,94.2,93.0,88.3,91.9,83.9,92.0,96.0,94.3,82.7,83.7,86.0,89.5,91.2,92.1,92.1,92.2,91.0,79.2,80.2,89.2,89.1,37.9,75.4,82.2,73.5,66.1,64.5,83.3,82.5,83.1,59.5,79.2,84.2,88.6,84.6,88.7,93.9,92.5,90.6,83.9,79.5,92.2,88.9,89.0,61.3,79.9,85.4,41.1,45.9,79.7,67.3]},{\"label\":\"DMC\",\"values\":[3.4,4.1,2.5,1.3,3.0,5.8,9.9,12.1,7.9,9.5,12.5,13.8,6.7,4.6,3.0,1.7,1.1,1.9,4.5,3.4,6.3,7.0,8.2,11.2,14.2,17.8,21.6,25.5,18.4,22.9,2.5,2.4,2.6,4.6,7.6,10.9,9.7,12.5,7.7,6.0,8.1,7.9,9.7,7.8,5.2,7.0,9.4,12.1,12.0,12.3,18.5,16.4,10.5,9.6,12.5,17.1,22.2,24.4,26.7,28.5,31.9,4.8,5.8,5.7,8.2,11.1,13.0,15.5,11.3,14.8,18.6,21.7,15.6,19.0,21.7,15.6,11.7,16.0,20.0,23.2,25.9,29.6,33.5,37.6,40.5,43.9,45.6,47.0,50.2,54.2,25.2,8.7,1.3,0.7,1.2,1.9,3.4,3.6,3.2,2.6,2.1,2.2,1.9,2.6,1.3,1.1,0.9,3.2,6.4,9.8,12.5,13.5,16.5,10.6,7.9,5.5,3.0,6.0,8.3,7.1,2.9,1.9,2.5,2.7,2.2,5.2,6.0,8.4,9.9,7.7,8.5,13.3,18.2,21.3,11.4,6.4,7.2,4.2,3.9,4.6,4.4,3.8,8.3,8.1,7.0,10.0,12.8,16.5,20.9,27.2,17.9,12.0,3.2,7.9,9.7,13.6,18.7,15.5,13.0,9.8,9.4,8.0,7.1,12.6,11.3,12.9,18.0,19.4,21.1,23.9,27.8,32.7,39.6,44.2,46.6,20.9,11.7,10.8,11.8,15.7,19.5,23.8,28.3,4.4,10.8,17.1,23.0,23.6,11.0,7.2,11.2,16.5,15.8,22.5,18.4,16.9,22.3,16.9,22.6,30.3,35.9,32.7,34.4,36.9,41.1,46.1,51.3,56.3,61.3,65.9,37.0,20.7,24.8,27.8,0.9,2.9,4.4,4.1,4.0,3.3,5.8,6.6,7.9,4.7,6.5,8.3,11.5,12.6,16.0,21.2,25.2,25.8,24.9,18.7,23.6,26.1,29.4,11.9,13.8,16.0,6.5,3.5,4.3,3.8]},{\"label\":\"DC\",\"values\":[7.6,7.6,7.1,6.9,14.2,22.2,30.5,38.3,38.8,46.3,54.3,61.4,17.0,7.8,7.4,7.6,7.8,8.0,16.0,27.1,31.6,39.5,47.7,55.8,63.8,71.8,80.3,88.5,84.4,92.8,8.6,8.3,9.2,18.5,27.9,37.0,40.4,49.8,9.2,9.3,18.7,27.7,37.2,22.9,17.0,25.5,34.1,43.1,52.8,62.1,71.5,79.9,71.3,79.7,88.7,98.6,108.5,117.8,127.0,136.0,145.7,10.2,10.0,10.0,19.8,29.7,39.1,48.6,47.0,57.0,67.0,77.0,75.1,85.1,94.7,92.5,90.4,100.7,110.9,120.9,130.6,141.1,151.3,161.5,171.3,181.3,190.6,200.2,210.4,220.4,180.4,8.7,7.5,7.0,7.5,15.7,24.0,32.2,30.1,8.4,8.4,8.9,8.4,16.6,7.5,7.0,7.3,15.7,24.3,33.1,41.3,49.3,57.9,41.4,30.4,15.2,7.7,16.3,24.9,8.8,7.7,7.5,8.2,7.8,7.6,15.4,17.6,26.3,28.9,7.4,14.7,22.5,30.5,37.8,7.8,7.3,14.7,8.0,8.0,8.3,8.2,8.0,18.4,8.3,8.3,17.0,25.6,34.5,43.3,52.4,36.7,8.5,8.5,17.8,27.3,36.8,46.4,45.1,35.4,9.7,9.9,9.5,9.5,19.4,10.4,14.6,24.1,33.1,42.3,51.6,61.1,71.0,80.6,90.1,99.0,56.6,15.9,19.7,28.3,37.6,47.2,57.1,67.2,10.5,21.4,32.1,42.7,52.5,9.1,9.8,20.2,30.9,35.4,46.3,41.5,45.1,55.5,54.2,65.1,76.4,86.8,96.8,107.0,117.1,127.5,137.7,147.7,157.5,167.2,177.3,166.0,149.2,159.1,168.2,8.2,16.3,24.3,26.6,8.4,9.1,17.7,26.1,34.5,8.2,16.6,25.2,33.4,41.5,50.2,59.2,63.3,77.8,86.0,88.0,97.3,106.3,115.6,28.1,36.1,44.5,8.0,7.9,15.2,16.5]},{\"label\":\"ISI\",\"values\":[1.3,1.0,0.3,0.0,1.2,3.1,6.4,5.6,0.4,1.3,4.0,4.8,0.5,1.0,0.4,0.0,0.0,0.7,2.5,0.9,2.6,2.4,3.3,5.6,5.7,6.7,9.2,7.6,2.2,7.2,1.1,0.8,1.3,2.7,4.8,5.6,2.8,6.0,1.1,1.1,2.6,1.5,3.0,1.4,1.1,0.7,3.2,4.6,7.7,2.8,5.2,1.8,1.8,1.4,4.8,10.0,8.7,5.6,5.6,4.7,6.8,2.0,1.7,1.7,4.0,5.2,5.2,5.5,2.2,6.9,7.4,7.1,2.5,5.9,5.7,3.7,2.8,9.7,9.7,9.7,8.8,9.2,9.9,10.4,9.0,8.2,4.7,4.4,7.3,12.5,1.7,0.6,0.2,0.0,0.1,1.4,2.8,2.1,1.5,1.1,0.7,0.7,1.1,1.2,0.1,0.4,0.2,1.9,6.2,6.8,7.8,4.5,5.4,2.4,1.2,1.5,0.4,2.5,4.0,1.8,0.3,0.2,0.6,0.6,0.3,2.2,1.8,3.1,5.4,1.5,2.4,8.4,13.4,8.7,1.4,0.5,1.2,0.2,1.1,0.9,1.0,0.8,5.0,1.9,1.6,4.9,5.4,7.0,8.0,11.7,4.8,2.2,1.2,6.8,4.7,8.0,11.3,4.3,4.1,3.1,3.2,2.0,1.6,8.3,4.2,9.0,10.9,4.7,4.7,5.2,7.3,9.5,18.5,13.2,6.9,1.6,1.1,1.6,2.8,6.7,7.4,8.2,8.3,2.0,13.8,17.2,15.7,19.0,1.3,1.2,5.2,9.6,8.2,16.6,15.5,7.5,10.8,3.5,9.5,15.7,16.0,3.3,3.8,5.1,8.0,11.5,12.2,14.3,13.1,10.0,2.1,2.7,8.1,9.8,0.1,2.0,3.3,1.5,1.0,1.0,3.8,3.0,3.5,0.8,2.1,3.8,9.1,4.3,6.9,14.2,11.2,9.0,2.7,2.1,13.8,7.1,7.5,0.6,2.4,4.5,0.1,0.4,1.7,1.2]},{\"label\":\"BUI\",\"values\":[3.4,3.9,2.7,1.7,3.9,7.0,10.9,13.5,10.5,12.6,15.8,17.7,6.7,4.4,3.0,2.2,1.6,2.4,5.3,5.1,8.4,9.7,11.5,14.9,18.3,21.6,25.8,29.7,23.8,28.3,2.9,2.8,3.0,5.7,9.1,12.5,12.1,15.4,7.4,5.8,8.1,9.2,11.7,8.4,5.9,8.3,11.1,14.2,18.2,16.5,22.4,21.7,15.4,14.7,18.5,23.9,29.4,32.1,35.0,37.4,41.2,4.7,5.5,5.5,8.2,11.5,14.2,17.2,14.1,17.9,21.9,25.5,20.7,24.4,27.2,22.0,17.6,22.9,27.5,31.3,34.7,38.8,43.1,47.5,50.9,54.7,57.1,59.3,62.9,67.4,37.4,8.3,1.8,1.1,1.7,2.9,5.1,5.6,5.1,3.0,2.6,2.7,2.4,3.7,1.8,1.6,1.4,4.2,7.7,11.3,14.2,16.0,19.2,12.9,9.6,5.8,3.0,6.2,9.0,6.8,3.0,2.4,2.8,2.9,2.6,5.6,6.5,9.3,10.7,7.3,8.3,13.1,18.0,21.2,10.9,6.1,7.1,4.1,3.8,4.4,4.2,3.7,8.2,7.7,6.7,9.9,12.7,16.4,20.8,27.1,17.8,11.5,3.3,7.8,10.3,14.1,18.7,16.7,13.7,9.4,9.0,7.7,6.8,12.5,10.9,12.5,17.7,19.2,20.9,23.9,27.7,32.6,39.5,44.0,46.5,21.7,11.4,10.7,11.8,15.7,19.5,23.8,28.3,4.4,10.6,16.9,22.9,23.5,10.5,6.9,11.0,16.4,15.8,22.4,18.4,17.5,22.3,19.0,24.2,30.4,35.9,35.5,38.1,41.3,45.5,50.2,54.9,59.5,64.0,68.0,30.6,30.6,35.7,39.3,1.4,4.0,6.0,6.0,3.9,3.5,6.4,8.1,10.0,4.6,6.6,9.1,12.4,14.3,17.8,22.4,26.2,28.2,28.9,24.4,29.4,32.4,36.0,11.9,14.1,16.9,6.2,3.4,5.1,4.8]},{\"label\":\"FWI\",\"values\":[0.5,0.4,0.1,0.0,0.5,2.5,7.2,7.1,0.3,0.9,5.6,7.1,0.2,0.4,0.1,0.0,0.0,0.2,1.4,0.4,2.2,2.3,3.8,7.5,8.4,10.6,15.0,13.9,3.9,12.9,0.4,0.3,0.5,1.7,4.9,6.8,3.2,8.0,0.6,0.5,2.2,0.9,3.4,0.8,0.5,0.4,3.6,6.0,10.9,4.0,8.8,2.8,2.1,1.3,7.3,15.3,15.3,11.3,11.9,10.7,15.7,0.9,0.8,0.8,3.9,6.1,6.8,8.0,2.6,9.9,11.6,12.1,4.2,10.2,10.6,6.3,4.2,14.6,16.1,17.2,16.8,18.4,20.4,22.3,20.9,20.3,13.7,13.2,19.9,30.2,4.2,0.3,0.1,0.0,0.0,0.5,1.7,0.9,0.6,0.4,0.2,0.3,0.3,0.5,0.0,0.1,0.0,0.8,5.9,7.7,9.7,6.3,8.3,2.8,0.7,0.7,0.1,1.7,4.1,0.9,0.1,0.1,0.2,0.2,0.1,1.0,0.9,3.1,6.0,0.8,1.9,10.0,16.7,12.9,0.9,0.3,0.6,0.1,0.4,0.4,0.4,0.3,4.9,1.2,0.8,5.3,6.7,9.5,12.0,18.4,7.2,2.2,0.5,6.4,5.2,9.9,15.0,6.3,5.2,3.0,3.1,1.3,0.8,9.6,4.7,10.4,14.1,7.3,7.7,9.1,13.0,17.3,30.0,25.4,16.3,2.5,0.7,1.0,3.2,9.0,10.9,13.2,14.5,0.8,13.5,19.5,20.9,12.6,0.8,0.6,5.9,12.7,10.7,21.6,18.8,10.5,15.7,5.5,14.8,24.0,26.3,7.7,9.0,12.2,18.1,24.5,26.9,31.1,30.3,26.1,6.1,5.9,16.0,19.4,0.0,0.8,2.5,0.7,0.4,0.4,3.2,2.7,3.7,0.3,1.2,3.9,10.3,5.7,9.8,19.3,17.5,15.4,5.6,3.8,21.6,13.7,15.2,0.4,3.0,6.5,0.0,0.2,0.7,0.5]}],\"marker\":{\"color\":[1,1,1,1,1,0,0,0,1,1,0,0,1,1,1,1,1,1,1,1,0,1,0,0,0,0,0,0,1,0,1,1,1,1,0,0,1,0,1,1,1,1,1,1,1,1,0,0,0,0,0,1,1,1,0,0,0,0,0,0,0,1,1,1,0,0,0,0,1,0,0,0,1,0,0,0,0,0,0,0,0,0,0,0,0,0,0,0,0,0,1,1,1,1,1,1,0,1,1,1,1,1,1,1,1,1,1,1,0,0,0,0,0,1,1,1,1,1,0,1,1,1,1,1,1,1,1,0,0,1,1,0,0,0,1,1,1,1,1,1,1,1,0,1,1,0,0,0,0,0,0,1,1,0,0,0,0,0,0,0,0,1,1,0,0,0,0,0,0,0,0,0,0,0,0,1,1,1,1,0,0,0,0,1,0,0,0,0,1,1,0,0,0,0,0,0,0,0,0,0,0,0,0,0,0,0,0,0,0,0,1,0,0,0,1,1,0,1,1,1,0,0,0,1,1,0,0,0,0,0,0,0,0,1,0,0,0,1,1,0,1,1,1,1],\"line\":{\"color\":\"white\",\"width\":0.5},\"showscale\":false},\"showupperhalf\":false,\"text\":[\"not fire\",\"not fire\",\"not fire\",\"not fire\",\"not fire\",\"fire\",\"fire\",\"fire\",\"not fire\",\"not fire\",\"fire\",\"fire\",\"not fire\",\"not fire\",\"not fire\",\"not fire\",\"not fire\",\"not fire\",\"not fire\",\"not fire\",\"fire\",\"not fire\",\"fire\",\"fire\",\"fire\",\"fire\",\"fire\",\"fire\",\"not fire\",\"fire\",\"not fire\",\"not fire\",\"not fire\",\"not fire\",\"fire\",\"fire\",\"not fire\",\"fire\",\"not fire\",\"not fire\",\"not fire\",\"not fire\",\"not fire\",\"not fire\",\"not fire\",\"not fire\",\"fire\",\"fire\",\"fire\",\"fire\",\"fire\",\"not fire\",\"not fire\",\"not fire\",\"fire\",\"fire\",\"fire\",\"fire\",\"fire\",\"fire\",\"fire\",\"not fire\",\"not fire\",\"not fire\",\"fire\",\"fire\",\"fire\",\"fire\",\"not fire\",\"fire\",\"fire\",\"fire\",\"not fire\",\"fire\",\"fire\",\"fire\",\"fire\",\"fire\",\"fire\",\"fire\",\"fire\",\"fire\",\"fire\",\"fire\",\"fire\",\"fire\",\"fire\",\"fire\",\"fire\",\"fire\",\"not fire\",\"not fire\",\"not fire\",\"not fire\",\"not fire\",\"not fire\",\"fire\",\"not fire\",\"not fire\",\"not fire\",\"not fire\",\"not fire\",\"not fire\",\"not fire\",\"not fire\",\"not fire\",\"not fire\",\"not fire\",\"fire\",\"fire\",\"fire\",\"fire\",\"fire\",\"not fire\",\"not fire\",\"not fire\",\"not fire\",\"not fire\",\"fire\",\"not fire\",\"not fire\",\"not fire\",\"not fire\",\"not fire\",\"not fire\",\"not fire\",\"not fire\",\"fire\",\"fire\",\"not fire\",\"not fire\",\"fire\",\"fire\",\"fire\",\"not fire\",\"not fire\",\"not fire\",\"not fire\",\"not fire\",\"not fire\",\"not fire\",\"not fire\",\"fire\",\"not fire\",\"not fire\",\"fire\",\"fire\",\"fire\",\"fire\",\"fire\",\"fire\",\"not fire\",\"not fire\",\"fire\",\"fire\",\"fire\",\"fire\",\"fire\",\"fire\",\"fire\",\"fire\",\"not fire\",\"not fire\",\"fire\",\"fire\",\"fire\",\"fire\",\"fire\",\"fire\",\"fire\",\"fire\",\"fire\",\"fire\",\"fire\",\"fire\",\"not fire\",\"not fire\",\"not fire\",\"not fire\",\"fire\",\"fire\",\"fire\",\"fire\",\"not fire\",\"fire\",\"fire\",\"fire\",\"fire\",\"not fire\",\"not fire\",\"fire\",\"fire\",\"fire\",\"fire\",\"fire\",\"fire\",\"fire\",\"fire\",\"fire\",\"fire\",\"fire\",\"fire\",\"fire\",\"fire\",\"fire\",\"fire\",\"fire\",\"fire\",\"fire\",\"fire\",\"not fire\",\"fire\",\"fire\",\"fire\",\"not fire\",\"not fire\",\"fire\",\"not fire\",\"not fire\",\"not fire\",\"fire\",\"fire\",\"fire\",\"not fire\",\"not fire\",\"fire\",\"fire\",\"fire\",\"fire\",\"fire\",\"fire\",\"fire\",\"fire\",\"not fire\",\"fire\",\"fire\",\"fire\",\"not fire\",\"not fire\",\"fire\",\"not fire\",\"not fire\",\"not fire\",\"not fire\"],\"type\":\"splom\"}],                        {\"template\":{\"data\":{\"bar\":[{\"error_x\":{\"color\":\"#2a3f5f\"},\"error_y\":{\"color\":\"#2a3f5f\"},\"marker\":{\"line\":{\"color\":\"#E5ECF6\",\"width\":0.5},\"pattern\":{\"fillmode\":\"overlay\",\"size\":10,\"solidity\":0.2}},\"type\":\"bar\"}],\"barpolar\":[{\"marker\":{\"line\":{\"color\":\"#E5ECF6\",\"width\":0.5},\"pattern\":{\"fillmode\":\"overlay\",\"size\":10,\"solidity\":0.2}},\"type\":\"barpolar\"}],\"carpet\":[{\"aaxis\":{\"endlinecolor\":\"#2a3f5f\",\"gridcolor\":\"white\",\"linecolor\":\"white\",\"minorgridcolor\":\"white\",\"startlinecolor\":\"#2a3f5f\"},\"baxis\":{\"endlinecolor\":\"#2a3f5f\",\"gridcolor\":\"white\",\"linecolor\":\"white\",\"minorgridcolor\":\"white\",\"startlinecolor\":\"#2a3f5f\"},\"type\":\"carpet\"}],\"choropleth\":[{\"colorbar\":{\"outlinewidth\":0,\"ticks\":\"\"},\"type\":\"choropleth\"}],\"contour\":[{\"colorbar\":{\"outlinewidth\":0,\"ticks\":\"\"},\"colorscale\":[[0.0,\"#0d0887\"],[0.1111111111111111,\"#46039f\"],[0.2222222222222222,\"#7201a8\"],[0.3333333333333333,\"#9c179e\"],[0.4444444444444444,\"#bd3786\"],[0.5555555555555556,\"#d8576b\"],[0.6666666666666666,\"#ed7953\"],[0.7777777777777778,\"#fb9f3a\"],[0.8888888888888888,\"#fdca26\"],[1.0,\"#f0f921\"]],\"type\":\"contour\"}],\"contourcarpet\":[{\"colorbar\":{\"outlinewidth\":0,\"ticks\":\"\"},\"type\":\"contourcarpet\"}],\"heatmap\":[{\"colorbar\":{\"outlinewidth\":0,\"ticks\":\"\"},\"colorscale\":[[0.0,\"#0d0887\"],[0.1111111111111111,\"#46039f\"],[0.2222222222222222,\"#7201a8\"],[0.3333333333333333,\"#9c179e\"],[0.4444444444444444,\"#bd3786\"],[0.5555555555555556,\"#d8576b\"],[0.6666666666666666,\"#ed7953\"],[0.7777777777777778,\"#fb9f3a\"],[0.8888888888888888,\"#fdca26\"],[1.0,\"#f0f921\"]],\"type\":\"heatmap\"}],\"heatmapgl\":[{\"colorbar\":{\"outlinewidth\":0,\"ticks\":\"\"},\"colorscale\":[[0.0,\"#0d0887\"],[0.1111111111111111,\"#46039f\"],[0.2222222222222222,\"#7201a8\"],[0.3333333333333333,\"#9c179e\"],[0.4444444444444444,\"#bd3786\"],[0.5555555555555556,\"#d8576b\"],[0.6666666666666666,\"#ed7953\"],[0.7777777777777778,\"#fb9f3a\"],[0.8888888888888888,\"#fdca26\"],[1.0,\"#f0f921\"]],\"type\":\"heatmapgl\"}],\"histogram\":[{\"marker\":{\"pattern\":{\"fillmode\":\"overlay\",\"size\":10,\"solidity\":0.2}},\"type\":\"histogram\"}],\"histogram2d\":[{\"colorbar\":{\"outlinewidth\":0,\"ticks\":\"\"},\"colorscale\":[[0.0,\"#0d0887\"],[0.1111111111111111,\"#46039f\"],[0.2222222222222222,\"#7201a8\"],[0.3333333333333333,\"#9c179e\"],[0.4444444444444444,\"#bd3786\"],[0.5555555555555556,\"#d8576b\"],[0.6666666666666666,\"#ed7953\"],[0.7777777777777778,\"#fb9f3a\"],[0.8888888888888888,\"#fdca26\"],[1.0,\"#f0f921\"]],\"type\":\"histogram2d\"}],\"histogram2dcontour\":[{\"colorbar\":{\"outlinewidth\":0,\"ticks\":\"\"},\"colorscale\":[[0.0,\"#0d0887\"],[0.1111111111111111,\"#46039f\"],[0.2222222222222222,\"#7201a8\"],[0.3333333333333333,\"#9c179e\"],[0.4444444444444444,\"#bd3786\"],[0.5555555555555556,\"#d8576b\"],[0.6666666666666666,\"#ed7953\"],[0.7777777777777778,\"#fb9f3a\"],[0.8888888888888888,\"#fdca26\"],[1.0,\"#f0f921\"]],\"type\":\"histogram2dcontour\"}],\"mesh3d\":[{\"colorbar\":{\"outlinewidth\":0,\"ticks\":\"\"},\"type\":\"mesh3d\"}],\"parcoords\":[{\"line\":{\"colorbar\":{\"outlinewidth\":0,\"ticks\":\"\"}},\"type\":\"parcoords\"}],\"pie\":[{\"automargin\":true,\"type\":\"pie\"}],\"scatter\":[{\"marker\":{\"colorbar\":{\"outlinewidth\":0,\"ticks\":\"\"}},\"type\":\"scatter\"}],\"scatter3d\":[{\"line\":{\"colorbar\":{\"outlinewidth\":0,\"ticks\":\"\"}},\"marker\":{\"colorbar\":{\"outlinewidth\":0,\"ticks\":\"\"}},\"type\":\"scatter3d\"}],\"scattercarpet\":[{\"marker\":{\"colorbar\":{\"outlinewidth\":0,\"ticks\":\"\"}},\"type\":\"scattercarpet\"}],\"scattergeo\":[{\"marker\":{\"colorbar\":{\"outlinewidth\":0,\"ticks\":\"\"}},\"type\":\"scattergeo\"}],\"scattergl\":[{\"marker\":{\"colorbar\":{\"outlinewidth\":0,\"ticks\":\"\"}},\"type\":\"scattergl\"}],\"scattermapbox\":[{\"marker\":{\"colorbar\":{\"outlinewidth\":0,\"ticks\":\"\"}},\"type\":\"scattermapbox\"}],\"scatterpolar\":[{\"marker\":{\"colorbar\":{\"outlinewidth\":0,\"ticks\":\"\"}},\"type\":\"scatterpolar\"}],\"scatterpolargl\":[{\"marker\":{\"colorbar\":{\"outlinewidth\":0,\"ticks\":\"\"}},\"type\":\"scatterpolargl\"}],\"scatterternary\":[{\"marker\":{\"colorbar\":{\"outlinewidth\":0,\"ticks\":\"\"}},\"type\":\"scatterternary\"}],\"surface\":[{\"colorbar\":{\"outlinewidth\":0,\"ticks\":\"\"},\"colorscale\":[[0.0,\"#0d0887\"],[0.1111111111111111,\"#46039f\"],[0.2222222222222222,\"#7201a8\"],[0.3333333333333333,\"#9c179e\"],[0.4444444444444444,\"#bd3786\"],[0.5555555555555556,\"#d8576b\"],[0.6666666666666666,\"#ed7953\"],[0.7777777777777778,\"#fb9f3a\"],[0.8888888888888888,\"#fdca26\"],[1.0,\"#f0f921\"]],\"type\":\"surface\"}],\"table\":[{\"cells\":{\"fill\":{\"color\":\"#EBF0F8\"},\"line\":{\"color\":\"white\"}},\"header\":{\"fill\":{\"color\":\"#C8D4E3\"},\"line\":{\"color\":\"white\"}},\"type\":\"table\"}]},\"layout\":{\"annotationdefaults\":{\"arrowcolor\":\"#2a3f5f\",\"arrowhead\":0,\"arrowwidth\":1},\"autotypenumbers\":\"strict\",\"coloraxis\":{\"colorbar\":{\"outlinewidth\":0,\"ticks\":\"\"}},\"colorscale\":{\"diverging\":[[0,\"#8e0152\"],[0.1,\"#c51b7d\"],[0.2,\"#de77ae\"],[0.3,\"#f1b6da\"],[0.4,\"#fde0ef\"],[0.5,\"#f7f7f7\"],[0.6,\"#e6f5d0\"],[0.7,\"#b8e186\"],[0.8,\"#7fbc41\"],[0.9,\"#4d9221\"],[1,\"#276419\"]],\"sequential\":[[0.0,\"#0d0887\"],[0.1111111111111111,\"#46039f\"],[0.2222222222222222,\"#7201a8\"],[0.3333333333333333,\"#9c179e\"],[0.4444444444444444,\"#bd3786\"],[0.5555555555555556,\"#d8576b\"],[0.6666666666666666,\"#ed7953\"],[0.7777777777777778,\"#fb9f3a\"],[0.8888888888888888,\"#fdca26\"],[1.0,\"#f0f921\"]],\"sequentialminus\":[[0.0,\"#0d0887\"],[0.1111111111111111,\"#46039f\"],[0.2222222222222222,\"#7201a8\"],[0.3333333333333333,\"#9c179e\"],[0.4444444444444444,\"#bd3786\"],[0.5555555555555556,\"#d8576b\"],[0.6666666666666666,\"#ed7953\"],[0.7777777777777778,\"#fb9f3a\"],[0.8888888888888888,\"#fdca26\"],[1.0,\"#f0f921\"]]},\"colorway\":[\"#636efa\",\"#EF553B\",\"#00cc96\",\"#ab63fa\",\"#FFA15A\",\"#19d3f3\",\"#FF6692\",\"#B6E880\",\"#FF97FF\",\"#FECB52\"],\"font\":{\"color\":\"#2a3f5f\"},\"geo\":{\"bgcolor\":\"white\",\"lakecolor\":\"white\",\"landcolor\":\"#E5ECF6\",\"showlakes\":true,\"showland\":true,\"subunitcolor\":\"white\"},\"hoverlabel\":{\"align\":\"left\"},\"hovermode\":\"closest\",\"mapbox\":{\"style\":\"light\"},\"paper_bgcolor\":\"white\",\"plot_bgcolor\":\"#E5ECF6\",\"polar\":{\"angularaxis\":{\"gridcolor\":\"white\",\"linecolor\":\"white\",\"ticks\":\"\"},\"bgcolor\":\"#E5ECF6\",\"radialaxis\":{\"gridcolor\":\"white\",\"linecolor\":\"white\",\"ticks\":\"\"}},\"scene\":{\"xaxis\":{\"backgroundcolor\":\"#E5ECF6\",\"gridcolor\":\"white\",\"gridwidth\":2,\"linecolor\":\"white\",\"showbackground\":true,\"ticks\":\"\",\"zerolinecolor\":\"white\"},\"yaxis\":{\"backgroundcolor\":\"#E5ECF6\",\"gridcolor\":\"white\",\"gridwidth\":2,\"linecolor\":\"white\",\"showbackground\":true,\"ticks\":\"\",\"zerolinecolor\":\"white\"},\"zaxis\":{\"backgroundcolor\":\"#E5ECF6\",\"gridcolor\":\"white\",\"gridwidth\":2,\"linecolor\":\"white\",\"showbackground\":true,\"ticks\":\"\",\"zerolinecolor\":\"white\"}},\"shapedefaults\":{\"line\":{\"color\":\"#2a3f5f\"}},\"ternary\":{\"aaxis\":{\"gridcolor\":\"white\",\"linecolor\":\"white\",\"ticks\":\"\"},\"baxis\":{\"gridcolor\":\"white\",\"linecolor\":\"white\",\"ticks\":\"\"},\"bgcolor\":\"#E5ECF6\",\"caxis\":{\"gridcolor\":\"white\",\"linecolor\":\"white\",\"ticks\":\"\"}},\"title\":{\"x\":0.05},\"xaxis\":{\"automargin\":true,\"gridcolor\":\"white\",\"linecolor\":\"white\",\"ticks\":\"\",\"title\":{\"standoff\":15},\"zerolinecolor\":\"white\",\"zerolinewidth\":2},\"yaxis\":{\"automargin\":true,\"gridcolor\":\"white\",\"linecolor\":\"white\",\"ticks\":\"\",\"title\":{\"standoff\":15},\"zerolinecolor\":\"white\",\"zerolinewidth\":2}}},\"title\":{\"text\":\"Algerian Fire Data set\"},\"width\":1200,\"height\":1200},                        {\"responsive\": true}                    ).then(function(){\n",
              "                            \n",
              "var gd = document.getElementById('2a5bc5d9-3768-4e93-9dc7-4d7647d0701b');\n",
              "var x = new MutationObserver(function (mutations, observer) {{\n",
              "        var display = window.getComputedStyle(gd).display;\n",
              "        if (!display || display === 'none') {{\n",
              "            console.log([gd, 'removed!']);\n",
              "            Plotly.purge(gd);\n",
              "            observer.disconnect();\n",
              "        }}\n",
              "}});\n",
              "\n",
              "// Listen for the removal of the full notebook cells\n",
              "var notebookContainer = gd.closest('#notebook-container');\n",
              "if (notebookContainer) {{\n",
              "    x.observe(notebookContainer, {childList: true});\n",
              "}}\n",
              "\n",
              "// Listen for the clearing of the current output cell\n",
              "var outputEl = gd.closest('.output');\n",
              "if (outputEl) {{\n",
              "    x.observe(outputEl, {childList: true});\n",
              "}}\n",
              "\n",
              "                        })                };                            </script>        </div>\n",
              "</body>\n",
              "</html>"
            ]
          },
          "metadata": {}
        }
      ]
    },
    {
      "cell_type": "code",
      "source": [
        "fig = px.scatter_matrix(data,\n",
        "    dimensions=['Temperature','RH','Ws','Rain','FFMC','DMC','DC','ISI','BUI','FWI'])\n",
        "\n",
        "fig.update_layout(\n",
        "    title='Algerian Fire Data set',\n",
        "    width=1200,\n",
        "    height=1200,\n",
        ")\n",
        "\n",
        "fig.show()"
      ],
      "metadata": {
        "colab": {
          "base_uri": "https://localhost:8080/",
          "height": 1000
        },
        "id": "rxSlL9bsxkP0",
        "outputId": "cd45f0d3-f3fa-4e84-98ea-92e7c945ed28"
      },
      "execution_count": 51,
      "outputs": [
        {
          "output_type": "display_data",
          "data": {
            "text/html": [
              "<html>\n",
              "<head><meta charset=\"utf-8\" /></head>\n",
              "<body>\n",
              "    <div>            <script src=\"https://cdnjs.cloudflare.com/ajax/libs/mathjax/2.7.5/MathJax.js?config=TeX-AMS-MML_SVG\"></script><script type=\"text/javascript\">if (window.MathJax) {MathJax.Hub.Config({SVG: {font: \"STIX-Web\"}});}</script>                <script type=\"text/javascript\">window.PlotlyConfig = {MathJaxConfig: 'local'};</script>\n",
              "        <script src=\"https://cdn.plot.ly/plotly-2.8.3.min.js\"></script>                <div id=\"9ad6965b-8bf1-4ee1-b28f-d9eb7329d57e\" class=\"plotly-graph-div\" style=\"height:1200px; width:1200px;\"></div>            <script type=\"text/javascript\">                                    window.PLOTLYENV=window.PLOTLYENV || {};                                    if (document.getElementById(\"9ad6965b-8bf1-4ee1-b28f-d9eb7329d57e\")) {                    Plotly.newPlot(                        \"9ad6965b-8bf1-4ee1-b28f-d9eb7329d57e\",                        [{\"dimensions\":[{\"axis\":{\"matches\":true},\"label\":\"Temperature\",\"values\":[29,29,26,25,27,31,33,30,25,28,31,26,27,30,28,29,30,31,31,30,30,31,32,32,31,31,34,32,32,33,29,27,32,33,33,32,35,33,32,33,33,31,34,34,30,28,29,31,35,33,33,28,27,28,31,36,36,33,32,31,35,36,35,35,34,34,32,32,32,35,35,35,35,35,33,36,36,37,36,35,35,36,36,36,34,35,31,33,34,35,35,28,25,22,25,29,29,29,31,30,30,33,30,29,25,22,24,30,31,32,29,28,31,31,32,29,26,31,31,32,26,25,32,30,29,30,32,35,35,28,27,30,31,27,30,27,28,29,31,33,32,31,32,33,33,35,34,36,36,37,37,34,28,33,34,34,34,35,38,35,36,34,34,36,39,37,34,31,32,33,34,36,36,32,31,33,39,35,29,33,34,36,37,38,40,39,38,34,30,34,37,39,39,40,39,35,37,35,40,42,37,35,36,36,37,36,35,34,33,36,35,35,34,30,29,28,28,30,30,34,31,30,30,29,30,31,29,28,32,33,34,36,29,34,35,33,35,26,28,30,28,27,24,24]},{\"axis\":{\"matches\":true},\"label\":\"RH\",\"values\":[57,61,82,89,77,67,54,73,88,79,65,81,84,78,80,89,89,78,55,80,78,67,62,66,64,64,53,55,47,50,68,75,76,78,66,63,64,68,68,69,76,75,81,61,80,76,70,68,59,65,70,79,66,78,65,53,48,76,73,79,64,45,55,63,69,65,75,69,60,59,55,63,51,63,66,55,61,52,54,62,68,58,55,53,64,60,78,82,64,48,70,80,76,86,78,73,75,74,71,73,77,73,77,88,86,76,82,65,52,49,57,84,55,50,54,65,81,54,66,47,80,78,71,73,80,64,60,54,44,51,59,41,42,58,52,79,90,87,69,62,67,72,55,46,59,68,70,62,55,37,36,42,58,48,56,58,45,42,43,47,43,51,56,44,45,37,45,83,81,68,58,50,29,48,71,63,64,58,87,57,59,56,55,52,34,33,35,42,54,63,56,43,39,31,21,34,40,46,41,24,37,66,81,71,53,43,38,40,37,54,56,53,49,59,86,67,75,66,58,71,62,88,80,74,73,72,49,81,51,26,44,33,41,58,34,64,56,49,70,65,87,87,54,64]},{\"axis\":{\"matches\":true},\"label\":\"Ws\",\"values\":[18,13,22,13,16,14,13,15,13,12,14,19,21,20,17,13,16,14,16,16,14,17,18,17,15,18,18,14,13,14,19,19,20,17,14,14,18,19,14,13,14,13,15,13,19,21,14,14,17,15,17,18,22,16,18,19,13,15,15,15,17,14,12,14,13,13,14,16,18,17,14,13,13,15,14,13,18,18,18,19,19,19,18,16,14,15,18,21,16,18,17,21,17,15,15,17,16,19,17,17,15,12,21,13,21,26,15,14,14,11,14,18,11,19,11,19,21,11,11,14,16,14,12,13,14,14,14,11,17,17,18,15,21,17,15,16,15,15,17,10,14,14,14,14,16,16,16,16,15,13,13,15,18,16,17,18,18,15,13,18,15,16,15,13,13,18,17,17,17,15,16,16,18,18,17,17,9,10,18,16,16,16,15,14,14,17,15,17,14,13,11,12,15,15,17,16,13,13,10,9,14,15,15,15,14,16,15,18,16,14,14,17,15,19,16,19,16,15,12,14,15,14,15,15,14,14,19,15,13,13,12,13,8,13,17,13,14,6,15,14,15,29,18,15]},{\"axis\":{\"matches\":true},\"label\":\"Rain\",\"values\":[0.0,1.3,13.1,2.5,0.0,0.0,0.0,0.0,0.2,0.0,0.0,0.0,1.2,0.5,3.1,0.7,0.6,0.3,0.1,0.4,0.0,0.1,0.1,0.0,0.0,0.0,0.0,0.0,0.3,0.0,1.0,1.2,0.7,0.0,0.0,0.0,0.2,0.0,1.4,0.7,0.0,0.1,0.0,0.6,0.4,0.0,0.0,0.0,0.0,0.1,0.0,0.1,0.4,0.1,0.0,0.0,0.0,0.0,0.0,0.0,0.0,0.0,0.4,0.3,0.0,0.0,0.0,0.0,0.3,0.0,0.0,0.0,0.3,0.0,0.0,0.3,0.3,0.0,0.0,0.0,0.0,0.0,0.0,0.0,0.0,0.0,0.0,0.0,0.0,0.0,0.8,16.8,7.2,10.1,3.8,0.1,0.0,0.1,0.3,0.9,1.0,1.8,1.8,0.0,4.6,8.3,0.4,0.0,0.0,0.0,0.0,0.0,0.0,0.6,0.5,0.6,5.8,0.0,0.0,0.7,1.8,1.4,0.7,4.0,2.0,0.0,0.2,0.1,0.2,1.3,0.1,0.0,0.0,0.0,2.0,0.7,0.0,0.4,4.7,8.7,4.5,0.2,0.0,1.1,0.8,0.0,0.0,0.0,0.0,0.0,0.6,1.7,2.2,0.0,0.1,0.0,0.0,0.3,0.5,6.0,1.9,3.8,2.9,0.0,0.6,0.2,0.0,0.0,0.0,0.0,0.0,0.0,0.0,0.0,0.0,1.1,1.2,0.2,0.0,0.0,0.0,0.0,0.0,0.0,0.0,0.0,0.0,0.1,3.1,2.9,0.0,0.0,0.2,0.0,0.4,0.2,0.0,0.3,0.1,0.0,0.0,0.1,0.0,0.0,0.0,0.0,0.0,0.0,0.0,0.0,0.4,0.5,0.0,0.0,0.0,0.0,0.0,0.2,4.1,6.5,0.0,0.0,0.0,1.1,0.0,0.0,0.0,0.0,0.0,0.0,0.0,0.1,0.1,0.2,0.0,0.0,0.0,2.0,0.0,0.0,4.4,0.5,0.1,0.2]},{\"axis\":{\"matches\":true},\"label\":\"FFMC\",\"values\":[65.7,64.4,47.1,28.6,64.8,82.6,88.2,86.6,52.9,73.2,84.5,84.0,50.0,59.0,49.4,36.1,37.3,56.9,79.9,59.8,81.0,79.1,81.4,85.9,86.7,86.8,89.0,89.1,79.9,88.7,59.9,55.7,63.1,80.1,85.9,87.0,80.0,85.6,66.6,66.6,81.1,75.1,81.8,73.9,60.7,72.6,82.8,85.4,88.1,81.4,85.4,73.4,68.2,70.0,84.3,89.2,90.3,86.5,86.6,85.4,87.2,78.8,78.0,76.6,85.0,86.8,86.4,86.5,77.1,87.4,88.9,88.9,81.3,87.0,87.0,82.4,80.2,89.3,89.4,89.4,88.3,88.6,89.1,89.5,88.9,88.9,85.8,84.9,89.4,90.1,72.7,52.5,46.0,30.5,42.6,68.4,80.8,75.8,69.6,62.0,56.1,59.9,58.5,71.0,40.9,47.4,44.9,78.1,87.7,89.4,89.3,83.8,87.8,77.8,73.7,68.3,48.6,82.0,85.7,77.5,47.4,45.0,57.1,55.7,48.7,79.4,77.1,83.7,85.6,71.4,78.1,89.4,90.6,88.9,72.3,53.4,66.8,47.4,62.2,65.5,64.6,60.2,86.2,78.3,74.2,85.3,86.0,87.8,89.1,92.5,86.2,79.7,63.7,87.6,84.7,88.0,90.5,84.7,85.0,80.8,82.3,77.5,74.8,90.1,85.2,88.9,90.5,84.5,84.6,86.1,88.1,89.9,93.9,91.5,87.3,72.8,73.8,78.3,80.0,87.5,88.1,88.9,89.3,78.3,93.3,93.7,93.8,88.3,70.5,69.7,87.4,91.7,89.3,94.2,93.0,88.3,91.9,83.9,92.0,96.0,94.3,82.7,83.7,86.0,89.5,91.2,92.1,92.1,92.2,91.0,79.2,80.2,89.2,89.1,37.9,75.4,82.2,73.5,66.1,64.5,83.3,82.5,83.1,59.5,79.2,84.2,88.6,84.6,88.7,93.9,92.5,90.6,83.9,79.5,92.2,88.9,89.0,61.3,79.9,85.4,41.1,45.9,79.7,67.3]},{\"axis\":{\"matches\":true},\"label\":\"DMC\",\"values\":[3.4,4.1,2.5,1.3,3.0,5.8,9.9,12.1,7.9,9.5,12.5,13.8,6.7,4.6,3.0,1.7,1.1,1.9,4.5,3.4,6.3,7.0,8.2,11.2,14.2,17.8,21.6,25.5,18.4,22.9,2.5,2.4,2.6,4.6,7.6,10.9,9.7,12.5,7.7,6.0,8.1,7.9,9.7,7.8,5.2,7.0,9.4,12.1,12.0,12.3,18.5,16.4,10.5,9.6,12.5,17.1,22.2,24.4,26.7,28.5,31.9,4.8,5.8,5.7,8.2,11.1,13.0,15.5,11.3,14.8,18.6,21.7,15.6,19.0,21.7,15.6,11.7,16.0,20.0,23.2,25.9,29.6,33.5,37.6,40.5,43.9,45.6,47.0,50.2,54.2,25.2,8.7,1.3,0.7,1.2,1.9,3.4,3.6,3.2,2.6,2.1,2.2,1.9,2.6,1.3,1.1,0.9,3.2,6.4,9.8,12.5,13.5,16.5,10.6,7.9,5.5,3.0,6.0,8.3,7.1,2.9,1.9,2.5,2.7,2.2,5.2,6.0,8.4,9.9,7.7,8.5,13.3,18.2,21.3,11.4,6.4,7.2,4.2,3.9,4.6,4.4,3.8,8.3,8.1,7.0,10.0,12.8,16.5,20.9,27.2,17.9,12.0,3.2,7.9,9.7,13.6,18.7,15.5,13.0,9.8,9.4,8.0,7.1,12.6,11.3,12.9,18.0,19.4,21.1,23.9,27.8,32.7,39.6,44.2,46.6,20.9,11.7,10.8,11.8,15.7,19.5,23.8,28.3,4.4,10.8,17.1,23.0,23.6,11.0,7.2,11.2,16.5,15.8,22.5,18.4,16.9,22.3,16.9,22.6,30.3,35.9,32.7,34.4,36.9,41.1,46.1,51.3,56.3,61.3,65.9,37.0,20.7,24.8,27.8,0.9,2.9,4.4,4.1,4.0,3.3,5.8,6.6,7.9,4.7,6.5,8.3,11.5,12.6,16.0,21.2,25.2,25.8,24.9,18.7,23.6,26.1,29.4,11.9,13.8,16.0,6.5,3.5,4.3,3.8]},{\"axis\":{\"matches\":true},\"label\":\"DC\",\"values\":[7.6,7.6,7.1,6.9,14.2,22.2,30.5,38.3,38.8,46.3,54.3,61.4,17.0,7.8,7.4,7.6,7.8,8.0,16.0,27.1,31.6,39.5,47.7,55.8,63.8,71.8,80.3,88.5,84.4,92.8,8.6,8.3,9.2,18.5,27.9,37.0,40.4,49.8,9.2,9.3,18.7,27.7,37.2,22.9,17.0,25.5,34.1,43.1,52.8,62.1,71.5,79.9,71.3,79.7,88.7,98.6,108.5,117.8,127.0,136.0,145.7,10.2,10.0,10.0,19.8,29.7,39.1,48.6,47.0,57.0,67.0,77.0,75.1,85.1,94.7,92.5,90.4,100.7,110.9,120.9,130.6,141.1,151.3,161.5,171.3,181.3,190.6,200.2,210.4,220.4,180.4,8.7,7.5,7.0,7.5,15.7,24.0,32.2,30.1,8.4,8.4,8.9,8.4,16.6,7.5,7.0,7.3,15.7,24.3,33.1,41.3,49.3,57.9,41.4,30.4,15.2,7.7,16.3,24.9,8.8,7.7,7.5,8.2,7.8,7.6,15.4,17.6,26.3,28.9,7.4,14.7,22.5,30.5,37.8,7.8,7.3,14.7,8.0,8.0,8.3,8.2,8.0,18.4,8.3,8.3,17.0,25.6,34.5,43.3,52.4,36.7,8.5,8.5,17.8,27.3,36.8,46.4,45.1,35.4,9.7,9.9,9.5,9.5,19.4,10.4,14.6,24.1,33.1,42.3,51.6,61.1,71.0,80.6,90.1,99.0,56.6,15.9,19.7,28.3,37.6,47.2,57.1,67.2,10.5,21.4,32.1,42.7,52.5,9.1,9.8,20.2,30.9,35.4,46.3,41.5,45.1,55.5,54.2,65.1,76.4,86.8,96.8,107.0,117.1,127.5,137.7,147.7,157.5,167.2,177.3,166.0,149.2,159.1,168.2,8.2,16.3,24.3,26.6,8.4,9.1,17.7,26.1,34.5,8.2,16.6,25.2,33.4,41.5,50.2,59.2,63.3,77.8,86.0,88.0,97.3,106.3,115.6,28.1,36.1,44.5,8.0,7.9,15.2,16.5]},{\"axis\":{\"matches\":true},\"label\":\"ISI\",\"values\":[1.3,1.0,0.3,0.0,1.2,3.1,6.4,5.6,0.4,1.3,4.0,4.8,0.5,1.0,0.4,0.0,0.0,0.7,2.5,0.9,2.6,2.4,3.3,5.6,5.7,6.7,9.2,7.6,2.2,7.2,1.1,0.8,1.3,2.7,4.8,5.6,2.8,6.0,1.1,1.1,2.6,1.5,3.0,1.4,1.1,0.7,3.2,4.6,7.7,2.8,5.2,1.8,1.8,1.4,4.8,10.0,8.7,5.6,5.6,4.7,6.8,2.0,1.7,1.7,4.0,5.2,5.2,5.5,2.2,6.9,7.4,7.1,2.5,5.9,5.7,3.7,2.8,9.7,9.7,9.7,8.8,9.2,9.9,10.4,9.0,8.2,4.7,4.4,7.3,12.5,1.7,0.6,0.2,0.0,0.1,1.4,2.8,2.1,1.5,1.1,0.7,0.7,1.1,1.2,0.1,0.4,0.2,1.9,6.2,6.8,7.8,4.5,5.4,2.4,1.2,1.5,0.4,2.5,4.0,1.8,0.3,0.2,0.6,0.6,0.3,2.2,1.8,3.1,5.4,1.5,2.4,8.4,13.4,8.7,1.4,0.5,1.2,0.2,1.1,0.9,1.0,0.8,5.0,1.9,1.6,4.9,5.4,7.0,8.0,11.7,4.8,2.2,1.2,6.8,4.7,8.0,11.3,4.3,4.1,3.1,3.2,2.0,1.6,8.3,4.2,9.0,10.9,4.7,4.7,5.2,7.3,9.5,18.5,13.2,6.9,1.6,1.1,1.6,2.8,6.7,7.4,8.2,8.3,2.0,13.8,17.2,15.7,19.0,1.3,1.2,5.2,9.6,8.2,16.6,15.5,7.5,10.8,3.5,9.5,15.7,16.0,3.3,3.8,5.1,8.0,11.5,12.2,14.3,13.1,10.0,2.1,2.7,8.1,9.8,0.1,2.0,3.3,1.5,1.0,1.0,3.8,3.0,3.5,0.8,2.1,3.8,9.1,4.3,6.9,14.2,11.2,9.0,2.7,2.1,13.8,7.1,7.5,0.6,2.4,4.5,0.1,0.4,1.7,1.2]},{\"axis\":{\"matches\":true},\"label\":\"BUI\",\"values\":[3.4,3.9,2.7,1.7,3.9,7.0,10.9,13.5,10.5,12.6,15.8,17.7,6.7,4.4,3.0,2.2,1.6,2.4,5.3,5.1,8.4,9.7,11.5,14.9,18.3,21.6,25.8,29.7,23.8,28.3,2.9,2.8,3.0,5.7,9.1,12.5,12.1,15.4,7.4,5.8,8.1,9.2,11.7,8.4,5.9,8.3,11.1,14.2,18.2,16.5,22.4,21.7,15.4,14.7,18.5,23.9,29.4,32.1,35.0,37.4,41.2,4.7,5.5,5.5,8.2,11.5,14.2,17.2,14.1,17.9,21.9,25.5,20.7,24.4,27.2,22.0,17.6,22.9,27.5,31.3,34.7,38.8,43.1,47.5,50.9,54.7,57.1,59.3,62.9,67.4,37.4,8.3,1.8,1.1,1.7,2.9,5.1,5.6,5.1,3.0,2.6,2.7,2.4,3.7,1.8,1.6,1.4,4.2,7.7,11.3,14.2,16.0,19.2,12.9,9.6,5.8,3.0,6.2,9.0,6.8,3.0,2.4,2.8,2.9,2.6,5.6,6.5,9.3,10.7,7.3,8.3,13.1,18.0,21.2,10.9,6.1,7.1,4.1,3.8,4.4,4.2,3.7,8.2,7.7,6.7,9.9,12.7,16.4,20.8,27.1,17.8,11.5,3.3,7.8,10.3,14.1,18.7,16.7,13.7,9.4,9.0,7.7,6.8,12.5,10.9,12.5,17.7,19.2,20.9,23.9,27.7,32.6,39.5,44.0,46.5,21.7,11.4,10.7,11.8,15.7,19.5,23.8,28.3,4.4,10.6,16.9,22.9,23.5,10.5,6.9,11.0,16.4,15.8,22.4,18.4,17.5,22.3,19.0,24.2,30.4,35.9,35.5,38.1,41.3,45.5,50.2,54.9,59.5,64.0,68.0,30.6,30.6,35.7,39.3,1.4,4.0,6.0,6.0,3.9,3.5,6.4,8.1,10.0,4.6,6.6,9.1,12.4,14.3,17.8,22.4,26.2,28.2,28.9,24.4,29.4,32.4,36.0,11.9,14.1,16.9,6.2,3.4,5.1,4.8]},{\"axis\":{\"matches\":true},\"label\":\"FWI\",\"values\":[0.5,0.4,0.1,0.0,0.5,2.5,7.2,7.1,0.3,0.9,5.6,7.1,0.2,0.4,0.1,0.0,0.0,0.2,1.4,0.4,2.2,2.3,3.8,7.5,8.4,10.6,15.0,13.9,3.9,12.9,0.4,0.3,0.5,1.7,4.9,6.8,3.2,8.0,0.6,0.5,2.2,0.9,3.4,0.8,0.5,0.4,3.6,6.0,10.9,4.0,8.8,2.8,2.1,1.3,7.3,15.3,15.3,11.3,11.9,10.7,15.7,0.9,0.8,0.8,3.9,6.1,6.8,8.0,2.6,9.9,11.6,12.1,4.2,10.2,10.6,6.3,4.2,14.6,16.1,17.2,16.8,18.4,20.4,22.3,20.9,20.3,13.7,13.2,19.9,30.2,4.2,0.3,0.1,0.0,0.0,0.5,1.7,0.9,0.6,0.4,0.2,0.3,0.3,0.5,0.0,0.1,0.0,0.8,5.9,7.7,9.7,6.3,8.3,2.8,0.7,0.7,0.1,1.7,4.1,0.9,0.1,0.1,0.2,0.2,0.1,1.0,0.9,3.1,6.0,0.8,1.9,10.0,16.7,12.9,0.9,0.3,0.6,0.1,0.4,0.4,0.4,0.3,4.9,1.2,0.8,5.3,6.7,9.5,12.0,18.4,7.2,2.2,0.5,6.4,5.2,9.9,15.0,6.3,5.2,3.0,3.1,1.3,0.8,9.6,4.7,10.4,14.1,7.3,7.7,9.1,13.0,17.3,30.0,25.4,16.3,2.5,0.7,1.0,3.2,9.0,10.9,13.2,14.5,0.8,13.5,19.5,20.9,12.6,0.8,0.6,5.9,12.7,10.7,21.6,18.8,10.5,15.7,5.5,14.8,24.0,26.3,7.7,9.0,12.2,18.1,24.5,26.9,31.1,30.3,26.1,6.1,5.9,16.0,19.4,0.0,0.8,2.5,0.7,0.4,0.4,3.2,2.7,3.7,0.3,1.2,3.9,10.3,5.7,9.8,19.3,17.5,15.4,5.6,3.8,21.6,13.7,15.2,0.4,3.0,6.5,0.0,0.2,0.7,0.5]}],\"hovertemplate\":\"%{xaxis.title.text}=%{x}<br>%{yaxis.title.text}=%{y}<extra></extra>\",\"legendgroup\":\"\",\"marker\":{\"color\":\"#636efa\",\"symbol\":\"circle\"},\"name\":\"\",\"showlegend\":false,\"type\":\"splom\"}],                        {\"template\":{\"data\":{\"bar\":[{\"error_x\":{\"color\":\"#2a3f5f\"},\"error_y\":{\"color\":\"#2a3f5f\"},\"marker\":{\"line\":{\"color\":\"#E5ECF6\",\"width\":0.5},\"pattern\":{\"fillmode\":\"overlay\",\"size\":10,\"solidity\":0.2}},\"type\":\"bar\"}],\"barpolar\":[{\"marker\":{\"line\":{\"color\":\"#E5ECF6\",\"width\":0.5},\"pattern\":{\"fillmode\":\"overlay\",\"size\":10,\"solidity\":0.2}},\"type\":\"barpolar\"}],\"carpet\":[{\"aaxis\":{\"endlinecolor\":\"#2a3f5f\",\"gridcolor\":\"white\",\"linecolor\":\"white\",\"minorgridcolor\":\"white\",\"startlinecolor\":\"#2a3f5f\"},\"baxis\":{\"endlinecolor\":\"#2a3f5f\",\"gridcolor\":\"white\",\"linecolor\":\"white\",\"minorgridcolor\":\"white\",\"startlinecolor\":\"#2a3f5f\"},\"type\":\"carpet\"}],\"choropleth\":[{\"colorbar\":{\"outlinewidth\":0,\"ticks\":\"\"},\"type\":\"choropleth\"}],\"contour\":[{\"colorbar\":{\"outlinewidth\":0,\"ticks\":\"\"},\"colorscale\":[[0.0,\"#0d0887\"],[0.1111111111111111,\"#46039f\"],[0.2222222222222222,\"#7201a8\"],[0.3333333333333333,\"#9c179e\"],[0.4444444444444444,\"#bd3786\"],[0.5555555555555556,\"#d8576b\"],[0.6666666666666666,\"#ed7953\"],[0.7777777777777778,\"#fb9f3a\"],[0.8888888888888888,\"#fdca26\"],[1.0,\"#f0f921\"]],\"type\":\"contour\"}],\"contourcarpet\":[{\"colorbar\":{\"outlinewidth\":0,\"ticks\":\"\"},\"type\":\"contourcarpet\"}],\"heatmap\":[{\"colorbar\":{\"outlinewidth\":0,\"ticks\":\"\"},\"colorscale\":[[0.0,\"#0d0887\"],[0.1111111111111111,\"#46039f\"],[0.2222222222222222,\"#7201a8\"],[0.3333333333333333,\"#9c179e\"],[0.4444444444444444,\"#bd3786\"],[0.5555555555555556,\"#d8576b\"],[0.6666666666666666,\"#ed7953\"],[0.7777777777777778,\"#fb9f3a\"],[0.8888888888888888,\"#fdca26\"],[1.0,\"#f0f921\"]],\"type\":\"heatmap\"}],\"heatmapgl\":[{\"colorbar\":{\"outlinewidth\":0,\"ticks\":\"\"},\"colorscale\":[[0.0,\"#0d0887\"],[0.1111111111111111,\"#46039f\"],[0.2222222222222222,\"#7201a8\"],[0.3333333333333333,\"#9c179e\"],[0.4444444444444444,\"#bd3786\"],[0.5555555555555556,\"#d8576b\"],[0.6666666666666666,\"#ed7953\"],[0.7777777777777778,\"#fb9f3a\"],[0.8888888888888888,\"#fdca26\"],[1.0,\"#f0f921\"]],\"type\":\"heatmapgl\"}],\"histogram\":[{\"marker\":{\"pattern\":{\"fillmode\":\"overlay\",\"size\":10,\"solidity\":0.2}},\"type\":\"histogram\"}],\"histogram2d\":[{\"colorbar\":{\"outlinewidth\":0,\"ticks\":\"\"},\"colorscale\":[[0.0,\"#0d0887\"],[0.1111111111111111,\"#46039f\"],[0.2222222222222222,\"#7201a8\"],[0.3333333333333333,\"#9c179e\"],[0.4444444444444444,\"#bd3786\"],[0.5555555555555556,\"#d8576b\"],[0.6666666666666666,\"#ed7953\"],[0.7777777777777778,\"#fb9f3a\"],[0.8888888888888888,\"#fdca26\"],[1.0,\"#f0f921\"]],\"type\":\"histogram2d\"}],\"histogram2dcontour\":[{\"colorbar\":{\"outlinewidth\":0,\"ticks\":\"\"},\"colorscale\":[[0.0,\"#0d0887\"],[0.1111111111111111,\"#46039f\"],[0.2222222222222222,\"#7201a8\"],[0.3333333333333333,\"#9c179e\"],[0.4444444444444444,\"#bd3786\"],[0.5555555555555556,\"#d8576b\"],[0.6666666666666666,\"#ed7953\"],[0.7777777777777778,\"#fb9f3a\"],[0.8888888888888888,\"#fdca26\"],[1.0,\"#f0f921\"]],\"type\":\"histogram2dcontour\"}],\"mesh3d\":[{\"colorbar\":{\"outlinewidth\":0,\"ticks\":\"\"},\"type\":\"mesh3d\"}],\"parcoords\":[{\"line\":{\"colorbar\":{\"outlinewidth\":0,\"ticks\":\"\"}},\"type\":\"parcoords\"}],\"pie\":[{\"automargin\":true,\"type\":\"pie\"}],\"scatter\":[{\"marker\":{\"colorbar\":{\"outlinewidth\":0,\"ticks\":\"\"}},\"type\":\"scatter\"}],\"scatter3d\":[{\"line\":{\"colorbar\":{\"outlinewidth\":0,\"ticks\":\"\"}},\"marker\":{\"colorbar\":{\"outlinewidth\":0,\"ticks\":\"\"}},\"type\":\"scatter3d\"}],\"scattercarpet\":[{\"marker\":{\"colorbar\":{\"outlinewidth\":0,\"ticks\":\"\"}},\"type\":\"scattercarpet\"}],\"scattergeo\":[{\"marker\":{\"colorbar\":{\"outlinewidth\":0,\"ticks\":\"\"}},\"type\":\"scattergeo\"}],\"scattergl\":[{\"marker\":{\"colorbar\":{\"outlinewidth\":0,\"ticks\":\"\"}},\"type\":\"scattergl\"}],\"scattermapbox\":[{\"marker\":{\"colorbar\":{\"outlinewidth\":0,\"ticks\":\"\"}},\"type\":\"scattermapbox\"}],\"scatterpolar\":[{\"marker\":{\"colorbar\":{\"outlinewidth\":0,\"ticks\":\"\"}},\"type\":\"scatterpolar\"}],\"scatterpolargl\":[{\"marker\":{\"colorbar\":{\"outlinewidth\":0,\"ticks\":\"\"}},\"type\":\"scatterpolargl\"}],\"scatterternary\":[{\"marker\":{\"colorbar\":{\"outlinewidth\":0,\"ticks\":\"\"}},\"type\":\"scatterternary\"}],\"surface\":[{\"colorbar\":{\"outlinewidth\":0,\"ticks\":\"\"},\"colorscale\":[[0.0,\"#0d0887\"],[0.1111111111111111,\"#46039f\"],[0.2222222222222222,\"#7201a8\"],[0.3333333333333333,\"#9c179e\"],[0.4444444444444444,\"#bd3786\"],[0.5555555555555556,\"#d8576b\"],[0.6666666666666666,\"#ed7953\"],[0.7777777777777778,\"#fb9f3a\"],[0.8888888888888888,\"#fdca26\"],[1.0,\"#f0f921\"]],\"type\":\"surface\"}],\"table\":[{\"cells\":{\"fill\":{\"color\":\"#EBF0F8\"},\"line\":{\"color\":\"white\"}},\"header\":{\"fill\":{\"color\":\"#C8D4E3\"},\"line\":{\"color\":\"white\"}},\"type\":\"table\"}]},\"layout\":{\"annotationdefaults\":{\"arrowcolor\":\"#2a3f5f\",\"arrowhead\":0,\"arrowwidth\":1},\"autotypenumbers\":\"strict\",\"coloraxis\":{\"colorbar\":{\"outlinewidth\":0,\"ticks\":\"\"}},\"colorscale\":{\"diverging\":[[0,\"#8e0152\"],[0.1,\"#c51b7d\"],[0.2,\"#de77ae\"],[0.3,\"#f1b6da\"],[0.4,\"#fde0ef\"],[0.5,\"#f7f7f7\"],[0.6,\"#e6f5d0\"],[0.7,\"#b8e186\"],[0.8,\"#7fbc41\"],[0.9,\"#4d9221\"],[1,\"#276419\"]],\"sequential\":[[0.0,\"#0d0887\"],[0.1111111111111111,\"#46039f\"],[0.2222222222222222,\"#7201a8\"],[0.3333333333333333,\"#9c179e\"],[0.4444444444444444,\"#bd3786\"],[0.5555555555555556,\"#d8576b\"],[0.6666666666666666,\"#ed7953\"],[0.7777777777777778,\"#fb9f3a\"],[0.8888888888888888,\"#fdca26\"],[1.0,\"#f0f921\"]],\"sequentialminus\":[[0.0,\"#0d0887\"],[0.1111111111111111,\"#46039f\"],[0.2222222222222222,\"#7201a8\"],[0.3333333333333333,\"#9c179e\"],[0.4444444444444444,\"#bd3786\"],[0.5555555555555556,\"#d8576b\"],[0.6666666666666666,\"#ed7953\"],[0.7777777777777778,\"#fb9f3a\"],[0.8888888888888888,\"#fdca26\"],[1.0,\"#f0f921\"]]},\"colorway\":[\"#636efa\",\"#EF553B\",\"#00cc96\",\"#ab63fa\",\"#FFA15A\",\"#19d3f3\",\"#FF6692\",\"#B6E880\",\"#FF97FF\",\"#FECB52\"],\"font\":{\"color\":\"#2a3f5f\"},\"geo\":{\"bgcolor\":\"white\",\"lakecolor\":\"white\",\"landcolor\":\"#E5ECF6\",\"showlakes\":true,\"showland\":true,\"subunitcolor\":\"white\"},\"hoverlabel\":{\"align\":\"left\"},\"hovermode\":\"closest\",\"mapbox\":{\"style\":\"light\"},\"paper_bgcolor\":\"white\",\"plot_bgcolor\":\"#E5ECF6\",\"polar\":{\"angularaxis\":{\"gridcolor\":\"white\",\"linecolor\":\"white\",\"ticks\":\"\"},\"bgcolor\":\"#E5ECF6\",\"radialaxis\":{\"gridcolor\":\"white\",\"linecolor\":\"white\",\"ticks\":\"\"}},\"scene\":{\"xaxis\":{\"backgroundcolor\":\"#E5ECF6\",\"gridcolor\":\"white\",\"gridwidth\":2,\"linecolor\":\"white\",\"showbackground\":true,\"ticks\":\"\",\"zerolinecolor\":\"white\"},\"yaxis\":{\"backgroundcolor\":\"#E5ECF6\",\"gridcolor\":\"white\",\"gridwidth\":2,\"linecolor\":\"white\",\"showbackground\":true,\"ticks\":\"\",\"zerolinecolor\":\"white\"},\"zaxis\":{\"backgroundcolor\":\"#E5ECF6\",\"gridcolor\":\"white\",\"gridwidth\":2,\"linecolor\":\"white\",\"showbackground\":true,\"ticks\":\"\",\"zerolinecolor\":\"white\"}},\"shapedefaults\":{\"line\":{\"color\":\"#2a3f5f\"}},\"ternary\":{\"aaxis\":{\"gridcolor\":\"white\",\"linecolor\":\"white\",\"ticks\":\"\"},\"baxis\":{\"gridcolor\":\"white\",\"linecolor\":\"white\",\"ticks\":\"\"},\"bgcolor\":\"#E5ECF6\",\"caxis\":{\"gridcolor\":\"white\",\"linecolor\":\"white\",\"ticks\":\"\"}},\"title\":{\"x\":0.05},\"xaxis\":{\"automargin\":true,\"gridcolor\":\"white\",\"linecolor\":\"white\",\"ticks\":\"\",\"title\":{\"standoff\":15},\"zerolinecolor\":\"white\",\"zerolinewidth\":2},\"yaxis\":{\"automargin\":true,\"gridcolor\":\"white\",\"linecolor\":\"white\",\"ticks\":\"\",\"title\":{\"standoff\":15},\"zerolinecolor\":\"white\",\"zerolinewidth\":2}}},\"legend\":{\"tracegroupgap\":0},\"margin\":{\"t\":60},\"dragmode\":\"select\",\"title\":{\"text\":\"Algerian Fire Data set\"},\"width\":1200,\"height\":1200},                        {\"responsive\": true}                    ).then(function(){\n",
              "                            \n",
              "var gd = document.getElementById('9ad6965b-8bf1-4ee1-b28f-d9eb7329d57e');\n",
              "var x = new MutationObserver(function (mutations, observer) {{\n",
              "        var display = window.getComputedStyle(gd).display;\n",
              "        if (!display || display === 'none') {{\n",
              "            console.log([gd, 'removed!']);\n",
              "            Plotly.purge(gd);\n",
              "            observer.disconnect();\n",
              "        }}\n",
              "}});\n",
              "\n",
              "// Listen for the removal of the full notebook cells\n",
              "var notebookContainer = gd.closest('#notebook-container');\n",
              "if (notebookContainer) {{\n",
              "    x.observe(notebookContainer, {childList: true});\n",
              "}}\n",
              "\n",
              "// Listen for the clearing of the current output cell\n",
              "var outputEl = gd.closest('.output');\n",
              "if (outputEl) {{\n",
              "    x.observe(outputEl, {childList: true});\n",
              "}}\n",
              "\n",
              "                        })                };                            </script>        </div>\n",
              "</body>\n",
              "</html>"
            ]
          },
          "metadata": {}
        }
      ]
    },
    {
      "cell_type": "markdown",
      "source": [
        "Based on the above graphs we could see the following:\n",
        "\n",
        "1. Strong linear relationship between DMC and BUI\n",
        "2. Strong linear relationship between DMC and FWI\n",
        "3. Strong linear relationship between DMC and DC\n",
        "4. Strong linear relationship between FWI and ISI\n",
        "5. exponential relationship between FFMC and FWI\n",
        "6. negative linear relationship between ISI and RH\n",
        "7. RH is inversely related to Temperature"
      ],
      "metadata": {
        "id": "DkzRLmfN0J-g"
      }
    },
    {
      "cell_type": "markdown",
      "source": [
        "## Outlier Detection"
      ],
      "metadata": {
        "id": "P0se-GzF1iH5"
      }
    },
    {
      "cell_type": "code",
      "source": [
        "#Outliers \n",
        "data1 = data.copy()\n",
        "con_disc_features = continuous_feature + discreate_feature\n",
        "for feature in con_disc_features:\n",
        "  data1[feature] = np.log(data[feature])\n",
        "  data1.boxplot(column=feature)\n",
        "  plt.ylabel(feature)\n",
        "  plt.title(feature)\n",
        "  plt.show()"
      ],
      "metadata": {
        "colab": {
          "base_uri": "https://localhost:8080/",
          "height": 1000
        },
        "id": "DJpuFXRhxYLv",
        "outputId": "302bd6e5-bc20-488f-f52e-9a61a6449558"
      },
      "execution_count": 52,
      "outputs": [
        {
          "output_type": "display_data",
          "data": {
            "text/plain": [
              "<Figure size 432x288 with 1 Axes>"
            ],
            "image/png": "[encoded data removed]"
          },
          "metadata": {
            "needs_background": "light"
          }
        },
        {
          "output_type": "stream",
          "name": "stderr",
          "text": [
            "/usr/local/lib/python3.7/dist-packages/pandas/core/arraylike.py:364: RuntimeWarning:\n",
            "\n",
            "divide by zero encountered in log\n",
            "\n",
            "/usr/local/lib/python3.7/dist-packages/numpy/lib/function_base.py:4009: RuntimeWarning:\n",
            "\n",
            "invalid value encountered in subtract\n",
            "\n"
          ]
        },
        {
          "output_type": "display_data",
          "data": {
            "text/plain": [
              "<Figure size 432x288 with 1 Axes>"
            ],
            "image/png": "[encoded data removed]"
          },
          "metadata": {
            "needs_background": "light"
          }
        },
        {
          "output_type": "display_data",
          "data": {
            "text/plain": [
              "<Figure size 432x288 with 1 Axes>"
            ],
            "image/png": "[encoded data removed]"
          },
          "metadata": {
            "needs_background": "light"
          }
        },
        {
          "output_type": "display_data",
          "data": {
            "text/plain": [
              "<Figure size 432x288 with 1 Axes>"
            ],
            "image/png": "[encoded data removed]"
          },
          "metadata": {
            "needs_background": "light"
          }
        },
        {
          "output_type": "display_data",
          "data": {
            "text/plain": [
              "<Figure size 432x288 with 1 Axes>"
            ],
            "image/png": "[encoded data removed]"
          },
          "metadata": {
            "needs_background": "light"
          }
        },
        {
          "output_type": "stream",
          "name": "stderr",
          "text": [
            "/usr/local/lib/python3.7/dist-packages/pandas/core/arraylike.py:364: RuntimeWarning:\n",
            "\n",
            "divide by zero encountered in log\n",
            "\n"
          ]
        },
        {
          "output_type": "display_data",
          "data": {
            "text/plain": [
              "<Figure size 432x288 with 1 Axes>"
            ],
            "image/png": "[encoded data removed]"
          },
          "metadata": {
            "needs_background": "light"
          }
        },
        {
          "output_type": "display_data",
          "data": {
            "text/plain": [
              "<Figure size 432x288 with 1 Axes>"
            ],
            "image/png": "[encoded data removed]"
          },
          "metadata": {
            "needs_background": "light"
          }
        },
        {
          "output_type": "stream",
          "name": "stderr",
          "text": [
            "/usr/local/lib/python3.7/dist-packages/pandas/core/arraylike.py:364: RuntimeWarning:\n",
            "\n",
            "divide by zero encountered in log\n",
            "\n"
          ]
        },
        {
          "output_type": "display_data",
          "data": {
            "text/plain": [
              "<Figure size 432x288 with 1 Axes>"
            ],
            "image/png": "[encoded data removed]"
          },
          "metadata": {
            "needs_background": "light"
          }
        },
        {
          "output_type": "display_data",
          "data": {
            "text/plain": [
              "<Figure size 432x288 with 1 Axes>"
            ],
            "image/png": "[encoded data removed]"
          },
          "metadata": {
            "needs_background": "light"
          }
        },
        {
          "output_type": "display_data",
          "data": {
            "text/plain": [
              "<Figure size 432x288 with 1 Axes>"
            ],
            "image/png": "[encoded data removed]"
          },
          "metadata": {
            "needs_background": "light"
          }
        }
      ]
    },
    {
      "cell_type": "markdown",
      "source": [
        "**Statistical way**"
      ],
      "metadata": {
        "id": "PvdMDarb3AI5"
      }
    },
    {
      "cell_type": "code",
      "source": [
        "data1 = data[con_disc_features]\n",
        "    \n",
        "Q1 = data1.quantile(0.25)\n",
        "Q3 = data1.quantile(0.75)\n",
        "IQR = Q3 - Q1\n",
        "    \n",
        "ans = ((data1 < (Q1 - 1.5 * IQR)) | (data1 > (Q3 + 1.5 * IQR))).sum()\n",
        "outlier_df = pd.DataFrame(ans).reset_index().rename(columns = {'index':'column', 0:'count_of_outliers'})\n",
        "outlier_df"
      ],
      "metadata": {
        "colab": {
          "base_uri": "https://localhost:8080/",
          "height": 363
        },
        "id": "Pz4mtspd2OyK",
        "outputId": "3b7a5fb2-8ff9-4ee7-b14b-80dceab976e4"
      },
      "execution_count": 53,
      "outputs": [
        {
          "output_type": "execute_result",
          "data": {
            "text/plain": [
              "        column  count_of_outliers\n",
              "0           RH                  0\n",
              "1         Rain                 35\n",
              "2         FFMC                 16\n",
              "3          DMC                 12\n",
              "4           DC                 15\n",
              "5          ISI                  4\n",
              "6          BUI                 12\n",
              "7          FWI                  4\n",
              "8  Temperature                  2\n",
              "9           Ws                  8"
            ],
            "text/html": [
              "\n",
              "  <div id=\"df-dd7bd474-98b2-4142-94af-c9700ef17d59\">\n",
              "    <div class=\"colab-df-container\">\n",
              "      <div>\n",
              "<style scoped>\n",
              "    .dataframe tbody tr th:only-of-type {\n",
              "        vertical-align: middle;\n",
              "    }\n",
              "\n",
              "    .dataframe tbody tr th {\n",
              "        vertical-align: top;\n",
              "    }\n",
              "\n",
              "    .dataframe thead th {\n",
              "        text-align: right;\n",
              "    }\n",
              "</style>\n",
              "<table border=\"1\" class=\"dataframe\">\n",
              "  <thead>\n",
              "    <tr style=\"text-align: right;\">\n",
              "      <th></th>\n",
              "      <th>column</th>\n",
              "      <th>count_of_outliers</th>\n",
              "    </tr>\n",
              "  </thead>\n",
              "  <tbody>\n",
              "    <tr>\n",
              "      <th>0</th>\n",
              "      <td>RH</td>\n",
              "      <td>0</td>\n",
              "    </tr>\n",
              "    <tr>\n",
              "      <th>1</th>\n",
              "      <td>Rain</td>\n",
              "      <td>35</td>\n",
              "    </tr>\n",
              "    <tr>\n",
              "      <th>2</th>\n",
              "      <td>FFMC</td>\n",
              "      <td>16</td>\n",
              "    </tr>\n",
              "    <tr>\n",
              "      <th>3</th>\n",
              "      <td>DMC</td>\n",
              "      <td>12</td>\n",
              "    </tr>\n",
              "    <tr>\n",
              "      <th>4</th>\n",
              "      <td>DC</td>\n",
              "      <td>15</td>\n",
              "    </tr>\n",
              "    <tr>\n",
              "      <th>5</th>\n",
              "      <td>ISI</td>\n",
              "      <td>4</td>\n",
              "    </tr>\n",
              "    <tr>\n",
              "      <th>6</th>\n",
              "      <td>BUI</td>\n",
              "      <td>12</td>\n",
              "    </tr>\n",
              "    <tr>\n",
              "      <th>7</th>\n",
              "      <td>FWI</td>\n",
              "      <td>4</td>\n",
              "    </tr>\n",
              "    <tr>\n",
              "      <th>8</th>\n",
              "      <td>Temperature</td>\n",
              "      <td>2</td>\n",
              "    </tr>\n",
              "    <tr>\n",
              "      <th>9</th>\n",
              "      <td>Ws</td>\n",
              "      <td>8</td>\n",
              "    </tr>\n",
              "  </tbody>\n",
              "</table>\n",
              "</div>\n",
              "      <button class=\"colab-df-convert\" onclick=\"convertToInteractive('df-dd7bd474-98b2-4142-94af-c9700ef17d59')\"\n",
              "              title=\"Convert this dataframe to an interactive table.\"\n",
              "              style=\"display:none;\">\n",
              "        \n",
              "  <svg xmlns=\"http://www.w3.org/2000/svg\" height=\"24px\"viewBox=\"0 0 24 24\"\n",
              "       width=\"24px\">\n",
              "    <path d=\"M0 0h24v24H0V0z\" fill=\"none\"/>\n",
              "    <path d=\"M18.56 5.44l.94 2.06.94-2.06 2.06-.94-2.06-.94-.94-2.06-.94 2.06-2.06.94zm-11 1L8.5 8.5l.94-2.06 2.06-.94-2.06-.94L8.5 2.5l-.94 2.06-2.06.94zm10 10l.94 2.06.94-2.06 2.06-.94-2.06-.94-.94-2.06-.94 2.06-2.06.94z\"/><path d=\"M17.41 7.96l-1.37-1.37c-.4-.4-.92-.59-1.43-.59-.52 0-1.04.2-1.43.59L10.3 9.45l-7.72 7.72c-.78.78-.78 2.05 0 2.83L4 21.41c.39.39.9.59 1.41.59.51 0 1.02-.2 1.41-.59l7.78-7.78 2.81-2.81c.8-.78.8-2.07 0-2.86zM5.41 20L4 18.59l7.72-7.72 1.47 1.35L5.41 20z\"/>\n",
              "  </svg>\n",
              "      </button>\n",
              "      \n",
              "  <style>\n",
              "    .colab-df-container {\n",
              "      display:flex;\n",
              "      flex-wrap:wrap;\n",
              "      gap: 12px;\n",
              "    }\n",
              "\n",
              "    .colab-df-convert {\n",
              "      background-color: #E8F0FE;\n",
              "      border: none;\n",
              "      border-radius: 50%;\n",
              "      cursor: pointer;\n",
              "      display: none;\n",
              "      fill: #1967D2;\n",
              "      height: 32px;\n",
              "      padding: 0 0 0 0;\n",
              "      width: 32px;\n",
              "    }\n",
              "\n",
              "    .colab-df-convert:hover {\n",
              "      background-color: #E2EBFA;\n",
              "      box-shadow: 0px 1px 2px rgba(60, 64, 67, 0.3), 0px 1px 3px 1px rgba(60, 64, 67, 0.15);\n",
              "      fill: #174EA6;\n",
              "    }\n",
              "\n",
              "    [theme=dark] .colab-df-convert {\n",
              "      background-color: #3B4455;\n",
              "      fill: #D2E3FC;\n",
              "    }\n",
              "\n",
              "    [theme=dark] .colab-df-convert:hover {\n",
              "      background-color: #434B5C;\n",
              "      box-shadow: 0px 1px 3px 1px rgba(0, 0, 0, 0.15);\n",
              "      filter: drop-shadow(0px 1px 2px rgba(0, 0, 0, 0.3));\n",
              "      fill: #FFFFFF;\n",
              "    }\n",
              "  </style>\n",
              "\n",
              "      <script>\n",
              "        const buttonEl =\n",
              "          document.querySelector('#df-dd7bd474-98b2-4142-94af-c9700ef17d59 button.colab-df-convert');\n",
              "        buttonEl.style.display =\n",
              "          google.colab.kernel.accessAllowed ? 'block' : 'none';\n",
              "\n",
              "        async function convertToInteractive(key) {\n",
              "          const element = document.querySelector('#df-dd7bd474-98b2-4142-94af-c9700ef17d59');\n",
              "          const dataTable =\n",
              "            await google.colab.kernel.invokeFunction('convertToInteractive',\n",
              "                                                     [key], {});\n",
              "          if (!dataTable) return;\n",
              "\n",
              "          const docLinkHtml = 'Like what you see? Visit the ' +\n",
              "            '<a target=\"_blank\" href=https://colab.research.google.com/notebooks/data_table.ipynb>data table notebook</a>'\n",
              "            + ' to learn more about interactive tables.';\n",
              "          element.innerHTML = '';\n",
              "          dataTable['output_type'] = 'display_data';\n",
              "          await google.colab.output.renderOutput(dataTable, element);\n",
              "          const docLink = document.createElement('div');\n",
              "          docLink.innerHTML = docLinkHtml;\n",
              "          element.appendChild(docLink);\n",
              "        }\n",
              "      </script>\n",
              "    </div>\n",
              "  </div>\n",
              "  "
            ]
          },
          "metadata": {},
          "execution_count": 53
        }
      ]
    },
    {
      "cell_type": "code",
      "source": [
        "#Finding the upper or lower fence value\n",
        "\n",
        "for i in con_disc_features:\n",
        "  upper_bound = data[i].quantile(0.75) + 1.5*(data[i].quantile(0.75) - data[i].quantile(0.25))\n",
        "  lower_bound = data[i].quantile(0.25) - 1.5*(data[i].quantile(0.75) - data[i].quantile(0.25))\n",
        "  if upper_bound > 0:\n",
        "    print(i, \" : \",' above: ', upper_bound, 'are outliers')\n",
        "  if lower_bound > 0:\n",
        "    print(i, \" : \",' below: ', lower_bound, 'are outliers')"
      ],
      "metadata": {
        "colab": {
          "base_uri": "https://localhost:8080/"
        },
        "id": "YualLEvh3lpC",
        "outputId": "d9d04e2f-0ed5-4679-d1b2-36e2acc2f011"
      },
      "execution_count": 54,
      "outputs": [
        {
          "output_type": "stream",
          "name": "stdout",
          "text": [
            "RH  :   above:  105.125 are outliers\n",
            "RH  :   below:  20.125 are outliers\n",
            "Rain  :   above:  1.25 are outliers\n",
            "FFMC  :   above:  112.63749999999999 are outliers\n",
            "FFMC  :   below:  47.73750000000001 are outliers\n",
            "DMC  :   above:  43.175 are outliers\n",
            "DC  :   above:  150.46250000000003 are outliers\n",
            "ISI  :   above:  16.150000000000002 are outliers\n",
            "BUI  :   above:  47.3125 are outliers\n",
            "FWI  :   above:  27.387500000000003 are outliers\n",
            "Temperature  :   above:  42.5 are outliers\n",
            "Temperature  :   below:  22.5 are outliers\n",
            "Ws  :   above:  21.5 are outliers\n",
            "Ws  :   below:  9.5 are outliers\n"
          ]
        }
      ]
    },
    {
      "cell_type": "markdown",
      "source": [
        "## Skewness check"
      ],
      "metadata": {
        "id": "7VTrlLYA9raG"
      }
    },
    {
      "cell_type": "code",
      "source": [
        "num_data = data[con_disc_features]\n",
        "pd.DataFrame(data=[num_data.skew(),num_data.kurtosis()],index=['skewness','kurtosis'])"
      ],
      "metadata": {
        "colab": {
          "base_uri": "https://localhost:8080/",
          "height": 112
        },
        "id": "N2_-gVsb61dO",
        "outputId": "a3cc1708-6ff8-49a5-d65f-a24e37c99fb6"
      },
      "execution_count": 55,
      "outputs": [
        {
          "output_type": "execute_result",
          "data": {
            "text/plain": [
              "                RH       Rain      FFMC       DMC        DC      ISI  \\\n",
              "skewness -0.237964   4.579071 -1.325633  1.527652  1.479042  1.12695   \n",
              "kurtosis -0.530328  25.942123  1.055208  2.487598  1.614097  0.82986   \n",
              "\n",
              "               BUI       FWI  Temperature        Ws  \n",
              "skewness  1.458466  1.143243    -0.196309  0.545881  \n",
              "kurtosis  1.979913  0.655316    -0.154310  2.602156  "
            ],
            "text/html": [
              "\n",
              "  <div id=\"df-657d8a87-541e-40dc-b9d1-87a55bd6a854\">\n",
              "    <div class=\"colab-df-container\">\n",
              "      <div>\n",
              "<style scoped>\n",
              "    .dataframe tbody tr th:only-of-type {\n",
              "        vertical-align: middle;\n",
              "    }\n",
              "\n",
              "    .dataframe tbody tr th {\n",
              "        vertical-align: top;\n",
              "    }\n",
              "\n",
              "    .dataframe thead th {\n",
              "        text-align: right;\n",
              "    }\n",
              "</style>\n",
              "<table border=\"1\" class=\"dataframe\">\n",
              "  <thead>\n",
              "    <tr style=\"text-align: right;\">\n",
              "      <th></th>\n",
              "      <th>RH</th>\n",
              "      <th>Rain</th>\n",
              "      <th>FFMC</th>\n",
              "      <th>DMC</th>\n",
              "      <th>DC</th>\n",
              "      <th>ISI</th>\n",
              "      <th>BUI</th>\n",
              "      <th>FWI</th>\n",
              "      <th>Temperature</th>\n",
              "      <th>Ws</th>\n",
              "    </tr>\n",
              "  </thead>\n",
              "  <tbody>\n",
              "    <tr>\n",
              "      <th>skewness</th>\n",
              "      <td>-0.237964</td>\n",
              "      <td>4.579071</td>\n",
              "      <td>-1.325633</td>\n",
              "      <td>1.527652</td>\n",
              "      <td>1.479042</td>\n",
              "      <td>1.12695</td>\n",
              "      <td>1.458466</td>\n",
              "      <td>1.143243</td>\n",
              "      <td>-0.196309</td>\n",
              "      <td>0.545881</td>\n",
              "    </tr>\n",
              "    <tr>\n",
              "      <th>kurtosis</th>\n",
              "      <td>-0.530328</td>\n",
              "      <td>25.942123</td>\n",
              "      <td>1.055208</td>\n",
              "      <td>2.487598</td>\n",
              "      <td>1.614097</td>\n",
              "      <td>0.82986</td>\n",
              "      <td>1.979913</td>\n",
              "      <td>0.655316</td>\n",
              "      <td>-0.154310</td>\n",
              "      <td>2.602156</td>\n",
              "    </tr>\n",
              "  </tbody>\n",
              "</table>\n",
              "</div>\n",
              "      <button class=\"colab-df-convert\" onclick=\"convertToInteractive('df-657d8a87-541e-40dc-b9d1-87a55bd6a854')\"\n",
              "              title=\"Convert this dataframe to an interactive table.\"\n",
              "              style=\"display:none;\">\n",
              "        \n",
              "  <svg xmlns=\"http://www.w3.org/2000/svg\" height=\"24px\"viewBox=\"0 0 24 24\"\n",
              "       width=\"24px\">\n",
              "    <path d=\"M0 0h24v24H0V0z\" fill=\"none\"/>\n",
              "    <path d=\"M18.56 5.44l.94 2.06.94-2.06 2.06-.94-2.06-.94-.94-2.06-.94 2.06-2.06.94zm-11 1L8.5 8.5l.94-2.06 2.06-.94-2.06-.94L8.5 2.5l-.94 2.06-2.06.94zm10 10l.94 2.06.94-2.06 2.06-.94-2.06-.94-.94-2.06-.94 2.06-2.06.94z\"/><path d=\"M17.41 7.96l-1.37-1.37c-.4-.4-.92-.59-1.43-.59-.52 0-1.04.2-1.43.59L10.3 9.45l-7.72 7.72c-.78.78-.78 2.05 0 2.83L4 21.41c.39.39.9.59 1.41.59.51 0 1.02-.2 1.41-.59l7.78-7.78 2.81-2.81c.8-.78.8-2.07 0-2.86zM5.41 20L4 18.59l7.72-7.72 1.47 1.35L5.41 20z\"/>\n",
              "  </svg>\n",
              "      </button>\n",
              "      \n",
              "  <style>\n",
              "    .colab-df-container {\n",
              "      display:flex;\n",
              "      flex-wrap:wrap;\n",
              "      gap: 12px;\n",
              "    }\n",
              "\n",
              "    .colab-df-convert {\n",
              "      background-color: #E8F0FE;\n",
              "      border: none;\n",
              "      border-radius: 50%;\n",
              "      cursor: pointer;\n",
              "      display: none;\n",
              "      fill: #1967D2;\n",
              "      height: 32px;\n",
              "      padding: 0 0 0 0;\n",
              "      width: 32px;\n",
              "    }\n",
              "\n",
              "    .colab-df-convert:hover {\n",
              "      background-color: #E2EBFA;\n",
              "      box-shadow: 0px 1px 2px rgba(60, 64, 67, 0.3), 0px 1px 3px 1px rgba(60, 64, 67, 0.15);\n",
              "      fill: #174EA6;\n",
              "    }\n",
              "\n",
              "    [theme=dark] .colab-df-convert {\n",
              "      background-color: #3B4455;\n",
              "      fill: #D2E3FC;\n",
              "    }\n",
              "\n",
              "    [theme=dark] .colab-df-convert:hover {\n",
              "      background-color: #434B5C;\n",
              "      box-shadow: 0px 1px 3px 1px rgba(0, 0, 0, 0.15);\n",
              "      filter: drop-shadow(0px 1px 2px rgba(0, 0, 0, 0.3));\n",
              "      fill: #FFFFFF;\n",
              "    }\n",
              "  </style>\n",
              "\n",
              "      <script>\n",
              "        const buttonEl =\n",
              "          document.querySelector('#df-657d8a87-541e-40dc-b9d1-87a55bd6a854 button.colab-df-convert');\n",
              "        buttonEl.style.display =\n",
              "          google.colab.kernel.accessAllowed ? 'block' : 'none';\n",
              "\n",
              "        async function convertToInteractive(key) {\n",
              "          const element = document.querySelector('#df-657d8a87-541e-40dc-b9d1-87a55bd6a854');\n",
              "          const dataTable =\n",
              "            await google.colab.kernel.invokeFunction('convertToInteractive',\n",
              "                                                     [key], {});\n",
              "          if (!dataTable) return;\n",
              "\n",
              "          const docLinkHtml = 'Like what you see? Visit the ' +\n",
              "            '<a target=\"_blank\" href=https://colab.research.google.com/notebooks/data_table.ipynb>data table notebook</a>'\n",
              "            + ' to learn more about interactive tables.';\n",
              "          element.innerHTML = '';\n",
              "          dataTable['output_type'] = 'display_data';\n",
              "          await google.colab.output.renderOutput(dataTable, element);\n",
              "          const docLink = document.createElement('div');\n",
              "          docLink.innerHTML = docLinkHtml;\n",
              "          element.appendChild(docLink);\n",
              "        }\n",
              "      </script>\n",
              "    </div>\n",
              "  </div>\n",
              "  "
            ]
          },
          "metadata": {},
          "execution_count": 55
        }
      ]
    },
    {
      "cell_type": "markdown",
      "source": [
        "We could see there is heavy skewness and Kurtosis in Rain column"
      ],
      "metadata": {
        "id": "Wk9cEFhU97gk"
      }
    },
    {
      "cell_type": "code",
      "source": [
        "data['Rain'].value_counts()/len(data['Rain'])*100"
      ],
      "metadata": {
        "colab": {
          "base_uri": "https://localhost:8080/"
        },
        "id": "cAnmW4xw908h",
        "outputId": "33c99001-dc76-416f-f798-a6b5704cd8ce"
      },
      "execution_count": 56,
      "outputs": [
        {
          "output_type": "execute_result",
          "data": {
            "text/plain": [
              "0.0     54.508197\n",
              "0.1      7.377049\n",
              "0.2      4.918033\n",
              "0.3      4.098361\n",
              "0.4      3.278689\n",
              "0.7      2.459016\n",
              "0.6      2.459016\n",
              "0.5      2.049180\n",
              "1.1      1.229508\n",
              "1.2      1.229508\n",
              "2.0      1.229508\n",
              "1.8      1.229508\n",
              "0.8      0.819672\n",
              "2.9      0.819672\n",
              "1.3      0.819672\n",
              "3.8      0.819672\n",
              "1.4      0.819672\n",
              "1.0      0.819672\n",
              "3.1      0.819672\n",
              "16.8     0.409836\n",
              "4.5      0.409836\n",
              "6.5      0.409836\n",
              "4.1      0.409836\n",
              "13.1     0.409836\n",
              "1.9      0.409836\n",
              "6.0      0.409836\n",
              "2.2      0.409836\n",
              "1.7      0.409836\n",
              "2.5      0.409836\n",
              "4.7      0.409836\n",
              "8.7      0.409836\n",
              "7.2      0.409836\n",
              "4.0      0.409836\n",
              "5.8      0.409836\n",
              "8.3      0.409836\n",
              "4.6      0.409836\n",
              "0.9      0.409836\n",
              "10.1     0.409836\n",
              "4.4      0.409836\n",
              "Name: Rain, dtype: float64"
            ]
          },
          "metadata": {},
          "execution_count": 56
        }
      ]
    },
    {
      "cell_type": "markdown",
      "source": [
        "The huge number of skewness and kurtosis is because of the value 0.0 which occupied 55% of data. Looks like it could be the possible scenario that if there is no rain then it will be marked as 0.0"
      ],
      "metadata": {
        "id": "URf5H16M-hB7"
      }
    },
    {
      "cell_type": "markdown",
      "source": [
        "## Correlation check\n",
        "\n",
        "\n",
        "\n"
      ],
      "metadata": {
        "id": "0SfbemkIB8tZ"
      }
    },
    {
      "cell_type": "code",
      "source": [
        "corr =data[con_disc_features].corr()\n",
        "corr"
      ],
      "metadata": {
        "colab": {
          "base_uri": "https://localhost:8080/",
          "height": 363
        },
        "id": "jQwDuaXVCIqr",
        "outputId": "8735f20e-145f-40bb-b1eb-7754311ac7d1"
      },
      "execution_count": 57,
      "outputs": [
        {
          "output_type": "execute_result",
          "data": {
            "text/plain": [
              "                   RH      Rain      FFMC       DMC        DC       ISI  \\\n",
              "RH           1.000000  0.222968 -0.645658 -0.405133 -0.220330 -0.688268   \n",
              "Rain         0.222968  1.000000 -0.544045 -0.288548 -0.296804 -0.347862   \n",
              "FFMC        -0.645658 -0.544045  1.000000  0.602391  0.503910  0.740751   \n",
              "DMC         -0.405133 -0.288548  0.602391  1.000000  0.875358  0.678355   \n",
              "DC          -0.220330 -0.296804  0.503910  0.875358  1.000000  0.503919   \n",
              "ISI         -0.688268 -0.347862  0.740751  0.678355  0.503919  1.000000   \n",
              "BUI         -0.349685 -0.299409  0.590251  0.982206  0.941672  0.641351   \n",
              "FWI         -0.580457 -0.324755  0.691430  0.875191  0.737041  0.922422   \n",
              "Temperature -0.654443 -0.326786  0.677491  0.483105  0.370498  0.605971   \n",
              "Ws           0.236084  0.170169 -0.163255 -0.001246  0.076245  0.012245   \n",
              "\n",
              "                  BUI       FWI  Temperature        Ws  \n",
              "RH          -0.349685 -0.580457    -0.654443  0.236084  \n",
              "Rain        -0.299409 -0.324755    -0.326786  0.170169  \n",
              "FFMC         0.590251  0.691430     0.677491 -0.163255  \n",
              "DMC          0.982206  0.875191     0.483105 -0.001246  \n",
              "DC           0.941672  0.737041     0.370498  0.076245  \n",
              "ISI          0.641351  0.922422     0.605971  0.012245  \n",
              "BUI          1.000000  0.856912     0.456415  0.030303  \n",
              "FWI          0.856912  1.000000     0.566839  0.033957  \n",
              "Temperature  0.456415  0.566839     1.000000 -0.278132  \n",
              "Ws           0.030303  0.033957    -0.278132  1.000000  "
            ],
            "text/html": [
              "\n",
              "  <div id=\"df-4e9ac886-53a6-42eb-9fff-8b0ef8a4cd64\">\n",
              "    <div class=\"colab-df-container\">\n",
              "      <div>\n",
              "<style scoped>\n",
              "    .dataframe tbody tr th:only-of-type {\n",
              "        vertical-align: middle;\n",
              "    }\n",
              "\n",
              "    .dataframe tbody tr th {\n",
              "        vertical-align: top;\n",
              "    }\n",
              "\n",
              "    .dataframe thead th {\n",
              "        text-align: right;\n",
              "    }\n",
              "</style>\n",
              "<table border=\"1\" class=\"dataframe\">\n",
              "  <thead>\n",
              "    <tr style=\"text-align: right;\">\n",
              "      <th></th>\n",
              "      <th>RH</th>\n",
              "      <th>Rain</th>\n",
              "      <th>FFMC</th>\n",
              "      <th>DMC</th>\n",
              "      <th>DC</th>\n",
              "      <th>ISI</th>\n",
              "      <th>BUI</th>\n",
              "      <th>FWI</th>\n",
              "      <th>Temperature</th>\n",
              "      <th>Ws</th>\n",
              "    </tr>\n",
              "  </thead>\n",
              "  <tbody>\n",
              "    <tr>\n",
              "      <th>RH</th>\n",
              "      <td>1.000000</td>\n",
              "      <td>0.222968</td>\n",
              "      <td>-0.645658</td>\n",
              "      <td>-0.405133</td>\n",
              "      <td>-0.220330</td>\n",
              "      <td>-0.688268</td>\n",
              "      <td>-0.349685</td>\n",
              "      <td>-0.580457</td>\n",
              "      <td>-0.654443</td>\n",
              "      <td>0.236084</td>\n",
              "    </tr>\n",
              "    <tr>\n",
              "      <th>Rain</th>\n",
              "      <td>0.222968</td>\n",
              "      <td>1.000000</td>\n",
              "      <td>-0.544045</td>\n",
              "      <td>-0.288548</td>\n",
              "      <td>-0.296804</td>\n",
              "      <td>-0.347862</td>\n",
              "      <td>-0.299409</td>\n",
              "      <td>-0.324755</td>\n",
              "      <td>-0.326786</td>\n",
              "      <td>0.170169</td>\n",
              "    </tr>\n",
              "    <tr>\n",
              "      <th>FFMC</th>\n",
              "      <td>-0.645658</td>\n",
              "      <td>-0.544045</td>\n",
              "      <td>1.000000</td>\n",
              "      <td>0.602391</td>\n",
              "      <td>0.503910</td>\n",
              "      <td>0.740751</td>\n",
              "      <td>0.590251</td>\n",
              "      <td>0.691430</td>\n",
              "      <td>0.677491</td>\n",
              "      <td>-0.163255</td>\n",
              "    </tr>\n",
              "    <tr>\n",
              "      <th>DMC</th>\n",
              "      <td>-0.405133</td>\n",
              "      <td>-0.288548</td>\n",
              "      <td>0.602391</td>\n",
              "      <td>1.000000</td>\n",
              "      <td>0.875358</td>\n",
              "      <td>0.678355</td>\n",
              "      <td>0.982206</td>\n",
              "      <td>0.875191</td>\n",
              "      <td>0.483105</td>\n",
              "      <td>-0.001246</td>\n",
              "    </tr>\n",
              "    <tr>\n",
              "      <th>DC</th>\n",
              "      <td>-0.220330</td>\n",
              "      <td>-0.296804</td>\n",
              "      <td>0.503910</td>\n",
              "      <td>0.875358</td>\n",
              "      <td>1.000000</td>\n",
              "      <td>0.503919</td>\n",
              "      <td>0.941672</td>\n",
              "      <td>0.737041</td>\n",
              "      <td>0.370498</td>\n",
              "      <td>0.076245</td>\n",
              "    </tr>\n",
              "    <tr>\n",
              "      <th>ISI</th>\n",
              "      <td>-0.688268</td>\n",
              "      <td>-0.347862</td>\n",
              "      <td>0.740751</td>\n",
              "      <td>0.678355</td>\n",
              "      <td>0.503919</td>\n",
              "      <td>1.000000</td>\n",
              "      <td>0.641351</td>\n",
              "      <td>0.922422</td>\n",
              "      <td>0.605971</td>\n",
              "      <td>0.012245</td>\n",
              "    </tr>\n",
              "    <tr>\n",
              "      <th>BUI</th>\n",
              "      <td>-0.349685</td>\n",
              "      <td>-0.299409</td>\n",
              "      <td>0.590251</td>\n",
              "      <td>0.982206</td>\n",
              "      <td>0.941672</td>\n",
              "      <td>0.641351</td>\n",
              "      <td>1.000000</td>\n",
              "      <td>0.856912</td>\n",
              "      <td>0.456415</td>\n",
              "      <td>0.030303</td>\n",
              "    </tr>\n",
              "    <tr>\n",
              "      <th>FWI</th>\n",
              "      <td>-0.580457</td>\n",
              "      <td>-0.324755</td>\n",
              "      <td>0.691430</td>\n",
              "      <td>0.875191</td>\n",
              "      <td>0.737041</td>\n",
              "      <td>0.922422</td>\n",
              "      <td>0.856912</td>\n",
              "      <td>1.000000</td>\n",
              "      <td>0.566839</td>\n",
              "      <td>0.033957</td>\n",
              "    </tr>\n",
              "    <tr>\n",
              "      <th>Temperature</th>\n",
              "      <td>-0.654443</td>\n",
              "      <td>-0.326786</td>\n",
              "      <td>0.677491</td>\n",
              "      <td>0.483105</td>\n",
              "      <td>0.370498</td>\n",
              "      <td>0.605971</td>\n",
              "      <td>0.456415</td>\n",
              "      <td>0.566839</td>\n",
              "      <td>1.000000</td>\n",
              "      <td>-0.278132</td>\n",
              "    </tr>\n",
              "    <tr>\n",
              "      <th>Ws</th>\n",
              "      <td>0.236084</td>\n",
              "      <td>0.170169</td>\n",
              "      <td>-0.163255</td>\n",
              "      <td>-0.001246</td>\n",
              "      <td>0.076245</td>\n",
              "      <td>0.012245</td>\n",
              "      <td>0.030303</td>\n",
              "      <td>0.033957</td>\n",
              "      <td>-0.278132</td>\n",
              "      <td>1.000000</td>\n",
              "    </tr>\n",
              "  </tbody>\n",
              "</table>\n",
              "</div>\n",
              "      <button class=\"colab-df-convert\" onclick=\"convertToInteractive('df-4e9ac886-53a6-42eb-9fff-8b0ef8a4cd64')\"\n",
              "              title=\"Convert this dataframe to an interactive table.\"\n",
              "              style=\"display:none;\">\n",
              "        \n",
              "  <svg xmlns=\"http://www.w3.org/2000/svg\" height=\"24px\"viewBox=\"0 0 24 24\"\n",
              "       width=\"24px\">\n",
              "    <path d=\"M0 0h24v24H0V0z\" fill=\"none\"/>\n",
              "    <path d=\"M18.56 5.44l.94 2.06.94-2.06 2.06-.94-2.06-.94-.94-2.06-.94 2.06-2.06.94zm-11 1L8.5 8.5l.94-2.06 2.06-.94-2.06-.94L8.5 2.5l-.94 2.06-2.06.94zm10 10l.94 2.06.94-2.06 2.06-.94-2.06-.94-.94-2.06-.94 2.06-2.06.94z\"/><path d=\"M17.41 7.96l-1.37-1.37c-.4-.4-.92-.59-1.43-.59-.52 0-1.04.2-1.43.59L10.3 9.45l-7.72 7.72c-.78.78-.78 2.05 0 2.83L4 21.41c.39.39.9.59 1.41.59.51 0 1.02-.2 1.41-.59l7.78-7.78 2.81-2.81c.8-.78.8-2.07 0-2.86zM5.41 20L4 18.59l7.72-7.72 1.47 1.35L5.41 20z\"/>\n",
              "  </svg>\n",
              "      </button>\n",
              "      \n",
              "  <style>\n",
              "    .colab-df-container {\n",
              "      display:flex;\n",
              "      flex-wrap:wrap;\n",
              "      gap: 12px;\n",
              "    }\n",
              "\n",
              "    .colab-df-convert {\n",
              "      background-color: #E8F0FE;\n",
              "      border: none;\n",
              "      border-radius: 50%;\n",
              "      cursor: pointer;\n",
              "      display: none;\n",
              "      fill: #1967D2;\n",
              "      height: 32px;\n",
              "      padding: 0 0 0 0;\n",
              "      width: 32px;\n",
              "    }\n",
              "\n",
              "    .colab-df-convert:hover {\n",
              "      background-color: #E2EBFA;\n",
              "      box-shadow: 0px 1px 2px rgba(60, 64, 67, 0.3), 0px 1px 3px 1px rgba(60, 64, 67, 0.15);\n",
              "      fill: #174EA6;\n",
              "    }\n",
              "\n",
              "    [theme=dark] .colab-df-convert {\n",
              "      background-color: #3B4455;\n",
              "      fill: #D2E3FC;\n",
              "    }\n",
              "\n",
              "    [theme=dark] .colab-df-convert:hover {\n",
              "      background-color: #434B5C;\n",
              "      box-shadow: 0px 1px 3px 1px rgba(0, 0, 0, 0.15);\n",
              "      filter: drop-shadow(0px 1px 2px rgba(0, 0, 0, 0.3));\n",
              "      fill: #FFFFFF;\n",
              "    }\n",
              "  </style>\n",
              "\n",
              "      <script>\n",
              "        const buttonEl =\n",
              "          document.querySelector('#df-4e9ac886-53a6-42eb-9fff-8b0ef8a4cd64 button.colab-df-convert');\n",
              "        buttonEl.style.display =\n",
              "          google.colab.kernel.accessAllowed ? 'block' : 'none';\n",
              "\n",
              "        async function convertToInteractive(key) {\n",
              "          const element = document.querySelector('#df-4e9ac886-53a6-42eb-9fff-8b0ef8a4cd64');\n",
              "          const dataTable =\n",
              "            await google.colab.kernel.invokeFunction('convertToInteractive',\n",
              "                                                     [key], {});\n",
              "          if (!dataTable) return;\n",
              "\n",
              "          const docLinkHtml = 'Like what you see? Visit the ' +\n",
              "            '<a target=\"_blank\" href=https://colab.research.google.com/notebooks/data_table.ipynb>data table notebook</a>'\n",
              "            + ' to learn more about interactive tables.';\n",
              "          element.innerHTML = '';\n",
              "          dataTable['output_type'] = 'display_data';\n",
              "          await google.colab.output.renderOutput(dataTable, element);\n",
              "          const docLink = document.createElement('div');\n",
              "          docLink.innerHTML = docLinkHtml;\n",
              "          element.appendChild(docLink);\n",
              "        }\n",
              "      </script>\n",
              "    </div>\n",
              "  </div>\n",
              "  "
            ]
          },
          "metadata": {},
          "execution_count": 57
        }
      ]
    },
    {
      "cell_type": "code",
      "source": [
        "plt.figure(figsize=(10,10))\n",
        "sns.heatmap(corr)"
      ],
      "metadata": {
        "colab": {
          "base_uri": "https://localhost:8080/",
          "height": 613
        },
        "id": "m9cUlbTzCUng",
        "outputId": "3ddaf798-d923-45de-ad86-2811eadacb59"
      },
      "execution_count": 58,
      "outputs": [
        {
          "output_type": "execute_result",
          "data": {
            "text/plain": [
              "<matplotlib.axes._subplots.AxesSubplot at 0x7f8cb120b810>"
            ]
          },
          "metadata": {},
          "execution_count": 58
        },
        {
          "output_type": "display_data",
          "data": {
            "text/plain": [
              "<Figure size 720x720 with 2 Axes>"
            ],
            "image/png": "[encoded data removed]"
          },
          "metadata": {
            "needs_background": "light"
          }
        }
      ]
    },
    {
      "cell_type": "markdown",
      "source": [
        "# Feature Engineering"
      ],
      "metadata": {
        "id": "7uIkkCin_JJb"
      }
    },
    {
      "cell_type": "markdown",
      "source": [
        "## Change the Target column values"
      ],
      "metadata": {
        "id": "c_hOa44T_ZPD"
      }
    },
    {
      "cell_type": "markdown",
      "source": [
        "Fire will be replaced with 1 and not fire will be replaced with 0"
      ],
      "metadata": {
        "id": "S737X3fK_sTT"
      }
    },
    {
      "cell_type": "code",
      "source": [
        "data['Classes'] = np.where(data['Classes'] == 'fire',1,0)"
      ],
      "metadata": {
        "id": "9f53Oyvw-K4k"
      },
      "execution_count": 59,
      "outputs": []
    },
    {
      "cell_type": "code",
      "source": [
        "data['Classes'].unique()"
      ],
      "metadata": {
        "colab": {
          "base_uri": "https://localhost:8080/"
        },
        "id": "sqkjOfSI_mYs",
        "outputId": "467061b7-9c3d-44c5-8cc9-56262104b384"
      },
      "execution_count": 60,
      "outputs": [
        {
          "output_type": "execute_result",
          "data": {
            "text/plain": [
              "array([0, 1])"
            ]
          },
          "metadata": {},
          "execution_count": 60
        }
      ]
    },
    {
      "cell_type": "markdown",
      "source": [
        "## Dropping duplicates"
      ],
      "metadata": {
        "id": "nZ38jHbW_rAc"
      }
    },
    {
      "cell_type": "code",
      "source": [
        "print(data.shape)\n",
        "data = data.drop_duplicates()\n",
        "print(data.shape)"
      ],
      "metadata": {
        "colab": {
          "base_uri": "https://localhost:8080/"
        },
        "id": "C8p7vTIh_pFK",
        "outputId": "e271bbd0-0fce-4897-9da7-f638c4d6ab12"
      },
      "execution_count": 61,
      "outputs": [
        {
          "output_type": "stream",
          "name": "stdout",
          "text": [
            "(244, 14)\n",
            "(244, 14)\n"
          ]
        }
      ]
    },
    {
      "cell_type": "markdown",
      "source": [
        "There are no duplicates"
      ],
      "metadata": {
        "id": "dZW0a5V3_8Da"
      }
    },
    {
      "cell_type": "markdown",
      "source": [
        "## Remove unwanted feature"
      ],
      "metadata": {
        "id": "tJgQOkmcAmdS"
      }
    },
    {
      "cell_type": "markdown",
      "source": [
        "We can remove the year feature as it is having only one year that is 2012. Day and month also not required"
      ],
      "metadata": {
        "id": "bZ1vy5xFArv_"
      }
    },
    {
      "cell_type": "code",
      "source": [
        "data = data.drop(['year','day','month'],axis=1)\n",
        "data.head()"
      ],
      "metadata": {
        "colab": {
          "base_uri": "https://localhost:8080/",
          "height": 206
        },
        "id": "18GH3ANPA5EZ",
        "outputId": "7276f025-f4ff-4145-b695-48893f3f88a1"
      },
      "execution_count": 62,
      "outputs": [
        {
          "output_type": "execute_result",
          "data": {
            "text/plain": [
              "   Temperature  RH  Ws  Rain  FFMC  DMC    DC  ISI  BUI  FWI  Classes\n",
              "0           29  57  18   0.0  65.7  3.4   7.6  1.3  3.4  0.5        0\n",
              "1           29  61  13   1.3  64.4  4.1   7.6  1.0  3.9  0.4        0\n",
              "2           26  82  22  13.1  47.1  2.5   7.1  0.3  2.7  0.1        0\n",
              "3           25  89  13   2.5  28.6  1.3   6.9  0.0  1.7  0.0        0\n",
              "4           27  77  16   0.0  64.8  3.0  14.2  1.2  3.9  0.5        0"
            ],
            "text/html": [
              "\n",
              "  <div id=\"df-91ea7c44-b82c-43d1-97bf-1aa16d8d8ec0\">\n",
              "    <div class=\"colab-df-container\">\n",
              "      <div>\n",
              "<style scoped>\n",
              "    .dataframe tbody tr th:only-of-type {\n",
              "        vertical-align: middle;\n",
              "    }\n",
              "\n",
              "    .dataframe tbody tr th {\n",
              "        vertical-align: top;\n",
              "    }\n",
              "\n",
              "    .dataframe thead th {\n",
              "        text-align: right;\n",
              "    }\n",
              "</style>\n",
              "<table border=\"1\" class=\"dataframe\">\n",
              "  <thead>\n",
              "    <tr style=\"text-align: right;\">\n",
              "      <th></th>\n",
              "      <th>Temperature</th>\n",
              "      <th>RH</th>\n",
              "      <th>Ws</th>\n",
              "      <th>Rain</th>\n",
              "      <th>FFMC</th>\n",
              "      <th>DMC</th>\n",
              "      <th>DC</th>\n",
              "      <th>ISI</th>\n",
              "      <th>BUI</th>\n",
              "      <th>FWI</th>\n",
              "      <th>Classes</th>\n",
              "    </tr>\n",
              "  </thead>\n",
              "  <tbody>\n",
              "    <tr>\n",
              "      <th>0</th>\n",
              "      <td>29</td>\n",
              "      <td>57</td>\n",
              "      <td>18</td>\n",
              "      <td>0.0</td>\n",
              "      <td>65.7</td>\n",
              "      <td>3.4</td>\n",
              "      <td>7.6</td>\n",
              "      <td>1.3</td>\n",
              "      <td>3.4</td>\n",
              "      <td>0.5</td>\n",
              "      <td>0</td>\n",
              "    </tr>\n",
              "    <tr>\n",
              "      <th>1</th>\n",
              "      <td>29</td>\n",
              "      <td>61</td>\n",
              "      <td>13</td>\n",
              "      <td>1.3</td>\n",
              "      <td>64.4</td>\n",
              "      <td>4.1</td>\n",
              "      <td>7.6</td>\n",
              "      <td>1.0</td>\n",
              "      <td>3.9</td>\n",
              "      <td>0.4</td>\n",
              "      <td>0</td>\n",
              "    </tr>\n",
              "    <tr>\n",
              "      <th>2</th>\n",
              "      <td>26</td>\n",
              "      <td>82</td>\n",
              "      <td>22</td>\n",
              "      <td>13.1</td>\n",
              "      <td>47.1</td>\n",
              "      <td>2.5</td>\n",
              "      <td>7.1</td>\n",
              "      <td>0.3</td>\n",
              "      <td>2.7</td>\n",
              "      <td>0.1</td>\n",
              "      <td>0</td>\n",
              "    </tr>\n",
              "    <tr>\n",
              "      <th>3</th>\n",
              "      <td>25</td>\n",
              "      <td>89</td>\n",
              "      <td>13</td>\n",
              "      <td>2.5</td>\n",
              "      <td>28.6</td>\n",
              "      <td>1.3</td>\n",
              "      <td>6.9</td>\n",
              "      <td>0.0</td>\n",
              "      <td>1.7</td>\n",
              "      <td>0.0</td>\n",
              "      <td>0</td>\n",
              "    </tr>\n",
              "    <tr>\n",
              "      <th>4</th>\n",
              "      <td>27</td>\n",
              "      <td>77</td>\n",
              "      <td>16</td>\n",
              "      <td>0.0</td>\n",
              "      <td>64.8</td>\n",
              "      <td>3.0</td>\n",
              "      <td>14.2</td>\n",
              "      <td>1.2</td>\n",
              "      <td>3.9</td>\n",
              "      <td>0.5</td>\n",
              "      <td>0</td>\n",
              "    </tr>\n",
              "  </tbody>\n",
              "</table>\n",
              "</div>\n",
              "      <button class=\"colab-df-convert\" onclick=\"convertToInteractive('df-91ea7c44-b82c-43d1-97bf-1aa16d8d8ec0')\"\n",
              "              title=\"Convert this dataframe to an interactive table.\"\n",
              "              style=\"display:none;\">\n",
              "        \n",
              "  <svg xmlns=\"http://www.w3.org/2000/svg\" height=\"24px\"viewBox=\"0 0 24 24\"\n",
              "       width=\"24px\">\n",
              "    <path d=\"M0 0h24v24H0V0z\" fill=\"none\"/>\n",
              "    <path d=\"M18.56 5.44l.94 2.06.94-2.06 2.06-.94-2.06-.94-.94-2.06-.94 2.06-2.06.94zm-11 1L8.5 8.5l.94-2.06 2.06-.94-2.06-.94L8.5 2.5l-.94 2.06-2.06.94zm10 10l.94 2.06.94-2.06 2.06-.94-2.06-.94-.94-2.06-.94 2.06-2.06.94z\"/><path d=\"M17.41 7.96l-1.37-1.37c-.4-.4-.92-.59-1.43-.59-.52 0-1.04.2-1.43.59L10.3 9.45l-7.72 7.72c-.78.78-.78 2.05 0 2.83L4 21.41c.39.39.9.59 1.41.59.51 0 1.02-.2 1.41-.59l7.78-7.78 2.81-2.81c.8-.78.8-2.07 0-2.86zM5.41 20L4 18.59l7.72-7.72 1.47 1.35L5.41 20z\"/>\n",
              "  </svg>\n",
              "      </button>\n",
              "      \n",
              "  <style>\n",
              "    .colab-df-container {\n",
              "      display:flex;\n",
              "      flex-wrap:wrap;\n",
              "      gap: 12px;\n",
              "    }\n",
              "\n",
              "    .colab-df-convert {\n",
              "      background-color: #E8F0FE;\n",
              "      border: none;\n",
              "      border-radius: 50%;\n",
              "      cursor: pointer;\n",
              "      display: none;\n",
              "      fill: #1967D2;\n",
              "      height: 32px;\n",
              "      padding: 0 0 0 0;\n",
              "      width: 32px;\n",
              "    }\n",
              "\n",
              "    .colab-df-convert:hover {\n",
              "      background-color: #E2EBFA;\n",
              "      box-shadow: 0px 1px 2px rgba(60, 64, 67, 0.3), 0px 1px 3px 1px rgba(60, 64, 67, 0.15);\n",
              "      fill: #174EA6;\n",
              "    }\n",
              "\n",
              "    [theme=dark] .colab-df-convert {\n",
              "      background-color: #3B4455;\n",
              "      fill: #D2E3FC;\n",
              "    }\n",
              "\n",
              "    [theme=dark] .colab-df-convert:hover {\n",
              "      background-color: #434B5C;\n",
              "      box-shadow: 0px 1px 3px 1px rgba(0, 0, 0, 0.15);\n",
              "      filter: drop-shadow(0px 1px 2px rgba(0, 0, 0, 0.3));\n",
              "      fill: #FFFFFF;\n",
              "    }\n",
              "  </style>\n",
              "\n",
              "      <script>\n",
              "        const buttonEl =\n",
              "          document.querySelector('#df-91ea7c44-b82c-43d1-97bf-1aa16d8d8ec0 button.colab-df-convert');\n",
              "        buttonEl.style.display =\n",
              "          google.colab.kernel.accessAllowed ? 'block' : 'none';\n",
              "\n",
              "        async function convertToInteractive(key) {\n",
              "          const element = document.querySelector('#df-91ea7c44-b82c-43d1-97bf-1aa16d8d8ec0');\n",
              "          const dataTable =\n",
              "            await google.colab.kernel.invokeFunction('convertToInteractive',\n",
              "                                                     [key], {});\n",
              "          if (!dataTable) return;\n",
              "\n",
              "          const docLinkHtml = 'Like what you see? Visit the ' +\n",
              "            '<a target=\"_blank\" href=https://colab.research.google.com/notebooks/data_table.ipynb>data table notebook</a>'\n",
              "            + ' to learn more about interactive tables.';\n",
              "          element.innerHTML = '';\n",
              "          dataTable['output_type'] = 'display_data';\n",
              "          await google.colab.output.renderOutput(dataTable, element);\n",
              "          const docLink = document.createElement('div');\n",
              "          docLink.innerHTML = docLinkHtml;\n",
              "          element.appendChild(docLink);\n",
              "        }\n",
              "      </script>\n",
              "    </div>\n",
              "  </div>\n",
              "  "
            ]
          },
          "metadata": {},
          "execution_count": 62
        }
      ]
    },
    {
      "cell_type": "markdown",
      "source": [
        "## Feature Scaling"
      ],
      "metadata": {
        "id": "h18onACABMjV"
      }
    },
    {
      "cell_type": "markdown",
      "source": [
        "### Train-Test Split"
      ],
      "metadata": {
        "id": "1UidyrMSBYAj"
      }
    },
    {
      "cell_type": "code",
      "source": [
        "X = data.iloc[:,:-1]\n",
        "Y = data.iloc[:,-1]\n",
        "X_train,X_test,y_train,y_test=train_test_split(X,Y,train_size=0.7,random_state=221)"
      ],
      "metadata": {
        "id": "89AbKH2lBQUh"
      },
      "execution_count": 63,
      "outputs": []
    },
    {
      "cell_type": "code",
      "source": [
        "X_train.shape"
      ],
      "metadata": {
        "colab": {
          "base_uri": "https://localhost:8080/"
        },
        "id": "ozoSgHqgBgN6",
        "outputId": "7ae8d6c6-9236-455d-90c7-f0594fb2870c"
      },
      "execution_count": 64,
      "outputs": [
        {
          "output_type": "execute_result",
          "data": {
            "text/plain": [
              "(170, 10)"
            ]
          },
          "metadata": {},
          "execution_count": 64
        }
      ]
    },
    {
      "cell_type": "code",
      "source": [
        "X_test.shape"
      ],
      "metadata": {
        "colab": {
          "base_uri": "https://localhost:8080/"
        },
        "id": "N1WfyBi5BgKq",
        "outputId": "0b0249ff-0131-4c88-f711-dc8008962aa4"
      },
      "execution_count": 65,
      "outputs": [
        {
          "output_type": "execute_result",
          "data": {
            "text/plain": [
              "(74, 10)"
            ]
          },
          "metadata": {},
          "execution_count": 65
        }
      ]
    },
    {
      "cell_type": "code",
      "source": [
        "y_train"
      ],
      "metadata": {
        "colab": {
          "base_uri": "https://localhost:8080/"
        },
        "id": "rHJslBXKB44p",
        "outputId": "fdfeccb1-1536-4c7d-be64-833359d003db"
      },
      "execution_count": 66,
      "outputs": [
        {
          "output_type": "execute_result",
          "data": {
            "text/plain": [
              "243    0\n",
              "165    1\n",
              "134    1\n",
              "61     0\n",
              "74     1\n",
              "      ..\n",
              "139    0\n",
              "114    0\n",
              "182    1\n",
              "232    1\n",
              "76     1\n",
              "Name: Classes, Length: 170, dtype: int64"
            ]
          },
          "metadata": {},
          "execution_count": 66
        }
      ]
    },
    {
      "cell_type": "markdown",
      "source": [
        "### Standard Scaler"
      ],
      "metadata": {
        "id": "t38PCU20DfUY"
      }
    },
    {
      "cell_type": "code",
      "source": [
        "Scale_standard = StandardScaler()"
      ],
      "metadata": {
        "id": "btmrgpwPB41s"
      },
      "execution_count": 67,
      "outputs": []
    },
    {
      "cell_type": "code",
      "source": [
        "X_train_scaled = Scale_standard.fit_transform(X_train)"
      ],
      "metadata": {
        "id": "2jQVUn69D4XU"
      },
      "execution_count": 68,
      "outputs": []
    },
    {
      "cell_type": "code",
      "source": [
        "X_train_scaled"
      ],
      "metadata": {
        "colab": {
          "base_uri": "https://localhost:8080/"
        },
        "id": "UELYrqaWD4Ue",
        "outputId": "038c577c-8675-4571-ceb2-2c5fdd5b1864"
      },
      "execution_count": 69,
      "outputs": [
        {
          "output_type": "execute_result",
          "data": {
            "text/plain": [
              "array([[-1.47563304,  1.68650225,  5.00604665, ..., -1.0804491 ,\n",
              "        -0.9521914 , -0.94412873],\n",
              "       [ 1.03853016, -1.17788703, -0.90386953, ...,  0.8225583 ,\n",
              "        -0.28562726,  0.32562191],\n",
              "       [-0.35822717, -1.31111443,  2.05108856, ...,  2.05108207,\n",
              "         0.11724118,  1.28468888],\n",
              "       ...,\n",
              "       [ 0.47982722, -0.17868147,  0.20423975, ...,  0.60575999,\n",
              "         0.22711439,  0.50122572],\n",
              "       [ 0.47982722, -1.17788703, -1.2732393 , ...,  1.52113064,\n",
              "         0.71788139,  1.39275277],\n",
              "       [ 1.03853016, -0.04545406,  0.94297927, ..., -0.50232027,\n",
              "         0.08794166, -0.40380931]])"
            ]
          },
          "metadata": {},
          "execution_count": 69
        }
      ]
    },
    {
      "cell_type": "code",
      "source": [
        "X_test_scaled = Scale_standard.fit_transform(X_test)"
      ],
      "metadata": {
        "id": "0BAFcnV1D4SR"
      },
      "execution_count": 70,
      "outputs": []
    },
    {
      "cell_type": "code",
      "source": [
        "X_test_scaled"
      ],
      "metadata": {
        "colab": {
          "base_uri": "https://localhost:8080/"
        },
        "id": "evPRJdLbD4Pi",
        "outputId": "f569e810-587e-453c-8c79-35586972afb8"
      },
      "execution_count": 71,
      "outputs": [
        {
          "output_type": "execute_result",
          "data": {
            "text/plain": [
              "array([[ 1.36623433, -0.45118577, -1.53910731, -0.47311034,  0.72834634,\n",
              "        -0.31951732, -0.57311228,  0.17680601, -0.41241064, -0.11136528],\n",
              "       [-2.66706383,  0.93132963,  3.44167727,  2.83650664, -2.03351013,\n",
              "        -1.07980782, -0.82562292, -0.98834234, -1.02748962, -0.89237801],\n",
              "       [ 1.09734779, -2.31758155,  0.78525883, -0.47311034,  1.17714801,\n",
              "         1.81832924,  0.58231517,  3.40523791,  1.4524565 ,  3.13387726],\n",
              "       [-0.51597148, -0.58943731, -0.54295039,  0.76301167, -0.43853802,\n",
              "        -0.33457258, -0.78545077, -0.76987702, -0.4451276 , -0.79811785],\n",
              "       [ 1.90400742, -1.34982077, -1.207055  , -0.47311034,  1.02524591,\n",
              "         0.079447  , -0.36842563,  1.24485867, -0.05906739,  0.80430481],\n",
              "       [-2.66706383,  1.62258732, -0.21089809,  3.5542549 , -3.20039448,\n",
              "        -1.10991834, -0.82562292, -1.08543804, -1.06020659, -0.90584375],\n",
              "       [ 0.29068816, -0.03643115, -1.87115961,  2.99600626, -0.78377008,\n",
              "        -0.81634082, -0.80075444, -0.86697272, -0.8442746 , -0.8519808 ],\n",
              "       [ 0.82846124,  0.03269462, -0.54295039, -0.35348563, -0.01735491,\n",
              "        -0.7335369 , -0.76823413, -0.67278133, -0.77229728, -0.79811785],\n",
              "       [-0.24708493,  0.37832347, -0.54295039, -0.47311034,  0.59025351,\n",
              "        -0.25176866, -0.13504459,  0.03116247, -0.20302205, -0.09789955],\n",
              "       [ 0.82846124,  0.37832347,  1.11731114, -0.47311034,  0.79048811,\n",
              "         0.7870441 ,  1.53879484,  1.05066728,  1.13837361,  1.35640002],\n",
              "       [ 0.82846124, -0.17468269, -0.21089809, -0.47311034,  0.83191595,\n",
              "         2.14201727,  2.50866523,  0.90502374,  2.4470523 ,  1.8277008 ],\n",
              "       [ 0.82846124,  0.10182039,  0.78525883, -0.39336053,  0.21740289,\n",
              "        -0.43243175, -0.18669449, -0.40576816, -0.34043331, -0.47494017],\n",
              "       [ 0.82846124,  0.37832347,  0.12115422, -0.47311034,  0.58334887,\n",
              "        -0.40984887, -0.63432698,  0.10398424, -0.48438796, -0.1921597 ],\n",
              "       [-1.59151765,  1.27695847,  1.11731114, -0.47311034,  0.49358854,\n",
              "        -0.12379898,  0.21502697,  0.07971032,  0.02599673,  0.05022356],\n",
              "       [ 0.82846124, -0.58943731, -1.53910731, -0.43323544,  0.47287461,\n",
              "        -0.53029093, -0.45642176, -0.33294639, -0.52364832, -0.48840591],\n",
              "       [ 0.82846124, -0.45118577, -0.54295039, -0.47311034,  0.8388206 ,\n",
              "         1.05051111,  1.25185094,  0.73510627,  1.22343773,  1.14094823],\n",
              "       [ 0.5595747 ,  0.03269462, -0.8750027 ,  0.68326186, -0.49377515,\n",
              "        -0.62062247, -0.77206005, -0.79415095, -0.68068977, -0.82504933],\n",
              "       [ 1.09734779, -0.03643115,  0.12115422, -0.47311034,  0.7559649 ,\n",
              "         0.079447  , -0.29955909,  0.61373665, -0.05906739,  0.37340124],\n",
              "       [-0.51597148, -1.48807231, -0.21089809, -0.47311034,  0.86643916,\n",
              "        -0.16143712, -0.52911422,  0.95357158, -0.27499937,  0.44072992],\n",
              "       [-0.24708493,  0.86220386, -0.8750027 , -0.43323544, -0.12092453,\n",
              "        -0.56792907, -0.42964033, -0.72132918, -0.53019172, -0.78465212],\n",
              "       [-0.24708493,  0.58570078,  0.45320652, -0.47311034,  0.7214417 ,\n",
              "         2.34526325,  0.93429969,  0.58946272,  1.91049404,  1.28907133],\n",
              "       [-0.24708493,  1.06958116,  0.78525883, -0.47311034,  0.61787208,\n",
              "         2.26998696,  2.68657045,  0.05543639,  2.60409375,  0.93896218],\n",
              "       [ 0.5595747 , -0.93506615, -0.21089809, -0.47311034,  0.85262988,\n",
              "         0.70424019,  2.08398826,  0.88074981,  1.20380755,  1.24867412],\n",
              "       [ 0.82846124, -0.03643115,  1.11731114, -0.47311034,  0.86643916,\n",
              "         0.58379813,  1.35323778,  1.2691326 ,  0.91589823,  1.41026296],\n",
              "       [-0.78485802,  0.17094616,  1.11731114, -0.23386092, -0.59044013,\n",
              "        -0.74859216, -0.66876025, -0.72132918, -0.7526671 , -0.81158359],\n",
              "       [-0.24708493,  1.41521001,  0.45320652, -0.47311034,  0.52811174,\n",
              "         0.29774823, -0.32634052,  0.05543639,  0.12414763,  0.07715503],\n",
              "       [ 0.82846124, -0.52031154, -0.54295039, -0.47311034,  0.83191595,\n",
              "         0.2375272 ,  0.32215269,  0.71083234,  0.30081925,  0.65618171],\n",
              "       [ 0.82846124, -0.45118577, -0.54295039, -0.31361073,  0.16216576,\n",
              "         1.62261089,  2.21598245, -0.57568563,  0.87009448, -0.08443381],\n",
              "       [ 0.29068816,  0.44744924, -0.8750027 , -0.19398602, -0.70781902,\n",
              "        -0.71095402, -0.78162485, -0.81842487, -0.7526671 , -0.83851506],\n",
              "       [ 0.29068816,  0.93132963, -0.54295039, -0.47311034,  0.29335394,\n",
              "        -0.55287381, -0.60180667, -0.45431601, -0.60216905, -0.60959754],\n",
              "       [-0.24708493,  0.10182039,  0.78525883, -0.47311034,  0.68691849,\n",
              "         0.17730617,  0.41397474,  0.54091487,  0.28118907,  0.52152434],\n",
              "       [-1.05374456,  1.69171309, -0.21089809,  1.28138541, -2.46850252,\n",
              "        -0.67331587, -0.80649332, -1.06116411, -0.72649352, -0.90584375],\n",
              "       [-1.59151765,  1.2078327 ,  0.12115422,  0.24463792, -2.03351013,\n",
              "        -0.94431051, -0.8122322 , -1.01261626, -0.93588211, -0.89237801],\n",
              "       [ 0.02180161, -0.17468269,  0.78525883, -0.35348563,  0.0171683 ,\n",
              "        -0.31198969, -0.06043918, -0.55141171, -0.20956544, -0.55573459],\n",
              "       [-2.12929074,  1.34608424, -0.21089809, -0.31361073, -2.20612616,\n",
              "        -1.09486308, -0.81988404, -1.03689019, -1.04057641, -0.90584375],\n",
              "       [ 1.63512088, -0.72768884, -0.54295039, -0.47311034,  0.10002399,\n",
              "        -0.83139608, -0.75866934, -0.59995955, -0.8442746 , -0.79811785],\n",
              "       [ 0.29068816, -0.86594038, -0.54295039, -0.47311034,  0.81810667,\n",
              "         0.56121524,  0.81569621,  0.6622845 ,  0.71959643,  0.83123629],\n",
              "       [ 0.5595747 , -1.41894654, -0.21089809,  0.20476302,  0.19668897,\n",
              "        -0.25929629, -0.79692852, -0.55141171, -0.37969367, -0.60959754],\n",
              "       [-1.05374456, -0.31293423,  0.78525883,  0.40413753, -0.90805362,\n",
              "        -0.92172762, -0.79692852, -0.79415095, -0.91625193, -0.83851506],\n",
              "       [-1.32263111, -0.31293423,  0.45320652, -0.47311034,  0.83191595,\n",
              "         0.44077318, -0.23643144,  1.02639336,  0.2550155 ,  0.83123629],\n",
              "       [-0.24708493,  0.58570078,  0.45320652, -0.35348563, -0.50067979,\n",
              "        -0.92172762, -0.38372931, -0.72132918, -0.79847085, -0.82504933],\n",
              "       [-1.05374456, -0.79681461,  0.45320652,  0.0452634 , -0.37639625,\n",
              "        -0.58298433, -0.81797108, -0.72132918, -0.65451619, -0.79811785],\n",
              "       [ 1.09734779, -1.34982077,  0.12115422, -0.47311034,  0.9907227 ,\n",
              "         2.30762511,  1.67461496,  1.70606323,  2.1525996 ,  2.39326174],\n",
              "       [ 0.29068816,  0.03269462,  0.45320652, -0.0344864 , -0.27973127,\n",
              "         0.41066266,  0.12320492, -0.69705525,  0.28773246, -0.56920033],\n",
              "       [-1.8604042 ,  1.62258732,  1.78141575,  1.36113522, -2.4823118 ,\n",
              "        -1.06475257, -0.81605812, -1.06116411, -1.01440283, -0.90584375],\n",
              "       [-0.24708493, -0.86594038,  1.11731114, -0.23386092,  0.06550079,\n",
              "        -0.36468309, -0.1675649 , -0.50286386, -0.28808616, -0.52880312],\n",
              "       [ 1.90400742,  0.10182039, -2.20321192,  0.0053885 , -0.21068486,\n",
              "        -0.28187918, -0.65536953, -0.81842487, -0.38623706, -0.81158359],\n",
              "       [-0.78485802, -1.48807231, -2.53526422, -0.43323544,  0.4866839 ,\n",
              "         0.71176781,  0.68561497, -0.43004209,  0.75885679, -0.15176249],\n",
              "       [-0.24708493,  1.13870693, -0.21089809, -0.47311034,  0.59025351,\n",
              "         0.98276245,  1.64209465,  0.05543639,  1.31504524,  0.53499008],\n",
              "       [-1.32263111,  0.86220386,  1.11731114,  0.0053885 , -1.46042491,\n",
              "        -0.98194865, -0.80075444, -0.89124664, -0.9489689 , -0.86544654],\n",
              "       [ 0.29068816, -0.58943731, -0.8750027 , -0.47311034,  0.78358347,\n",
              "        -0.4173765 , -0.37607747,  0.4680931 , -0.41895403,  0.0636893 ],\n",
              "       [-1.05374456,  1.48433578,  0.78525883, -0.47311034,  0.47977925,\n",
              "        -0.14638186, -0.01644111,  0.00688855, -0.08524096, -0.05750234],\n",
              "       [ 1.36623433, -1.76457539, -0.8750027 , -0.47311034,  1.08048304,\n",
              "         0.88490327,  0.04286063,  1.75461108,  0.64107571,  1.5718518 ],\n",
              "       [-1.59151765,  1.34608424,  2.11346805,  4.750502  , -2.05422405,\n",
              "        -0.97442102, -0.82370996, -1.01261626, -0.95551229, -0.89237801],\n",
              "       [ 0.5595747 , -1.41894654,  0.45320652, -0.43323544,  0.79048811,\n",
              "         0.61390864,  0.04477359,  3.52660753,  0.40551355,  0.79083908],\n",
              "       [ 0.02180161, -1.07331769, -0.54295039, -0.19398602,  0.04478686,\n",
              "        -0.6281501 , -0.79118965, -0.6485074 , -0.68723316, -0.78465212],\n",
              "       [ 1.09734779, -0.52031154,  0.78525883, -0.47311034,  0.84572524,\n",
              "         1.35914389,  1.93477743,  1.31768044,  1.68801866,  1.84116654],\n",
              "       [ 0.02180161,  0.37832347, -0.54295039,  0.08513831, -0.70781902,\n",
              "        -0.58298433, -0.78353781, -0.81842487, -0.6479728 , -0.82504933],\n",
              "       [ 0.29068816, -1.00419192,  0.12115422, -0.47311034,  0.74215562,\n",
              "        -0.56792907, -0.61902331,  0.5651888 , -0.62179923, -0.0440366 ],\n",
              "       [ 0.5595747 ,  1.27695847, -0.21089809, -0.47311034,  0.34168643,\n",
              "        -0.43243175, -0.24790919, -0.35722031, -0.36660688, -0.4480087 ],\n",
              "       [-0.78485802, -0.38206   , -0.54295039, -0.47311034,  0.85953452,\n",
              "        -0.22165815, -0.16947786,  0.80792804, -0.20302205,  0.40033271],\n",
              "       [-0.24708493,  0.3091977 , -0.54295039, -0.47311034,  0.39692356,\n",
              "        -0.72600927, -0.53485309, -0.33294639, -0.67414637, -0.56920033],\n",
              "       [-0.24708493,  1.06958116, -0.54295039, -0.35348563, -1.37756922,\n",
              "        -1.01958679, -0.80649332, -0.91552057, -0.97514247, -0.87891227],\n",
              "       [-0.24708493,  0.44744924,  0.45320652,  1.40101012, -1.01162324,\n",
              "        -0.86903422, -0.80649332, -0.81842487, -0.88353496, -0.8519808 ],\n",
              "       [ 0.82846124, -1.9719527 ,  0.12115422, -0.39336053,  0.79048811,\n",
              "         0.10955752, -0.0967854 ,  0.73510627,  0.01290994,  0.50805861],\n",
              "       [ 0.82846124, -0.31293423, -1.87115961, -0.39336053,  0.10002399,\n",
              "        -0.34962784, -0.58267708, -0.69705525, -0.43204082, -0.77118638],\n",
              "       [ 1.36623433, -1.55719808, -0.8750027 , -0.47311034,  1.03905519,\n",
              "         0.51604947,  0.10216237,  1.53614576,  0.32699282,  1.20827691],\n",
              "       [-0.51597148, -0.72768884, -0.21089809,  0.32438773, -0.31425448,\n",
              "        -0.30446206, -0.81031924, -0.7456031 , -0.41895403, -0.78465212],\n",
              "       [ 0.5595747 ,  0.58570078, -0.54295039,  2.11875838, -0.85281649,\n",
              "        -0.91419999, -0.78545077, -0.8426988 , -0.90316514, -0.8519808 ],\n",
              "       [-0.51597148,  1.2078327 , -0.21089809, -0.47311034,  0.43144677,\n",
              "        -0.56792907, -0.29955909, -0.23585069, -0.47784457, -0.40761149],\n",
              "       [ 0.29068816, -1.76457539,  0.12115422, -0.47311034,  1.05976911,\n",
              "         3.45182467,  2.23893796,  2.09444601,  3.05558789,  3.17427447],\n",
              "       [-0.51597148,  1.00045539,  1.78141575,  0.24463792, -1.26709496,\n",
              "        -1.01958679, -0.79884148, -0.81842487, -0.97514247, -0.86544654],\n",
              "       [ 0.29068816,  1.34608424,  1.78141575, -0.47311034,  0.55573031,\n",
              "         2.37537376,  2.87021455, -0.01738538,  2.7480484 ,  0.8716335 ],\n",
              "       [-1.05374456,  1.06958116,  0.12115422, -0.43323544, -0.47306123,\n",
              "        -0.43995938,  0.56509853, -0.7456031 , -0.17030508, -0.73078917]])"
            ]
          },
          "metadata": {},
          "execution_count": 71
        }
      ]
    },
    {
      "cell_type": "markdown",
      "source": [
        "## Feature Selection"
      ],
      "metadata": {
        "id": "-OT13V4-AJEE"
      }
    },
    {
      "cell_type": "code",
      "source": [
        "#apply SelectKBest class to extract top k best features\n",
        "# k is the number of features you want to select [here it's 6]\n",
        "bestfeatures = SelectKBest(f_classif, k=6)\n",
        "fit = bestfeatures.fit(X_train,y_train)\n",
        "dfscores = pd.DataFrame(fit.scores_)\n",
        "dfcolumns = pd.DataFrame(X_train.columns)\n",
        "#concat two dataframes for better visualization \n",
        "featureScores = pd.concat([dfcolumns,dfscores],axis=1)\n",
        "featureScores.columns = ['Specs','Score']  #naming the dataframe columns\n",
        "print(featureScores.nlargest(15,'Score'))  #print  feature scores of all"
      ],
      "metadata": {
        "colab": {
          "base_uri": "https://localhost:8080/"
        },
        "id": "FJdjQ8YfAWBY",
        "outputId": "4832ea47-aeba-4b84-bbb4-665c41e9fc66"
      },
      "execution_count": 72,
      "outputs": [
        {
          "output_type": "stream",
          "name": "stdout",
          "text": [
            "         Specs       Score\n",
            "4         FFMC  257.076958\n",
            "7          ISI  183.774394\n",
            "9          FWI  162.828849\n",
            "0  Temperature  101.654918\n",
            "5          DMC   86.698544\n",
            "8          BUI   81.607372\n",
            "6           DC   53.719074\n",
            "1           RH   49.944235\n",
            "3         Rain   19.167461\n",
            "2           Ws    0.758599\n"
          ]
        }
      ]
    },
    {
      "cell_type": "markdown",
      "source": [
        "# Model Building"
      ],
      "metadata": {
        "id": "5mbyvq5qGANT"
      }
    },
    {
      "cell_type": "markdown",
      "source": [
        "## Preliminary model evaluation using default parameters - Part 1"
      ],
      "metadata": {
        "id": "0qHT_3MSJ_L_"
      }
    },
    {
      "cell_type": "markdown",
      "source": [
        "In this part we are going to check with models that require feature scaling"
      ],
      "metadata": {
        "id": "uHmnVQMKMXyq"
      }
    },
    {
      "cell_type": "code",
      "source": [
        "model_dict = {'Logistic Regression' : LogisticRegression(random_state=3),\n",
        "              'K Nearest Neighbor': KNeighborsClassifier(),\n",
        "              'SVC' : SVC(),\n",
        "              }\n",
        "\n",
        "\n",
        "#Function to get the scores for each model in a df\n",
        "def model_score_df(model_dict, xtr,ytr,xte,yte):   \n",
        "    model_name, ac_score_list, p_score_list, r_score_list, f1_score_list = [], [], [], [], []\n",
        "    for k,v in model_dict.items():   \n",
        "        model_name.append(k)\n",
        "        v.fit(xtr, ytr)\n",
        "        y_pred = v.predict(xte)\n",
        "        ac_score_list.append(accuracy_score(yte, y_pred))\n",
        "        p_score_list.append(precision_score(yte, y_pred, average='macro'))\n",
        "        r_score_list.append(recall_score(yte, y_pred, average='macro'))\n",
        "        f1_score_list.append(f1_score(yte, y_pred, average='macro'))\n",
        "        model_comparison_df = pd.DataFrame([model_name, ac_score_list, p_score_list, r_score_list, f1_score_list]).T\n",
        "        model_comparison_df.columns = ['model_name', 'accuracy_score', 'precision_score', 'recall_score', 'f1_score']\n",
        "        model_comparison_df = model_comparison_df.sort_values(by='f1_score', ascending=False)\n",
        "    return model_comparison_df\n",
        "\n",
        "model_score_df(model_dict,X_train_scaled,y_train,X_test_scaled,y_test)"
      ],
      "metadata": {
        "colab": {
          "base_uri": "https://localhost:8080/",
          "height": 143
        },
        "id": "NaXdFysUJ8sn",
        "outputId": "5dd42799-ba81-4815-b5ff-ce6b2da2c6b7"
      },
      "execution_count": 73,
      "outputs": [
        {
          "output_type": "execute_result",
          "data": {
            "text/plain": [
              "            model_name accuracy_score precision_score recall_score  f1_score\n",
              "0  Logistic Regression       0.945946         0.95122     0.945946  0.945788\n",
              "2                  SVC       0.905405        0.912946     0.905405  0.904972\n",
              "1   K Nearest Neighbor       0.891892        0.911111     0.891892  0.890613"
            ],
            "text/html": [
              "\n",
              "  <div id=\"df-173f8a37-9e05-4789-a2c6-b2d9f878df38\">\n",
              "    <div class=\"colab-df-container\">\n",
              "      <div>\n",
              "<style scoped>\n",
              "    .dataframe tbody tr th:only-of-type {\n",
              "        vertical-align: middle;\n",
              "    }\n",
              "\n",
              "    .dataframe tbody tr th {\n",
              "        vertical-align: top;\n",
              "    }\n",
              "\n",
              "    .dataframe thead th {\n",
              "        text-align: right;\n",
              "    }\n",
              "</style>\n",
              "<table border=\"1\" class=\"dataframe\">\n",
              "  <thead>\n",
              "    <tr style=\"text-align: right;\">\n",
              "      <th></th>\n",
              "      <th>model_name</th>\n",
              "      <th>accuracy_score</th>\n",
              "      <th>precision_score</th>\n",
              "      <th>recall_score</th>\n",
              "      <th>f1_score</th>\n",
              "    </tr>\n",
              "  </thead>\n",
              "  <tbody>\n",
              "    <tr>\n",
              "      <th>0</th>\n",
              "      <td>Logistic Regression</td>\n",
              "      <td>0.945946</td>\n",
              "      <td>0.95122</td>\n",
              "      <td>0.945946</td>\n",
              "      <td>0.945788</td>\n",
              "    </tr>\n",
              "    <tr>\n",
              "      <th>2</th>\n",
              "      <td>SVC</td>\n",
              "      <td>0.905405</td>\n",
              "      <td>0.912946</td>\n",
              "      <td>0.905405</td>\n",
              "      <td>0.904972</td>\n",
              "    </tr>\n",
              "    <tr>\n",
              "      <th>1</th>\n",
              "      <td>K Nearest Neighbor</td>\n",
              "      <td>0.891892</td>\n",
              "      <td>0.911111</td>\n",
              "      <td>0.891892</td>\n",
              "      <td>0.890613</td>\n",
              "    </tr>\n",
              "  </tbody>\n",
              "</table>\n",
              "</div>\n",
              "      <button class=\"colab-df-convert\" onclick=\"convertToInteractive('df-173f8a37-9e05-4789-a2c6-b2d9f878df38')\"\n",
              "              title=\"Convert this dataframe to an interactive table.\"\n",
              "              style=\"display:none;\">\n",
              "        \n",
              "  <svg xmlns=\"http://www.w3.org/2000/svg\" height=\"24px\"viewBox=\"0 0 24 24\"\n",
              "       width=\"24px\">\n",
              "    <path d=\"M0 0h24v24H0V0z\" fill=\"none\"/>\n",
              "    <path d=\"M18.56 5.44l.94 2.06.94-2.06 2.06-.94-2.06-.94-.94-2.06-.94 2.06-2.06.94zm-11 1L8.5 8.5l.94-2.06 2.06-.94-2.06-.94L8.5 2.5l-.94 2.06-2.06.94zm10 10l.94 2.06.94-2.06 2.06-.94-2.06-.94-.94-2.06-.94 2.06-2.06.94z\"/><path d=\"M17.41 7.96l-1.37-1.37c-.4-.4-.92-.59-1.43-.59-.52 0-1.04.2-1.43.59L10.3 9.45l-7.72 7.72c-.78.78-.78 2.05 0 2.83L4 21.41c.39.39.9.59 1.41.59.51 0 1.02-.2 1.41-.59l7.78-7.78 2.81-2.81c.8-.78.8-2.07 0-2.86zM5.41 20L4 18.59l7.72-7.72 1.47 1.35L5.41 20z\"/>\n",
              "  </svg>\n",
              "      </button>\n",
              "      \n",
              "  <style>\n",
              "    .colab-df-container {\n",
              "      display:flex;\n",
              "      flex-wrap:wrap;\n",
              "      gap: 12px;\n",
              "    }\n",
              "\n",
              "    .colab-df-convert {\n",
              "      background-color: #E8F0FE;\n",
              "      border: none;\n",
              "      border-radius: 50%;\n",
              "      cursor: pointer;\n",
              "      display: none;\n",
              "      fill: #1967D2;\n",
              "      height: 32px;\n",
              "      padding: 0 0 0 0;\n",
              "      width: 32px;\n",
              "    }\n",
              "\n",
              "    .colab-df-convert:hover {\n",
              "      background-color: #E2EBFA;\n",
              "      box-shadow: 0px 1px 2px rgba(60, 64, 67, 0.3), 0px 1px 3px 1px rgba(60, 64, 67, 0.15);\n",
              "      fill: #174EA6;\n",
              "    }\n",
              "\n",
              "    [theme=dark] .colab-df-convert {\n",
              "      background-color: #3B4455;\n",
              "      fill: #D2E3FC;\n",
              "    }\n",
              "\n",
              "    [theme=dark] .colab-df-convert:hover {\n",
              "      background-color: #434B5C;\n",
              "      box-shadow: 0px 1px 3px 1px rgba(0, 0, 0, 0.15);\n",
              "      filter: drop-shadow(0px 1px 2px rgba(0, 0, 0, 0.3));\n",
              "      fill: #FFFFFF;\n",
              "    }\n",
              "  </style>\n",
              "\n",
              "      <script>\n",
              "        const buttonEl =\n",
              "          document.querySelector('#df-173f8a37-9e05-4789-a2c6-b2d9f878df38 button.colab-df-convert');\n",
              "        buttonEl.style.display =\n",
              "          google.colab.kernel.accessAllowed ? 'block' : 'none';\n",
              "\n",
              "        async function convertToInteractive(key) {\n",
              "          const element = document.querySelector('#df-173f8a37-9e05-4789-a2c6-b2d9f878df38');\n",
              "          const dataTable =\n",
              "            await google.colab.kernel.invokeFunction('convertToInteractive',\n",
              "                                                     [key], {});\n",
              "          if (!dataTable) return;\n",
              "\n",
              "          const docLinkHtml = 'Like what you see? Visit the ' +\n",
              "            '<a target=\"_blank\" href=https://colab.research.google.com/notebooks/data_table.ipynb>data table notebook</a>'\n",
              "            + ' to learn more about interactive tables.';\n",
              "          element.innerHTML = '';\n",
              "          dataTable['output_type'] = 'display_data';\n",
              "          await google.colab.output.renderOutput(dataTable, element);\n",
              "          const docLink = document.createElement('div');\n",
              "          docLink.innerHTML = docLinkHtml;\n",
              "          element.appendChild(docLink);\n",
              "        }\n",
              "      </script>\n",
              "    </div>\n",
              "  </div>\n",
              "  "
            ]
          },
          "metadata": {},
          "execution_count": 73
        }
      ]
    },
    {
      "cell_type": "markdown",
      "source": [
        "Logistic regression performing great in this aspect"
      ],
      "metadata": {
        "id": "Joa-0iKgL8dT"
      }
    },
    {
      "cell_type": "markdown",
      "source": [
        "## Preliminary model evaluation using default parameters - Part 2"
      ],
      "metadata": {
        "id": "UnGlsmChMHNu"
      }
    },
    {
      "cell_type": "code",
      "source": [
        "model_dict1 = {'Random Forest': RandomForestClassifier(random_state=3),\n",
        "              'Decsision Tree': DecisionTreeClassifier(random_state=3),\n",
        "              'AdaBoost': AdaBoostClassifier(random_state=3),\n",
        "              'Gaussian Naive Bayes': GaussianNB()\n",
        "}"
      ],
      "metadata": {
        "id": "2FM90LLNLxz9"
      },
      "execution_count": 74,
      "outputs": []
    },
    {
      "cell_type": "code",
      "source": [
        "model_score_df(model_dict1,X_train,y_train,X_test,y_test)"
      ],
      "metadata": {
        "colab": {
          "base_uri": "https://localhost:8080/",
          "height": 175
        },
        "id": "y2TCwlFYNE-M",
        "outputId": "44542652-b222-4be2-bce9-97fde77837c2"
      },
      "execution_count": 75,
      "outputs": [
        {
          "output_type": "execute_result",
          "data": {
            "text/plain": [
              "             model_name accuracy_score precision_score recall_score  f1_score\n",
              "0         Random Forest       0.972973        0.974359     0.972973  0.972953\n",
              "1        Decsision Tree       0.972973        0.974359     0.972973  0.972953\n",
              "2              AdaBoost       0.972973        0.974359     0.972973  0.972953\n",
              "3  Gaussian Naive Bayes       0.945946        0.947253     0.945946  0.945906"
            ],
            "text/html": [
              "\n",
              "  <div id=\"df-88f373d4-405e-4e4f-8935-e0c673972b92\">\n",
              "    <div class=\"colab-df-container\">\n",
              "      <div>\n",
              "<style scoped>\n",
              "    .dataframe tbody tr th:only-of-type {\n",
              "        vertical-align: middle;\n",
              "    }\n",
              "\n",
              "    .dataframe tbody tr th {\n",
              "        vertical-align: top;\n",
              "    }\n",
              "\n",
              "    .dataframe thead th {\n",
              "        text-align: right;\n",
              "    }\n",
              "</style>\n",
              "<table border=\"1\" class=\"dataframe\">\n",
              "  <thead>\n",
              "    <tr style=\"text-align: right;\">\n",
              "      <th></th>\n",
              "      <th>model_name</th>\n",
              "      <th>accuracy_score</th>\n",
              "      <th>precision_score</th>\n",
              "      <th>recall_score</th>\n",
              "      <th>f1_score</th>\n",
              "    </tr>\n",
              "  </thead>\n",
              "  <tbody>\n",
              "    <tr>\n",
              "      <th>0</th>\n",
              "      <td>Random Forest</td>\n",
              "      <td>0.972973</td>\n",
              "      <td>0.974359</td>\n",
              "      <td>0.972973</td>\n",
              "      <td>0.972953</td>\n",
              "    </tr>\n",
              "    <tr>\n",
              "      <th>1</th>\n",
              "      <td>Decsision Tree</td>\n",
              "      <td>0.972973</td>\n",
              "      <td>0.974359</td>\n",
              "      <td>0.972973</td>\n",
              "      <td>0.972953</td>\n",
              "    </tr>\n",
              "    <tr>\n",
              "      <th>2</th>\n",
              "      <td>AdaBoost</td>\n",
              "      <td>0.972973</td>\n",
              "      <td>0.974359</td>\n",
              "      <td>0.972973</td>\n",
              "      <td>0.972953</td>\n",
              "    </tr>\n",
              "    <tr>\n",
              "      <th>3</th>\n",
              "      <td>Gaussian Naive Bayes</td>\n",
              "      <td>0.945946</td>\n",
              "      <td>0.947253</td>\n",
              "      <td>0.945946</td>\n",
              "      <td>0.945906</td>\n",
              "    </tr>\n",
              "  </tbody>\n",
              "</table>\n",
              "</div>\n",
              "      <button class=\"colab-df-convert\" onclick=\"convertToInteractive('df-88f373d4-405e-4e4f-8935-e0c673972b92')\"\n",
              "              title=\"Convert this dataframe to an interactive table.\"\n",
              "              style=\"display:none;\">\n",
              "        \n",
              "  <svg xmlns=\"http://www.w3.org/2000/svg\" height=\"24px\"viewBox=\"0 0 24 24\"\n",
              "       width=\"24px\">\n",
              "    <path d=\"M0 0h24v24H0V0z\" fill=\"none\"/>\n",
              "    <path d=\"M18.56 5.44l.94 2.06.94-2.06 2.06-.94-2.06-.94-.94-2.06-.94 2.06-2.06.94zm-11 1L8.5 8.5l.94-2.06 2.06-.94-2.06-.94L8.5 2.5l-.94 2.06-2.06.94zm10 10l.94 2.06.94-2.06 2.06-.94-2.06-.94-.94-2.06-.94 2.06-2.06.94z\"/><path d=\"M17.41 7.96l-1.37-1.37c-.4-.4-.92-.59-1.43-.59-.52 0-1.04.2-1.43.59L10.3 9.45l-7.72 7.72c-.78.78-.78 2.05 0 2.83L4 21.41c.39.39.9.59 1.41.59.51 0 1.02-.2 1.41-.59l7.78-7.78 2.81-2.81c.8-.78.8-2.07 0-2.86zM5.41 20L4 18.59l7.72-7.72 1.47 1.35L5.41 20z\"/>\n",
              "  </svg>\n",
              "      </button>\n",
              "      \n",
              "  <style>\n",
              "    .colab-df-container {\n",
              "      display:flex;\n",
              "      flex-wrap:wrap;\n",
              "      gap: 12px;\n",
              "    }\n",
              "\n",
              "    .colab-df-convert {\n",
              "      background-color: #E8F0FE;\n",
              "      border: none;\n",
              "      border-radius: 50%;\n",
              "      cursor: pointer;\n",
              "      display: none;\n",
              "      fill: #1967D2;\n",
              "      height: 32px;\n",
              "      padding: 0 0 0 0;\n",
              "      width: 32px;\n",
              "    }\n",
              "\n",
              "    .colab-df-convert:hover {\n",
              "      background-color: #E2EBFA;\n",
              "      box-shadow: 0px 1px 2px rgba(60, 64, 67, 0.3), 0px 1px 3px 1px rgba(60, 64, 67, 0.15);\n",
              "      fill: #174EA6;\n",
              "    }\n",
              "\n",
              "    [theme=dark] .colab-df-convert {\n",
              "      background-color: #3B4455;\n",
              "      fill: #D2E3FC;\n",
              "    }\n",
              "\n",
              "    [theme=dark] .colab-df-convert:hover {\n",
              "      background-color: #434B5C;\n",
              "      box-shadow: 0px 1px 3px 1px rgba(0, 0, 0, 0.15);\n",
              "      filter: drop-shadow(0px 1px 2px rgba(0, 0, 0, 0.3));\n",
              "      fill: #FFFFFF;\n",
              "    }\n",
              "  </style>\n",
              "\n",
              "      <script>\n",
              "        const buttonEl =\n",
              "          document.querySelector('#df-88f373d4-405e-4e4f-8935-e0c673972b92 button.colab-df-convert');\n",
              "        buttonEl.style.display =\n",
              "          google.colab.kernel.accessAllowed ? 'block' : 'none';\n",
              "\n",
              "        async function convertToInteractive(key) {\n",
              "          const element = document.querySelector('#df-88f373d4-405e-4e4f-8935-e0c673972b92');\n",
              "          const dataTable =\n",
              "            await google.colab.kernel.invokeFunction('convertToInteractive',\n",
              "                                                     [key], {});\n",
              "          if (!dataTable) return;\n",
              "\n",
              "          const docLinkHtml = 'Like what you see? Visit the ' +\n",
              "            '<a target=\"_blank\" href=https://colab.research.google.com/notebooks/data_table.ipynb>data table notebook</a>'\n",
              "            + ' to learn more about interactive tables.';\n",
              "          element.innerHTML = '';\n",
              "          dataTable['output_type'] = 'display_data';\n",
              "          await google.colab.output.renderOutput(dataTable, element);\n",
              "          const docLink = document.createElement('div');\n",
              "          docLink.innerHTML = docLinkHtml;\n",
              "          element.appendChild(docLink);\n",
              "        }\n",
              "      </script>\n",
              "    </div>\n",
              "  </div>\n",
              "  "
            ]
          },
          "metadata": {},
          "execution_count": 75
        }
      ]
    },
    {
      "cell_type": "markdown",
      "source": [
        "# Hyper Parameter Tuning"
      ],
      "metadata": {
        "id": "S8kh3ezhzrQk"
      }
    },
    {
      "cell_type": "markdown",
      "source": [
        "## Hyper Parameter Tuning for Logistic Regression"
      ],
      "metadata": {
        "id": "oOulEyHczzmj"
      }
    },
    {
      "cell_type": "code",
      "source": [
        "model = LogisticRegression()\n",
        "grid_vals = {'C': [0.001,0.01,0.1,1]}\n",
        "grid_lr = GridSearchCV(estimator=model, param_grid=grid_vals, scoring='accuracy', \n",
        "                       cv=6, refit=True, return_train_score=True) "
      ],
      "metadata": {
        "id": "8MvTbGtoNHdt"
      },
      "execution_count": 78,
      "outputs": []
    },
    {
      "cell_type": "code",
      "source": [
        "grid_lr.fit(X_train_scaled, y_train)"
      ],
      "metadata": {
        "colab": {
          "base_uri": "https://localhost:8080/"
        },
        "id": "lNE0Ebkp0ko7",
        "outputId": "29abc3f9-cfbc-456f-a7f9-93207d95766b"
      },
      "execution_count": 79,
      "outputs": [
        {
          "output_type": "execute_result",
          "data": {
            "text/plain": [
              "GridSearchCV(cv=6, estimator=LogisticRegression(),\n",
              "             param_grid={'C': [0.001, 0.01, 0.1, 1]}, return_train_score=True,\n",
              "             scoring='accuracy')"
            ]
          },
          "metadata": {},
          "execution_count": 79
        }
      ]
    },
    {
      "cell_type": "code",
      "source": [
        "print(grid_lr.best_estimator_)\n",
        "print(grid_lr.best_params_)\n",
        "print(grid_lr.best_index_)\n",
        "print(grid_lr.best_score_)"
      ],
      "metadata": {
        "colab": {
          "base_uri": "https://localhost:8080/"
        },
        "id": "SBzuzt8B0tG_",
        "outputId": "36f50aa0-d1ba-4f33-d79b-02fbd4958791"
      },
      "execution_count": 81,
      "outputs": [
        {
          "output_type": "stream",
          "name": "stdout",
          "text": [
            "LogisticRegression(C=0.1)\n",
            "{'C': 0.1}\n",
            "2\n",
            "0.9415024630541873\n"
          ]
        }
      ]
    },
    {
      "cell_type": "markdown",
      "source": [
        "## Hyper Parameter Tuning for Random Forest"
      ],
      "metadata": {
        "id": "_5LAnYU51kgk"
      }
    },
    {
      "cell_type": "code",
      "source": [
        "model_rf = RandomForestClassifier()\n",
        "grid_vals_rf = {'n_estimators' : [50,100,150,200], 'max_depth' : [3,5,7,9], 'n_jobs' : [3,5]}\n",
        "grid_rf = GridSearchCV(estimator=model_rf, param_grid=grid_vals_rf, scoring='accuracy', \n",
        "                       cv=6, refit=True, return_train_score=True) "
      ],
      "metadata": {
        "id": "mEo6MQxc1E6s"
      },
      "execution_count": 83,
      "outputs": []
    },
    {
      "cell_type": "code",
      "source": [
        "grid_rf.fit(X_train, y_train)"
      ],
      "metadata": {
        "colab": {
          "base_uri": "https://localhost:8080/"
        },
        "id": "1Iqwd_9T2P-I",
        "outputId": "acafa2a0-0351-4d36-e32f-b249aba5f423"
      },
      "execution_count": 84,
      "outputs": [
        {
          "output_type": "execute_result",
          "data": {
            "text/plain": [
              "GridSearchCV(cv=6, estimator=RandomForestClassifier(),\n",
              "             param_grid={'max_depth': [3, 5, 7, 9],\n",
              "                         'n_estimators': [50, 100, 150, 200],\n",
              "                         'n_jobs': [3, 5]},\n",
              "             return_train_score=True, scoring='accuracy')"
            ]
          },
          "metadata": {},
          "execution_count": 84
        }
      ]
    },
    {
      "cell_type": "code",
      "source": [
        "print(grid_rf.best_estimator_)\n",
        "print(grid_rf.best_params_)\n",
        "print(grid_rf.best_index_)\n",
        "print(grid_rf.best_score_)"
      ],
      "metadata": {
        "colab": {
          "base_uri": "https://localhost:8080/"
        },
        "id": "5FA4mw_T2e4K",
        "outputId": "71a7d02c-6f89-423a-d35d-fd6ec6ccff4c"
      },
      "execution_count": 85,
      "outputs": [
        {
          "output_type": "stream",
          "name": "stdout",
          "text": [
            "RandomForestClassifier(max_depth=5, n_jobs=3)\n",
            "{'max_depth': 5, 'n_estimators': 100, 'n_jobs': 3}\n",
            "10\n",
            "0.9883004926108375\n"
          ]
        }
      ]
    },
    {
      "cell_type": "code",
      "source": [
        "y_pred_rf = grid_rf.best_estimator_.predict(X_test)\n",
        "print(\"Accuracy Score : \", accuracy_score(y_test, y_pred_rf))\n",
        "print(\"Precision Score : \", precision_score(y_test, y_pred_rf, average='macro'))\n",
        "print(\"Recall Score : \", recall_score(y_test, y_pred_rf, average='macro'))\n",
        "print(\"F1 Score : \", f1_score(y_test, y_pred_rf, average='macro'))"
      ],
      "metadata": {
        "colab": {
          "base_uri": "https://localhost:8080/"
        },
        "id": "6x1GnlkL3fSM",
        "outputId": "dd2b8c51-ef1e-4c2f-e8e3-dde923c13653"
      },
      "execution_count": 86,
      "outputs": [
        {
          "output_type": "stream",
          "name": "stdout",
          "text": [
            "Accuracy Score :  0.972972972972973\n",
            "Precision Score :  0.9743589743589743\n",
            "Recall Score :  0.972972972972973\n",
            "F1 Score :  0.972953216374269\n"
          ]
        }
      ]
    },
    {
      "cell_type": "markdown",
      "source": [
        "## Hyper Parameter Tuning for Decision Trees"
      ],
      "metadata": {
        "id": "5Ph0vedaA237"
      }
    },
    {
      "cell_type": "code",
      "source": [
        "model_dt = DecisionTreeClassifier()\n",
        "grid_vals_dt = {'max_depth': [2, 3, 5, 10, 20],\n",
        "    'min_samples_leaf': [5, 10, 20, 50, 100],\n",
        "    'criterion': [\"gini\", \"entropy\"]}\n",
        "grid_dt = GridSearchCV(estimator=model_dt, param_grid=grid_vals_dt, scoring='accuracy', \n",
        "                       cv=6, refit=True, return_train_score=True) "
      ],
      "metadata": {
        "id": "OLzkVcNAE5Xo"
      },
      "execution_count": 89,
      "outputs": []
    },
    {
      "cell_type": "code",
      "source": [
        "grid_dt.fit(X_train, y_train)"
      ],
      "metadata": {
        "colab": {
          "base_uri": "https://localhost:8080/"
        },
        "id": "5XQGRJWnFINY",
        "outputId": "53046837-17bd-4cc0-cdbc-748fb52f4061"
      },
      "execution_count": 90,
      "outputs": [
        {
          "output_type": "execute_result",
          "data": {
            "text/plain": [
              "GridSearchCV(cv=6, estimator=DecisionTreeClassifier(),\n",
              "             param_grid={'criterion': ['gini', 'entropy'],\n",
              "                         'max_depth': [2, 3, 5, 10, 20],\n",
              "                         'min_samples_leaf': [5, 10, 20, 50, 100]},\n",
              "             return_train_score=True, scoring='accuracy')"
            ]
          },
          "metadata": {},
          "execution_count": 90
        }
      ]
    },
    {
      "cell_type": "code",
      "source": [
        "print(grid_dt.best_estimator_)\n",
        "print(grid_dt.best_params_)\n",
        "print(grid_dt.best_index_)\n",
        "print(grid_dt.best_score_)"
      ],
      "metadata": {
        "colab": {
          "base_uri": "https://localhost:8080/"
        },
        "id": "xW2CGZOhFHoB",
        "outputId": "5581aa60-ebcc-4272-c1aa-898067ba9dcc"
      },
      "execution_count": 91,
      "outputs": [
        {
          "output_type": "stream",
          "name": "stdout",
          "text": [
            "DecisionTreeClassifier(max_depth=2, min_samples_leaf=10)\n",
            "{'criterion': 'gini', 'max_depth': 2, 'min_samples_leaf': 10}\n",
            "1\n",
            "0.9825533661740559\n"
          ]
        }
      ]
    },
    {
      "cell_type": "code",
      "source": [
        "y_pred_dt = grid_dt.best_estimator_.predict(X_test)\n",
        "print(\"Accuracy Score : \", accuracy_score(y_test, y_pred_dt))\n",
        "print(\"Precision Score : \", precision_score(y_test, y_pred_dt, average='macro'))\n",
        "print(\"Recall Score : \", recall_score(y_test, y_pred_dt, average='macro'))\n",
        "print(\"F1 Score : \", f1_score(y_test, y_pred_dt, average='macro'))"
      ],
      "metadata": {
        "colab": {
          "base_uri": "https://localhost:8080/"
        },
        "id": "qVsKilkFFHSs",
        "outputId": "7898966d-7534-4b99-d195-98a1cd04da1f"
      },
      "execution_count": 92,
      "outputs": [
        {
          "output_type": "stream",
          "name": "stdout",
          "text": [
            "Accuracy Score :  0.9594594594594594\n",
            "Precision Score :  0.9625\n",
            "Recall Score :  0.9594594594594594\n",
            "F1 Score :  0.9593927199561003\n"
          ]
        }
      ]
    },
    {
      "cell_type": "markdown",
      "source": [
        "# Model Save"
      ],
      "metadata": {
        "id": "OOEDaSkFAWB3"
      }
    },
    {
      "cell_type": "markdown",
      "source": [
        "Based on the hyper parameter tuning, we could see that the random forest model works well. So we are picking it up and saving the model"
      ],
      "metadata": {
        "id": "gH8E3vjXAby2"
      }
    },
    {
      "cell_type": "code",
      "source": [
        "filename = 'model_rf.pkl'\n",
        "pickle.dump(grid_rf.best_estimator_, open(filename, 'wb'))"
      ],
      "metadata": {
        "id": "SHAjrGAp5FYy"
      },
      "execution_count": 88,
      "outputs": []
    },
    {
      "cell_type": "code",
      "source": [
        ""
      ],
      "metadata": {
        "id": "xNwfGwKVACiG"
      },
      "execution_count": null,
      "outputs": []
    }
  ]
}